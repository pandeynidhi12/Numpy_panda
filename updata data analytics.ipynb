{
 "cells": [
  {
   "cell_type": "code",
   "execution_count": 427,
   "id": "195a8d80-f876-463f-963f-9662de076676",
   "metadata": {},
   "outputs": [],
   "source": [
    "#8-05-2024\n",
    "# NUMPY=NUMPY MEANS NUMERICAL PYTHON.NUMPY IS A PYTHON LIBRARY.NUMPY IS A MATHEMATICAL FUNCTION.\n",
    "# ARRAY IS A SINGLE TYPE DATA.LIST IS DYNAMIC.ARRAY IS STATIC.ARRAY IS INMUTABLE.LIST IS MUTABLE.\n",
    "import numpy as np"
   ]
  },
  {
   "cell_type": "code",
   "execution_count": 428,
   "id": "facee37d-04ea-42d6-9983-e755f56c927c",
   "metadata": {},
   "outputs": [
    {
     "data": {
      "text/plain": [
       "array([4, 5, 6, 7, 1, 2, 3, 9, 3, 7, 8, 9])"
      ]
     },
     "execution_count": 428,
     "metadata": {},
     "output_type": "execute_result"
    }
   ],
   "source": [
    "s=np.array([4,5,6,7,1,2,3,9,3,7,8,9])\n",
    "s"
   ]
  },
  {
   "cell_type": "code",
   "execution_count": 429,
   "id": "3c8742d5-186f-45f4-8984-e87cca9c9735",
   "metadata": {},
   "outputs": [
    {
     "data": {
      "text/plain": [
       "numpy.ndarray"
      ]
     },
     "execution_count": 429,
     "metadata": {},
     "output_type": "execute_result"
    }
   ],
   "source": [
    "type(s)"
   ]
  },
  {
   "cell_type": "code",
   "execution_count": 430,
   "id": "256c282f-b88c-4d06-a484-7670c31d231d",
   "metadata": {},
   "outputs": [
    {
     "data": {
      "text/plain": [
       "1"
      ]
     },
     "execution_count": 430,
     "metadata": {},
     "output_type": "execute_result"
    }
   ],
   "source": [
    "s.ndim"
   ]
  },
  {
   "cell_type": "code",
   "execution_count": 431,
   "id": "2ca5b912-9119-4399-84d9-485d855fec94",
   "metadata": {},
   "outputs": [
    {
     "data": {
      "text/plain": [
       "array([1, 2, 3, 3, 4, 5, 6, 7, 7, 8, 9, 9])"
      ]
     },
     "execution_count": 431,
     "metadata": {},
     "output_type": "execute_result"
    }
   ],
   "source": [
    "np.sort(s)"
   ]
  },
  {
   "cell_type": "code",
   "execution_count": 432,
   "id": "5dddb3f0-b8d7-4f03-8982-e834c9104a77",
   "metadata": {},
   "outputs": [
    {
     "data": {
      "text/plain": [
       "64"
      ]
     },
     "execution_count": 432,
     "metadata": {},
     "output_type": "execute_result"
    }
   ],
   "source": [
    "np.sum(s)"
   ]
  },
  {
   "cell_type": "code",
   "execution_count": 433,
   "id": "0144741c-fdf4-4e6b-b0b4-3325a515676f",
   "metadata": {},
   "outputs": [
    {
     "data": {
      "text/plain": [
       "9"
      ]
     },
     "execution_count": 433,
     "metadata": {},
     "output_type": "execute_result"
    }
   ],
   "source": [
    "np.max(s)"
   ]
  },
  {
   "cell_type": "code",
   "execution_count": 434,
   "id": "95eb296d-b6ed-4e4d-a22a-2e250e5eea98",
   "metadata": {},
   "outputs": [
    {
     "data": {
      "text/plain": [
       "1"
      ]
     },
     "execution_count": 434,
     "metadata": {},
     "output_type": "execute_result"
    }
   ],
   "source": [
    "np.min(s)"
   ]
  },
  {
   "cell_type": "code",
   "execution_count": 435,
   "id": "baf8646b-0707-449e-bbe4-55b92a1dd6b9",
   "metadata": {},
   "outputs": [],
   "source": [
    "# MEAN[SAARE KO ADD PHIR DIVISION] , MEDIAN[ONLY CENTRAL VALUE GIVEN] , MODE[REPEATED VALUE] (imp):\n",
    "#MEAN(AVERAGE):TOTAL SUM OF ALL VALUES DIVIDED BY THE NUMBER OF VALUES.ISSE DATA KA CENTRAL TENDENCY MEASURE KIYA JATA HAI.\n",
    "#MEDIAN(MIDDLE VALUE):MEDIAN WO VALUE HOTI HAI JO DATASET KO ARRANGE KRNE PR EXACT CENTER ME AATI HAI.\n",
    "#MODE(REPEATED VALUE):MODE WO VALUE HOTI HAI JO DATASET ME SBSE JYDA BAR ATI HAI."
   ]
  },
  {
   "cell_type": "code",
   "execution_count": 436,
   "id": "284fac55-a8f2-4896-9e23-66a7137601cf",
   "metadata": {},
   "outputs": [
    {
     "data": {
      "text/plain": [
       "5.5"
      ]
     },
     "execution_count": 436,
     "metadata": {},
     "output_type": "execute_result"
    }
   ],
   "source": [
    "np.median(s)"
   ]
  },
  {
   "cell_type": "code",
   "execution_count": 437,
   "id": "1cf7d42b-a9d4-4dea-b11c-afd4971357ba",
   "metadata": {},
   "outputs": [
    {
     "data": {
      "text/plain": [
       "5.333333333333333"
      ]
     },
     "execution_count": 437,
     "metadata": {},
     "output_type": "execute_result"
    }
   ],
   "source": [
    "np.mean(s)"
   ]
  },
  {
   "cell_type": "code",
   "execution_count": 438,
   "id": "379935e8-a8b2-498c-86c0-560e6f77f091",
   "metadata": {},
   "outputs": [
    {
     "data": {
      "text/plain": [
       "array([2.        , 2.23606798, 2.44948974, 2.64575131, 1.        ,\n",
       "       1.41421356, 1.73205081, 3.        , 1.73205081, 2.64575131,\n",
       "       2.82842712, 3.        ])"
      ]
     },
     "execution_count": 438,
     "metadata": {},
     "output_type": "execute_result"
    }
   ],
   "source": [
    "np.sqrt(s)"
   ]
  },
  {
   "cell_type": "code",
   "execution_count": 439,
   "id": "4b7d1506-4f15-4ee1-91b0-a822daa89dd2",
   "metadata": {},
   "outputs": [
    {
     "data": {
      "text/plain": [
       "array([1.58740105, 1.70997595, 1.81712059, 1.91293118, 1.        ,\n",
       "       1.25992105, 1.44224957, 2.08008382, 1.44224957, 1.91293118,\n",
       "       2.        , 2.08008382])"
      ]
     },
     "execution_count": 439,
     "metadata": {},
     "output_type": "execute_result"
    }
   ],
   "source": [
    "np.cbrt(s)"
   ]
  },
  {
   "cell_type": "code",
   "execution_count": 440,
   "id": "1ec24b98-f78f-4a57-a824-6b6ce60c4c4a",
   "metadata": {},
   "outputs": [
    {
     "data": {
      "text/plain": [
       "array([4, 5, 6, 7, 1, 2, 3, 9, 3, 7, 8, 9])"
      ]
     },
     "execution_count": 440,
     "metadata": {},
     "output_type": "execute_result"
    }
   ],
   "source": [
    "s"
   ]
  },
  {
   "cell_type": "code",
   "execution_count": 441,
   "id": "40890d1c-5dd4-4873-9f95-60442759e7c1",
   "metadata": {},
   "outputs": [
    {
     "data": {
      "text/plain": [
       "array([6, 7, 1, 2])"
      ]
     },
     "execution_count": 441,
     "metadata": {},
     "output_type": "execute_result"
    }
   ],
   "source": [
    "s[2:6]"
   ]
  },
  {
   "cell_type": "code",
   "execution_count": 442,
   "id": "9ede570d-4fa8-4349-9ca5-f076fdc070e7",
   "metadata": {},
   "outputs": [
    {
     "data": {
      "text/plain": [
       "array([9, 8, 7, 3, 9, 3, 2, 1, 7, 6, 5, 4])"
      ]
     },
     "execution_count": 442,
     "metadata": {},
     "output_type": "execute_result"
    }
   ],
   "source": [
    "s[::-1]"
   ]
  },
  {
   "cell_type": "code",
   "execution_count": 443,
   "id": "ab7ba1b7-3697-4684-807c-c471b4de6074",
   "metadata": {},
   "outputs": [
    {
     "data": {
      "text/plain": [
       "array([4, 5, 6, 7, 1, 2, 3, 9, 3, 7, 8, 9])"
      ]
     },
     "execution_count": 443,
     "metadata": {},
     "output_type": "execute_result"
    }
   ],
   "source": [
    "s"
   ]
  },
  {
   "cell_type": "code",
   "execution_count": 444,
   "id": "29d0f85d-48fa-429e-b1a0-131a2f6b772e",
   "metadata": {},
   "outputs": [
    {
     "data": {
      "text/plain": [
       "array([ 4,  5,  6, 66,  7,  1,  2,  3,  9,  3,  7,  8,  9])"
      ]
     },
     "execution_count": 444,
     "metadata": {},
     "output_type": "execute_result"
    }
   ],
   "source": [
    "np.insert(s,3,66)"
   ]
  },
  {
   "cell_type": "code",
   "execution_count": 445,
   "id": "479240ff-c91b-4689-9435-4be4ce38344b",
   "metadata": {},
   "outputs": [
    {
     "data": {
      "text/plain": [
       "array([4, 5, 6, 7, 1, 2, 3, 9, 3, 7, 8, 9])"
      ]
     },
     "execution_count": 445,
     "metadata": {},
     "output_type": "execute_result"
    }
   ],
   "source": [
    "s"
   ]
  },
  {
   "cell_type": "code",
   "execution_count": 446,
   "id": "073de0fa-fb6e-4344-9021-cdd9f1da8401",
   "metadata": {},
   "outputs": [
    {
     "data": {
      "text/plain": [
       "(array([2], dtype=int64),)"
      ]
     },
     "execution_count": 446,
     "metadata": {},
     "output_type": "execute_result"
    }
   ],
   "source": [
    "np.where(s==6)"
   ]
  },
  {
   "cell_type": "code",
   "execution_count": 447,
   "id": "e9bc8ad7-9e69-4e25-954e-27b26fde9db0",
   "metadata": {},
   "outputs": [
    {
     "data": {
      "text/plain": [
       "(array([3, 9], dtype=int64),)"
      ]
     },
     "execution_count": 447,
     "metadata": {},
     "output_type": "execute_result"
    }
   ],
   "source": [
    "np.where(s==7)"
   ]
  },
  {
   "cell_type": "code",
   "execution_count": 448,
   "id": "02508c67-ae2a-4db3-b259-07985331cec0",
   "metadata": {},
   "outputs": [
    {
     "data": {
      "text/plain": [
       "array([4, 5, 6, 7, 1, 2, 3, 9, 3, 7, 8, 9])"
      ]
     },
     "execution_count": 448,
     "metadata": {},
     "output_type": "execute_result"
    }
   ],
   "source": [
    "s"
   ]
  },
  {
   "cell_type": "code",
   "execution_count": 449,
   "id": "c86960fa-33a1-4615-b0ae-ea22ec305315",
   "metadata": {},
   "outputs": [],
   "source": [
    "#any=ANY MEANS koi ek value bhi agar true/false hui to wo true/false show krega\n",
    "#all=saari value true/false  honi chahie usi ke according wo uska output deta hai\n"
   ]
  },
  {
   "cell_type": "code",
   "execution_count": 450,
   "id": "2234f2da-ac67-4ca5-8443-064f6b63ac25",
   "metadata": {},
   "outputs": [
    {
     "data": {
      "text/plain": [
       "False"
      ]
     },
     "execution_count": 450,
     "metadata": {},
     "output_type": "execute_result"
    }
   ],
   "source": [
    "np.all(s>8)"
   ]
  },
  {
   "cell_type": "code",
   "execution_count": 451,
   "id": "f78db565-3216-42d5-a14c-88d7c61a8905",
   "metadata": {},
   "outputs": [
    {
     "data": {
      "text/plain": [
       "True"
      ]
     },
     "execution_count": 451,
     "metadata": {},
     "output_type": "execute_result"
    }
   ],
   "source": [
    "np.all(s>0)"
   ]
  },
  {
   "cell_type": "code",
   "execution_count": 452,
   "id": "b1abce4c-4957-495a-bcfe-74940456d26b",
   "metadata": {},
   "outputs": [
    {
     "data": {
      "text/plain": [
       "True"
      ]
     },
     "execution_count": 452,
     "metadata": {},
     "output_type": "execute_result"
    }
   ],
   "source": [
    "np.any(s>8)"
   ]
  },
  {
   "cell_type": "code",
   "execution_count": 453,
   "id": "bb9aeba5-ac2c-4f7b-80e1-84cdf69af89e",
   "metadata": {},
   "outputs": [
    {
     "data": {
      "text/plain": [
       "False"
      ]
     },
     "execution_count": 453,
     "metadata": {},
     "output_type": "execute_result"
    }
   ],
   "source": [
    "np.any(s>25)"
   ]
  },
  {
   "cell_type": "code",
   "execution_count": 454,
   "id": "bfe220e4-e6aa-496b-9913-0647e1a3351b",
   "metadata": {},
   "outputs": [
    {
     "data": {
      "text/plain": [
       "array([4, 5, 6, 7, 1, 2, 3, 9, 3, 7, 8, 9])"
      ]
     },
     "execution_count": 454,
     "metadata": {},
     "output_type": "execute_result"
    }
   ],
   "source": [
    "s"
   ]
  },
  {
   "cell_type": "code",
   "execution_count": 455,
   "id": "381b3da6-efb9-4c29-89d0-0130d2a0e763",
   "metadata": {},
   "outputs": [
    {
     "data": {
      "text/plain": [
       "6.888888888888888"
      ]
     },
     "execution_count": 455,
     "metadata": {},
     "output_type": "execute_result"
    }
   ],
   "source": [
    "#VARIANCE(VAR):VARIANCE EK STATISTICAL CONCEPT HAI JO DATA POINTS KE BICH KI DISPERSION(ISKA MTLB HOTA HAI KI DATA POINTS KITNI \n",
    "# ALAG ALAG YA KITNI DUR HAI EK DUSRE SE)KO MEASURE KRTA HAI.KAM VARIANCE KA MTLB HAI KI DATA POINTS EK DUSRE KE BHUT KARIB HAI AUR JYDA VARIANCE KA\n",
    "#MTLB HAI KI  DATA POINTS EK DUSRE SE  KAAFI DUR HAI.\n",
    "\n",
    "np.var(s)"
   ]
  },
  {
   "cell_type": "code",
   "execution_count": 456,
   "id": "22b2641b-935a-4a70-8f55-e0df91a200fa",
   "metadata": {},
   "outputs": [
    {
     "data": {
      "text/plain": [
       "[1, 1, 1, 1, 1, 1, 1, 1, 1, 1, 1]"
      ]
     },
     "execution_count": 456,
     "metadata": {},
     "output_type": "execute_result"
    }
   ],
   "source": [
    "y=[1,1,1,1,1,1,1,1,1,1,1]\n",
    "y"
   ]
  },
  {
   "cell_type": "code",
   "execution_count": 457,
   "id": "a9b0d965-3ae6-4656-bdbc-da5f840c505e",
   "metadata": {},
   "outputs": [
    {
     "data": {
      "text/plain": [
       "0.0"
      ]
     },
     "execution_count": 457,
     "metadata": {},
     "output_type": "execute_result"
    }
   ],
   "source": [
    "np.var(y)"
   ]
  },
  {
   "cell_type": "code",
   "execution_count": 458,
   "id": "922bb476-956f-47ba-b578-57c6079d8884",
   "metadata": {},
   "outputs": [
    {
     "data": {
      "text/plain": [
       "array([4, 5, 6, 7, 1, 2, 3, 9, 3, 7, 8, 9])"
      ]
     },
     "execution_count": 458,
     "metadata": {},
     "output_type": "execute_result"
    }
   ],
   "source": [
    "s"
   ]
  },
  {
   "cell_type": "code",
   "execution_count": 459,
   "id": "80e4878c-dd6a-4bf3-8dbf-836645106f2b",
   "metadata": {},
   "outputs": [
    {
     "name": "stdout",
     "output_type": "stream",
     "text": [
      "9\n"
     ]
    }
   ],
   "source": [
    "print(s[-1])"
   ]
  },
  {
   "cell_type": "code",
   "execution_count": 460,
   "id": "53337930-9af8-4e45-89d3-bb600744580f",
   "metadata": {},
   "outputs": [
    {
     "data": {
      "text/plain": [
       "array([4, 5, 6, 7, 1, 2, 3, 9, 3, 7, 8, 9])"
      ]
     },
     "execution_count": 460,
     "metadata": {},
     "output_type": "execute_result"
    }
   ],
   "source": [
    "s"
   ]
  },
  {
   "cell_type": "code",
   "execution_count": 461,
   "id": "36719a96-2718-4c35-9cbc-58d1c10e4dc1",
   "metadata": {},
   "outputs": [
    {
     "data": {
      "text/plain": [
       "12"
      ]
     },
     "execution_count": 461,
     "metadata": {},
     "output_type": "execute_result"
    }
   ],
   "source": [
    "len(s)"
   ]
  },
  {
   "cell_type": "code",
   "execution_count": 462,
   "id": "2104b244-f7d5-4196-a404-c2c3eff3dc70",
   "metadata": {},
   "outputs": [
    {
     "data": {
      "text/plain": [
       "1"
      ]
     },
     "execution_count": 462,
     "metadata": {},
     "output_type": "execute_result"
    }
   ],
   "source": [
    "s.ndim"
   ]
  },
  {
   "cell_type": "code",
   "execution_count": 463,
   "id": "2789d86a-b440-472c-8dea-0517dbf8bf05",
   "metadata": {},
   "outputs": [
    {
     "name": "stdout",
     "output_type": "stream",
     "text": [
      "6\n"
     ]
    }
   ],
   "source": [
    "print(s[2])"
   ]
  },
  {
   "cell_type": "code",
   "execution_count": 464,
   "id": "0820b82e-c969-48f8-b59c-ec0d51ad2f3d",
   "metadata": {},
   "outputs": [
    {
     "data": {
      "text/plain": [
       "array([[4, 5, 6, 7],\n",
       "       [1, 2, 3, 9],\n",
       "       [3, 7, 8, 9]])"
      ]
     },
     "execution_count": 464,
     "metadata": {},
     "output_type": "execute_result"
    }
   ],
   "source": [
    "g=np.reshape(s,(3,4))\n",
    "g"
   ]
  },
  {
   "cell_type": "code",
   "execution_count": 465,
   "id": "d41eb11e-ee9a-4926-96fd-13392160e1b5",
   "metadata": {},
   "outputs": [
    {
     "data": {
      "text/plain": [
       "2"
      ]
     },
     "execution_count": 465,
     "metadata": {},
     "output_type": "execute_result"
    }
   ],
   "source": [
    "g.ndim"
   ]
  },
  {
   "cell_type": "code",
   "execution_count": 466,
   "id": "4706e508-9411-4519-8564-56b3f902eb3e",
   "metadata": {},
   "outputs": [
    {
     "data": {
      "text/plain": [
       "(3, 4)"
      ]
     },
     "execution_count": 466,
     "metadata": {},
     "output_type": "execute_result"
    }
   ],
   "source": [
    "g.shape"
   ]
  },
  {
   "cell_type": "code",
   "execution_count": 467,
   "id": "25adcc68-80fc-45c9-b357-c624f2c273f8",
   "metadata": {},
   "outputs": [
    {
     "data": {
      "text/plain": [
       "array([[4, 5, 6, 7],\n",
       "       [1, 2, 3, 9],\n",
       "       [3, 7, 8, 9]])"
      ]
     },
     "execution_count": 467,
     "metadata": {},
     "output_type": "execute_result"
    }
   ],
   "source": [
    "g"
   ]
  },
  {
   "cell_type": "code",
   "execution_count": 468,
   "id": "d39a4e98-3078-4088-8cf4-ebb69c6ac241",
   "metadata": {},
   "outputs": [],
   "source": [
    "#FLATTEN=FLATTEN EK METHOD HOTA HAI JO 2D ARRAY KO MULTIARRAY ME CONVERT KRTA HAI"
   ]
  },
  {
   "cell_type": "code",
   "execution_count": 469,
   "id": "325130aa-58c4-4705-b8d7-cc375b4a099b",
   "metadata": {},
   "outputs": [
    {
     "data": {
      "text/plain": [
       "array([4, 5, 6, 7, 1, 2, 3, 9, 3, 7, 8, 9])"
      ]
     },
     "execution_count": 469,
     "metadata": {},
     "output_type": "execute_result"
    }
   ],
   "source": [
    "g.flatten()"
   ]
  },
  {
   "cell_type": "code",
   "execution_count": 470,
   "id": "68b93a6b-9eed-4726-852a-6c161663be67",
   "metadata": {},
   "outputs": [
    {
     "data": {
      "text/plain": [
       "array([[4, 5, 6, 7],\n",
       "       [1, 2, 3, 9],\n",
       "       [3, 7, 8, 9]])"
      ]
     },
     "execution_count": 470,
     "metadata": {},
     "output_type": "execute_result"
    }
   ],
   "source": [
    "g"
   ]
  },
  {
   "cell_type": "code",
   "execution_count": 471,
   "id": "e82cdcc4-cb03-40d2-a212-4832e6ca2b1a",
   "metadata": {},
   "outputs": [
    {
     "data": {
      "text/plain": [
       "64"
      ]
     },
     "execution_count": 471,
     "metadata": {},
     "output_type": "execute_result"
    }
   ],
   "source": [
    "np.sum(g)"
   ]
  },
  {
   "cell_type": "code",
   "execution_count": 472,
   "id": "d27133e7-3933-4735-9711-add5dc7f8736",
   "metadata": {},
   "outputs": [
    {
     "data": {
      "text/plain": [
       "9"
      ]
     },
     "execution_count": 472,
     "metadata": {},
     "output_type": "execute_result"
    }
   ],
   "source": [
    "np.max(g)"
   ]
  },
  {
   "cell_type": "code",
   "execution_count": 473,
   "id": "5369f046-dd6b-43a2-a09e-09ab7ce916d0",
   "metadata": {},
   "outputs": [
    {
     "data": {
      "text/plain": [
       "1"
      ]
     },
     "execution_count": 473,
     "metadata": {},
     "output_type": "execute_result"
    }
   ],
   "source": [
    "np.min(g)"
   ]
  },
  {
   "cell_type": "code",
   "execution_count": 474,
   "id": "d1e757d3-0680-4cac-9b4e-10582060a089",
   "metadata": {},
   "outputs": [
    {
     "data": {
      "text/plain": [
       "array([[4, 5, 6, 7],\n",
       "       [1, 2, 3, 9],\n",
       "       [3, 7, 8, 9]])"
      ]
     },
     "execution_count": 474,
     "metadata": {},
     "output_type": "execute_result"
    }
   ],
   "source": [
    "g"
   ]
  },
  {
   "cell_type": "code",
   "execution_count": 475,
   "id": "c1da9f55-0af2-4ccb-ab89-a57cb3199751",
   "metadata": {},
   "outputs": [],
   "source": [
    "# T=TRANSPOSE OF MATRIX.MEANS JO ROW HAI USKO COLUMN ME AUR JO COLUMN HAI USKO ROW ME CONVERT KRTA HAI"
   ]
  },
  {
   "cell_type": "code",
   "execution_count": 476,
   "id": "00566dd0-fc80-42b8-85dd-2658a0041f14",
   "metadata": {},
   "outputs": [
    {
     "data": {
      "text/plain": [
       "array([[4, 1, 3],\n",
       "       [5, 2, 7],\n",
       "       [6, 3, 8],\n",
       "       [7, 9, 9]])"
      ]
     },
     "execution_count": 476,
     "metadata": {},
     "output_type": "execute_result"
    }
   ],
   "source": [
    "g.T"
   ]
  },
  {
   "cell_type": "code",
   "execution_count": 477,
   "id": "cd314f0f-cc72-49d9-87d2-19d5d19846cd",
   "metadata": {},
   "outputs": [
    {
     "data": {
      "text/plain": [
       "array([[4, 5, 6, 7],\n",
       "       [1, 2, 3, 9],\n",
       "       [3, 7, 8, 9]])"
      ]
     },
     "execution_count": 477,
     "metadata": {},
     "output_type": "execute_result"
    }
   ],
   "source": [
    "g"
   ]
  },
  {
   "cell_type": "code",
   "execution_count": 478,
   "id": "1c16ff42-1aaa-4ecc-b8cc-671704aad077",
   "metadata": {},
   "outputs": [
    {
     "data": {
      "text/plain": [
       "array([[4, 5, 6],\n",
       "       [2, 3, 4],\n",
       "       [1, 9, 5]])"
      ]
     },
     "execution_count": 478,
     "metadata": {},
     "output_type": "execute_result"
    }
   ],
   "source": [
    "t=np.array([[4,5,6],[2,3,4],[1,9,5]])\n",
    "t"
   ]
  },
  {
   "cell_type": "code",
   "execution_count": 479,
   "id": "a957a643-2a6f-47b3-9b18-2062b2b110ba",
   "metadata": {},
   "outputs": [
    {
     "data": {
      "text/plain": [
       "array([[4, 5, 6],\n",
       "       [2, 3, 1],\n",
       "       [3, 3, 1]])"
      ]
     },
     "execution_count": 479,
     "metadata": {},
     "output_type": "execute_result"
    }
   ],
   "source": [
    "t2=np.array([[4,5,6],[2,3,1],[3,3,1]])\n",
    "t2"
   ]
  },
  {
   "cell_type": "code",
   "execution_count": 480,
   "id": "5a0c1b57-ea68-46a7-8e35-e7ea540e7766",
   "metadata": {},
   "outputs": [
    {
     "data": {
      "text/plain": [
       "array([[4, 5, 6],\n",
       "       [2, 3, 4],\n",
       "       [1, 9, 5]])"
      ]
     },
     "execution_count": 480,
     "metadata": {},
     "output_type": "execute_result"
    }
   ],
   "source": [
    "t"
   ]
  },
  {
   "cell_type": "code",
   "execution_count": 481,
   "id": "2a2a351e-7515-48ab-bf36-3cb6cae5a5f5",
   "metadata": {},
   "outputs": [
    {
     "data": {
      "text/plain": [
       "array([[4, 5, 6],\n",
       "       [2, 3, 1],\n",
       "       [3, 3, 1]])"
      ]
     },
     "execution_count": 481,
     "metadata": {},
     "output_type": "execute_result"
    }
   ],
   "source": [
    "t2"
   ]
  },
  {
   "cell_type": "code",
   "execution_count": 482,
   "id": "522c185f-795e-47f8-bd37-828e017d7101",
   "metadata": {},
   "outputs": [
    {
     "data": {
      "text/plain": [
       "array([[ 8, 10, 12],\n",
       "       [ 4,  6,  5],\n",
       "       [ 4, 12,  6]])"
      ]
     },
     "execution_count": 482,
     "metadata": {},
     "output_type": "execute_result"
    }
   ],
   "source": [
    "t+t2"
   ]
  },
  {
   "cell_type": "code",
   "execution_count": 483,
   "id": "2a69f164-b14e-450b-af04-25739711b916",
   "metadata": {},
   "outputs": [
    {
     "data": {
      "text/plain": [
       "array([[ 0,  0,  0],\n",
       "       [ 0,  0,  3],\n",
       "       [-2,  6,  4]])"
      ]
     },
     "execution_count": 483,
     "metadata": {},
     "output_type": "execute_result"
    }
   ],
   "source": [
    "t-t2"
   ]
  },
  {
   "cell_type": "code",
   "execution_count": 484,
   "id": "d9a67436-1f31-4ec5-84ae-40630a6b3989",
   "metadata": {},
   "outputs": [
    {
     "data": {
      "text/plain": [
       "array([[1.        , 1.        , 1.        ],\n",
       "       [1.        , 1.        , 4.        ],\n",
       "       [0.33333333, 3.        , 5.        ]])"
      ]
     },
     "execution_count": 484,
     "metadata": {},
     "output_type": "execute_result"
    }
   ],
   "source": [
    "t/t2"
   ]
  },
  {
   "cell_type": "code",
   "execution_count": 485,
   "id": "176b476b-c8b6-4b72-a22d-a7e5b5a92551",
   "metadata": {},
   "outputs": [
    {
     "data": {
      "text/plain": [
       "(3, 3)"
      ]
     },
     "execution_count": 485,
     "metadata": {},
     "output_type": "execute_result"
    }
   ],
   "source": [
    "t.shape"
   ]
  },
  {
   "cell_type": "code",
   "execution_count": 486,
   "id": "6f065c66-9ead-412d-9f5d-5e941300a7aa",
   "metadata": {},
   "outputs": [
    {
     "data": {
      "text/plain": [
       "(3, 3)"
      ]
     },
     "execution_count": 486,
     "metadata": {},
     "output_type": "execute_result"
    }
   ],
   "source": [
    "t2.shape"
   ]
  },
  {
   "cell_type": "code",
   "execution_count": 487,
   "id": "2f420f84-ebfe-4629-879d-b8e669183300",
   "metadata": {},
   "outputs": [
    {
     "data": {
      "text/plain": [
       "array([[ 8, 10, 12],\n",
       "       [ 4,  6,  5],\n",
       "       [ 4, 12,  6]])"
      ]
     },
     "execution_count": 487,
     "metadata": {},
     "output_type": "execute_result"
    }
   ],
   "source": [
    "t+t2"
   ]
  },
  {
   "cell_type": "code",
   "execution_count": 488,
   "id": "e3d9024a-a7d1-4424-bea5-35474e3bfb50",
   "metadata": {},
   "outputs": [
    {
     "data": {
      "text/plain": [
       "array([[5, 6, 7],\n",
       "       [1, 2, 3]])"
      ]
     },
     "execution_count": 488,
     "metadata": {},
     "output_type": "execute_result"
    }
   ],
   "source": [
    "t3=np.array([[5,6,7],[1,2,3]])\n",
    "t3"
   ]
  },
  {
   "cell_type": "code",
   "execution_count": 489,
   "id": "d455d588-137c-4236-a600-82bac50d6a7d",
   "metadata": {},
   "outputs": [
    {
     "data": {
      "text/plain": [
       "array([[4, 5, 6],\n",
       "       [2, 3, 4],\n",
       "       [1, 9, 5]])"
      ]
     },
     "execution_count": 489,
     "metadata": {},
     "output_type": "execute_result"
    }
   ],
   "source": [
    "t"
   ]
  },
  {
   "cell_type": "code",
   "execution_count": 490,
   "id": "9f72b05f-0a12-40cf-ad2e-241a564f9bf8",
   "metadata": {},
   "outputs": [
    {
     "data": {
      "text/plain": [
       "array([[4, 5, 6],\n",
       "       [2, 3, 1],\n",
       "       [3, 3, 1]])"
      ]
     },
     "execution_count": 490,
     "metadata": {},
     "output_type": "execute_result"
    }
   ],
   "source": [
    "t2"
   ]
  },
  {
   "cell_type": "code",
   "execution_count": 491,
   "id": "922e5244-16ca-4f0c-a985-1c9f326fbdec",
   "metadata": {},
   "outputs": [
    {
     "data": {
      "text/plain": [
       "array([[ 8, 10, 12],\n",
       "       [ 4,  6,  5],\n",
       "       [ 4, 12,  6]])"
      ]
     },
     "execution_count": 491,
     "metadata": {},
     "output_type": "execute_result"
    }
   ],
   "source": [
    "np.add(t,t2)"
   ]
  },
  {
   "cell_type": "code",
   "execution_count": 492,
   "id": "4b389214-88c3-4a91-adcd-b919fb55d47e",
   "metadata": {},
   "outputs": [
    {
     "data": {
      "text/plain": [
       "array([[ 0,  0,  0],\n",
       "       [ 0,  0,  3],\n",
       "       [-2,  6,  4]])"
      ]
     },
     "execution_count": 492,
     "metadata": {},
     "output_type": "execute_result"
    }
   ],
   "source": [
    "np.subtract(t,t2)"
   ]
  },
  {
   "cell_type": "code",
   "execution_count": 493,
   "id": "4082782b-4f09-4b00-b8e6-86eb9681367f",
   "metadata": {},
   "outputs": [
    {
     "data": {
      "text/plain": [
       "array([[4, 5, 6],\n",
       "       [2, 3, 4],\n",
       "       [1, 9, 5]])"
      ]
     },
     "execution_count": 493,
     "metadata": {},
     "output_type": "execute_result"
    }
   ],
   "source": [
    "t"
   ]
  },
  {
   "cell_type": "code",
   "execution_count": 494,
   "id": "8afffa29-6e92-41e0-b7c6-075f1dbba5fc",
   "metadata": {},
   "outputs": [],
   "source": [
    "#dot=DOT MEANS FACTOR MULTIPLICATION."
   ]
  },
  {
   "cell_type": "code",
   "execution_count": 495,
   "id": "41b6bc85-487e-4739-be01-176dcf5ff32c",
   "metadata": {},
   "outputs": [
    {
     "data": {
      "text/plain": [
       "array([[44, 53, 35],\n",
       "       [26, 31, 19],\n",
       "       [37, 47, 20]])"
      ]
     },
     "execution_count": 495,
     "metadata": {},
     "output_type": "execute_result"
    }
   ],
   "source": [
    "np.dot(t,t2)"
   ]
  },
  {
   "cell_type": "code",
   "execution_count": 496,
   "id": "9639bac7-1732-4301-b557-d2ce29e3573d",
   "metadata": {},
   "outputs": [
    {
     "data": {
      "text/plain": [
       "[5, 6, 66, 7, 8]"
      ]
     },
     "execution_count": 496,
     "metadata": {},
     "output_type": "execute_result"
    }
   ],
   "source": [
    "k=[5,6,7,8]\n",
    "k.insert(2,66)\n",
    "k"
   ]
  },
  {
   "cell_type": "code",
   "execution_count": 497,
   "id": "2d1daf2d-970e-4b6f-a2c0-d3c9138f2530",
   "metadata": {},
   "outputs": [
    {
     "data": {
      "text/plain": [
       "array([1, 3, 2, 8, 4, 6])"
      ]
     },
     "execution_count": 497,
     "metadata": {},
     "output_type": "execute_result"
    }
   ],
   "source": [
    "import numpy as np\n",
    "g=np.array([1,3,2,8,4,6])\n",
    "g"
   ]
  },
  {
   "cell_type": "code",
   "execution_count": 498,
   "id": "c13d84ed-ed0a-4778-934d-56e9b76049ba",
   "metadata": {},
   "outputs": [
    {
     "data": {
      "text/plain": [
       "array([ 1,  3, 77,  2,  8,  4,  6])"
      ]
     },
     "execution_count": 498,
     "metadata": {},
     "output_type": "execute_result"
    }
   ],
   "source": [
    "np.insert(g,2,77)"
   ]
  },
  {
   "cell_type": "code",
   "execution_count": 499,
   "id": "e09b8305-c596-42bf-ba2c-7cc4afea14a9",
   "metadata": {},
   "outputs": [
    {
     "data": {
      "text/plain": [
       "array([1, 3, 2, 8, 4, 6])"
      ]
     },
     "execution_count": 499,
     "metadata": {},
     "output_type": "execute_result"
    }
   ],
   "source": [
    "g"
   ]
  },
  {
   "cell_type": "code",
   "execution_count": 500,
   "id": "c9a4835e-d66d-4e32-9845-27d1ba70aa80",
   "metadata": {},
   "outputs": [
    {
     "data": {
      "text/plain": [
       "5.666666666666667"
      ]
     },
     "execution_count": 500,
     "metadata": {},
     "output_type": "execute_result"
    }
   ],
   "source": [
    "np.var(g)"
   ]
  },
  {
   "cell_type": "code",
   "execution_count": 501,
   "id": "a4163de6-1ae4-4f6a-87f7-5e9072cba05b",
   "metadata": {},
   "outputs": [
    {
     "data": {
      "text/plain": [
       "4.0"
      ]
     },
     "execution_count": 501,
     "metadata": {},
     "output_type": "execute_result"
    }
   ],
   "source": [
    "s=np.mean(g)\n",
    "s"
   ]
  },
  {
   "cell_type": "code",
   "execution_count": 502,
   "id": "a9988c4e-7f4b-4a12-9394-74e62961ddd4",
   "metadata": {},
   "outputs": [
    {
     "data": {
      "text/plain": [
       "array([ 3.,  1.,  2., -4.,  0., -2.])"
      ]
     },
     "execution_count": 502,
     "metadata": {},
     "output_type": "execute_result"
    }
   ],
   "source": [
    "t=s-g\n",
    "t"
   ]
  },
  {
   "cell_type": "code",
   "execution_count": 503,
   "id": "65fc0dcb-bd7a-4ab3-828e-0800defcbb67",
   "metadata": {},
   "outputs": [
    {
     "data": {
      "text/plain": [
       "array([ 9.,  1.,  4., 16.,  0.,  4.])"
      ]
     },
     "execution_count": 503,
     "metadata": {},
     "output_type": "execute_result"
    }
   ],
   "source": [
    "n=t**2\n",
    "n"
   ]
  },
  {
   "cell_type": "code",
   "execution_count": 504,
   "id": "b74e857a-7f81-4ceb-b7d2-47d8965f11c6",
   "metadata": {},
   "outputs": [
    {
     "data": {
      "text/plain": [
       "5.666666666666667"
      ]
     },
     "execution_count": 504,
     "metadata": {},
     "output_type": "execute_result"
    }
   ],
   "source": [
    "sum(n)/len(n)"
   ]
  },
  {
   "cell_type": "code",
   "execution_count": 505,
   "id": "c10016e3-22c2-4cf5-ba4a-5b1ec9d90811",
   "metadata": {},
   "outputs": [],
   "source": [
    "import numpy as np"
   ]
  },
  {
   "cell_type": "code",
   "execution_count": 506,
   "id": "2b100b53-7ad7-415c-bbcd-75e32e1be7bd",
   "metadata": {},
   "outputs": [
    {
     "data": {
      "text/plain": [
       "[2000, 3000, 4000, 5000]"
      ]
     },
     "execution_count": 506,
     "metadata": {},
     "output_type": "execute_result"
    }
   ],
   "source": [
    "t=[2000,3000,4000,5000]\n",
    "t"
   ]
  },
  {
   "cell_type": "code",
   "execution_count": 507,
   "id": "113338c7-0933-4c1d-ab11-fef429a09e09",
   "metadata": {},
   "outputs": [],
   "source": [
    "b=[]\n",
    "for i in t:\n",
    "    p=i+50\n",
    "    b.append(p)\n",
    "    "
   ]
  },
  {
   "cell_type": "code",
   "execution_count": 508,
   "id": "e666dcee-9ef1-4e60-8af7-0079283bf8ea",
   "metadata": {},
   "outputs": [
    {
     "data": {
      "text/plain": [
       "[2050, 3050, 4050, 5050]"
      ]
     },
     "execution_count": 508,
     "metadata": {},
     "output_type": "execute_result"
    }
   ],
   "source": [
    "b"
   ]
  },
  {
   "cell_type": "code",
   "execution_count": 509,
   "id": "bb32a19b-c4df-4e45-bbd5-98f2fd538033",
   "metadata": {},
   "outputs": [
    {
     "data": {
      "text/plain": [
       "array([2000, 3000, 4000, 5000])"
      ]
     },
     "execution_count": 509,
     "metadata": {},
     "output_type": "execute_result"
    }
   ],
   "source": [
    "m=np.array([2000,3000,4000,5000])\n",
    "m"
   ]
  },
  {
   "cell_type": "code",
   "execution_count": 510,
   "id": "49403a70-d66d-4799-bab9-c6203375f970",
   "metadata": {},
   "outputs": [
    {
     "data": {
      "text/plain": [
       "array([2050, 3050, 4050, 5050])"
      ]
     },
     "execution_count": 510,
     "metadata": {},
     "output_type": "execute_result"
    }
   ],
   "source": [
    "m+50"
   ]
  },
  {
   "cell_type": "code",
   "execution_count": 511,
   "id": "bc01e00a-544d-4f89-a3c7-fbc0279673aa",
   "metadata": {},
   "outputs": [
    {
     "data": {
      "text/plain": [
       "array([360., 540., 720., 900.])"
      ]
     },
     "execution_count": 511,
     "metadata": {},
     "output_type": "execute_result"
    }
   ],
   "source": [
    "m*18/100"
   ]
  },
  {
   "cell_type": "code",
   "execution_count": 512,
   "id": "94b98413-e03c-4bb7-b194-55395e49ae52",
   "metadata": {},
   "outputs": [],
   "source": [
    "#1 bracket multiarray ke liye hoti hai aur 2 bracket 2d array ke liye hota hai."
   ]
  },
  {
   "cell_type": "code",
   "execution_count": 513,
   "id": "c8cd952a-b7c1-44d6-9249-0266cf63fe1d",
   "metadata": {},
   "outputs": [
    {
     "data": {
      "text/plain": [
       "array([[2, 1, 4],\n",
       "       [4, 3, 6],\n",
       "       [9, 5, 4]])"
      ]
     },
     "execution_count": 513,
     "metadata": {},
     "output_type": "execute_result"
    }
   ],
   "source": [
    "s=np.array([[2,1,4],[4,3,6],[9,5,4]])\n",
    "s"
   ]
  },
  {
   "cell_type": "code",
   "execution_count": 514,
   "id": "d376b2e1-8fb8-4be3-a78d-0d5b63c4ba57",
   "metadata": {},
   "outputs": [
    {
     "data": {
      "text/plain": [
       "2"
      ]
     },
     "execution_count": 514,
     "metadata": {},
     "output_type": "execute_result"
    }
   ],
   "source": [
    "s.ndim"
   ]
  },
  {
   "cell_type": "code",
   "execution_count": 515,
   "id": "9855eaff-4a3c-46d9-8c9a-5f8e385ccc1f",
   "metadata": {},
   "outputs": [
    {
     "data": {
      "text/plain": [
       "array([15,  9, 14])"
      ]
     },
     "execution_count": 515,
     "metadata": {},
     "output_type": "execute_result"
    }
   ],
   "source": [
    "sum(s)    "
   ]
  },
  {
   "cell_type": "code",
   "execution_count": 516,
   "id": "2cadf170-5b0f-45a7-a7b4-629e6dc8a2aa",
   "metadata": {},
   "outputs": [
    {
     "ename": "SyntaxError",
     "evalue": "cannot assign to function call here. Maybe you meant '==' instead of '='? (2178216475.py, line 1)",
     "output_type": "error",
     "traceback": [
      "\u001b[1;36m  Cell \u001b[1;32mIn[516], line 1\u001b[1;36m\u001b[0m\n\u001b[1;33m    sum(s)=iska mtlb hai ki isme jo add kiya wo column wise kiya hai na ki row wise\u001b[0m\n\u001b[1;37m    ^\u001b[0m\n\u001b[1;31mSyntaxError\u001b[0m\u001b[1;31m:\u001b[0m cannot assign to function call here. Maybe you meant '==' instead of '='?\n"
     ]
    }
   ],
   "source": [
    "sum(s)=iska mtlb hai ki isme jo add kiya wo column wise kiya hai na ki row wise"
   ]
  },
  {
   "cell_type": "code",
   "execution_count": null,
   "id": "3334013c-6ae6-477a-8b15-145f313172ab",
   "metadata": {},
   "outputs": [],
   "source": [
    "s"
   ]
  },
  {
   "cell_type": "code",
   "execution_count": null,
   "id": "b1963fd7-0075-4201-8030-05a96d1e7778",
   "metadata": {},
   "outputs": [],
   "source": [
    "np.sum(s)"
   ]
  },
  {
   "cell_type": "code",
   "execution_count": null,
   "id": "ead0b17c-f2a6-4f4c-bcfd-699010771c5c",
   "metadata": {},
   "outputs": [],
   "source": [
    "np.sum(s,axis=0)"
   ]
  },
  {
   "cell_type": "code",
   "execution_count": null,
   "id": "04000aef-7a69-46c6-afc8-f862bd5a8be4",
   "metadata": {},
   "outputs": [],
   "source": [
    "#axis=0 means column & axis=1 means rows"
   ]
  },
  {
   "cell_type": "code",
   "execution_count": null,
   "id": "88b9bfa3-975b-45a9-bc4e-e3814650dbc9",
   "metadata": {},
   "outputs": [],
   "source": [
    "np.sum(s,axis=1)"
   ]
  },
  {
   "cell_type": "code",
   "execution_count": null,
   "id": "0fe4ae6d-aef4-45c0-84a1-b8382d023ed5",
   "metadata": {},
   "outputs": [],
   "source": [
    "s"
   ]
  },
  {
   "cell_type": "code",
   "execution_count": null,
   "id": "ac6ee384-fdd9-4120-a9ac-8dfc52dfc91c",
   "metadata": {},
   "outputs": [],
   "source": [
    "np.max(s,axis=0)"
   ]
  },
  {
   "cell_type": "code",
   "execution_count": null,
   "id": "ff5cf327-b4f7-455b-b8fa-ca65a08ac544",
   "metadata": {},
   "outputs": [],
   "source": [
    "np.min(s,axis=1)"
   ]
  },
  {
   "cell_type": "code",
   "execution_count": null,
   "id": "7a9b5719-8fb5-4574-9d0f-284ede9c0564",
   "metadata": {},
   "outputs": [],
   "source": [
    "np.sort(s,axis=1)"
   ]
  },
  {
   "cell_type": "code",
   "execution_count": null,
   "id": "f8ef282f-ae85-4f64-9007-196a98e8e85c",
   "metadata": {},
   "outputs": [],
   "source": [
    "np.sort(s,axis=0)"
   ]
  },
  {
   "cell_type": "code",
   "execution_count": null,
   "id": "4a94b307-5b76-4bfe-872c-55099ab609ed",
   "metadata": {},
   "outputs": [],
   "source": [
    "# cumsum=cumsum means cumulative sum."
   ]
  },
  {
   "cell_type": "code",
   "execution_count": null,
   "id": "db3368b5-61ba-44fb-8c0b-8254be56141d",
   "metadata": {},
   "outputs": [],
   "source": [
    "np.cumsum(s,axis=0)"
   ]
  },
  {
   "cell_type": "code",
   "execution_count": null,
   "id": "ad863654-08f9-43af-8570-4a592e9c2761",
   "metadata": {},
   "outputs": [],
   "source": [
    "######0 axis=column\n",
    "np.cumsum(s,axis=0)"
   ]
  },
  {
   "cell_type": "code",
   "execution_count": null,
   "id": "8dc4b131-6f16-4800-825d-42ac2d4bf886",
   "metadata": {},
   "outputs": [],
   "source": [
    "s"
   ]
  },
  {
   "cell_type": "code",
   "execution_count": null,
   "id": "90ee0e77-ccbf-4280-ab20-9d94a0ebf25b",
   "metadata": {},
   "outputs": [],
   "source": [
    "np.cumsum(s)"
   ]
  },
  {
   "cell_type": "code",
   "execution_count": null,
   "id": "416326ee-a9f2-4db5-b7f4-46ca9c1a2a37",
   "metadata": {},
   "outputs": [],
   "source": [
    "s"
   ]
  },
  {
   "cell_type": "code",
   "execution_count": null,
   "id": "fb735488-bb10-4b16-870b-6d472ef8f277",
   "metadata": {},
   "outputs": [],
   "source": [
    "b=np.array([5,4,3,2,6,7,8,1,2])\n",
    "b"
   ]
  },
  {
   "cell_type": "code",
   "execution_count": null,
   "id": "b80e0f97-47b2-42bb-b106-84d4a253e83c",
   "metadata": {},
   "outputs": [],
   "source": [
    "b[::-1]"
   ]
  },
  {
   "cell_type": "code",
   "execution_count": null,
   "id": "e8da0845-7601-4919-98de-b24bf8ec7ee0",
   "metadata": {},
   "outputs": [],
   "source": [
    "s[::-1]"
   ]
  },
  {
   "cell_type": "code",
   "execution_count": null,
   "id": "16ae63ab-ab89-4f9e-84a8-a4a33335bd47",
   "metadata": {},
   "outputs": [],
   "source": [
    "s[::,::-1]"
   ]
  },
  {
   "cell_type": "code",
   "execution_count": null,
   "id": "7456b55a-7fc7-4cfd-b2dd-2d7cee343621",
   "metadata": {},
   "outputs": [],
   "source": [
    "s"
   ]
  },
  {
   "cell_type": "code",
   "execution_count": null,
   "id": "bac6eaf9-5f56-4e16-9c8e-deace99c3ce1",
   "metadata": {},
   "outputs": [],
   "source": [
    "s[0:2,1:3]"
   ]
  },
  {
   "cell_type": "code",
   "execution_count": null,
   "id": "858fb418-6e37-4140-a8eb-365733f20e47",
   "metadata": {},
   "outputs": [],
   "source": [
    "##############29-5-2024#############"
   ]
  },
  {
   "cell_type": "code",
   "execution_count": null,
   "id": "da4cce1c-8ce2-4870-8022-1adc58e5b5d8",
   "metadata": {},
   "outputs": [],
   "source": [
    "s"
   ]
  },
  {
   "cell_type": "code",
   "execution_count": null,
   "id": "9ca740df-e62e-4408-9f7c-bd71dd7b7d22",
   "metadata": {},
   "outputs": [],
   "source": [
    "np.eye(3,3)"
   ]
  },
  {
   "cell_type": "code",
   "execution_count": null,
   "id": "d386b122-fd95-47bf-bb08-e1ed0672519c",
   "metadata": {},
   "outputs": [],
   "source": [
    "np.zeros((3,3))"
   ]
  },
  {
   "cell_type": "code",
   "execution_count": null,
   "id": "60371297-17f0-46d6-b112-8bfa04ccc738",
   "metadata": {},
   "outputs": [],
   "source": [
    "np.ones((3,3))"
   ]
  },
  {
   "cell_type": "code",
   "execution_count": null,
   "id": "88dffbe4-8f1e-46a7-9059-0646185ccf41",
   "metadata": {},
   "outputs": [],
   "source": [
    "np.linalg.det(s)"
   ]
  },
  {
   "cell_type": "code",
   "execution_count": null,
   "id": "b769dfae-dcc8-4c60-8c62-a4bab826bc5d",
   "metadata": {},
   "outputs": [],
   "source": [
    "np.linalg.inv(s)"
   ]
  },
  {
   "cell_type": "code",
   "execution_count": null,
   "id": "51f89193-c615-49e0-bd1d-e9b93ed729bb",
   "metadata": {},
   "outputs": [],
   "source": [
    "np.linalg.matrix_power(s,2)"
   ]
  },
  {
   "cell_type": "code",
   "execution_count": null,
   "id": "2a244279-50bd-4bed-8dfe-56640d165cbe",
   "metadata": {},
   "outputs": [],
   "source": [
    "np.linalg.matrix_rank(s)"
   ]
  },
  {
   "cell_type": "code",
   "execution_count": null,
   "id": "7b59c869-f1e6-4a76-b913-e9aeec8f532d",
   "metadata": {},
   "outputs": [],
   "source": [
    "s"
   ]
  },
  {
   "cell_type": "code",
   "execution_count": null,
   "id": "9326ec87-0ced-477f-b549-da51f357a6bf",
   "metadata": {},
   "outputs": [],
   "source": [
    "np.unique(s)"
   ]
  },
  {
   "cell_type": "code",
   "execution_count": null,
   "id": "dbc1cd19-30ae-4ed6-b399-dd6575ade0da",
   "metadata": {},
   "outputs": [],
   "source": [
    "s"
   ]
  },
  {
   "cell_type": "code",
   "execution_count": null,
   "id": "f30135a1-57ec-4a80-a0d9-689242b0bb60",
   "metadata": {},
   "outputs": [],
   "source": [
    "h=np.array([[5,6,3],[1,4,5],[5,3,2]])\n",
    "h"
   ]
  },
  {
   "cell_type": "code",
   "execution_count": null,
   "id": "74598ce5-db37-4a69-b024-736e5a7cdd6e",
   "metadata": {},
   "outputs": [],
   "source": [
    "np.union1d(s,h)"
   ]
  },
  {
   "cell_type": "code",
   "execution_count": null,
   "id": "3458fd87-d68c-4f96-99df-c93c3ac8f297",
   "metadata": {},
   "outputs": [],
   "source": [
    "s"
   ]
  },
  {
   "cell_type": "code",
   "execution_count": null,
   "id": "e9f6532f-f4a9-400c-80cc-7db51476fd6b",
   "metadata": {},
   "outputs": [],
   "source": [
    "h"
   ]
  },
  {
   "cell_type": "code",
   "execution_count": null,
   "id": "18ed1ba1-9abc-43c9-a4bb-c80b2864dfbb",
   "metadata": {},
   "outputs": [],
   "source": [
    "h2=np.array([[5,6],[1,4],[5,3]])\n",
    "h2"
   ]
  },
  {
   "cell_type": "code",
   "execution_count": null,
   "id": "015fc74d-94d9-4e0a-be7d-7c16028d1411",
   "metadata": {},
   "outputs": [],
   "source": [
    "np.vstack((h,s))"
   ]
  },
  {
   "cell_type": "code",
   "execution_count": null,
   "id": "cb3c27ce-3dd4-40cf-a65e-14865e912609",
   "metadata": {},
   "outputs": [],
   "source": [
    "np.vstack((h2,s))"
   ]
  },
  {
   "cell_type": "code",
   "execution_count": null,
   "id": "cf9fc95c-c260-404a-ac25-88ba4d3603c3",
   "metadata": {},
   "outputs": [],
   "source": [
    "np.hstack((h2,s))"
   ]
  },
  {
   "cell_type": "code",
   "execution_count": null,
   "id": "5e507655-ed68-452b-92d3-8896699c96e8",
   "metadata": {},
   "outputs": [],
   "source": [
    "s"
   ]
  },
  {
   "cell_type": "code",
   "execution_count": null,
   "id": "ef46a6f1-905b-42a3-a2b3-9d96773b648d",
   "metadata": {},
   "outputs": [],
   "source": [
    "np.any(s>5)"
   ]
  },
  {
   "cell_type": "code",
   "execution_count": null,
   "id": "ddaa67d0-9494-471e-8859-2d97af199045",
   "metadata": {},
   "outputs": [],
   "source": [
    "np.all(s>5)"
   ]
  },
  {
   "cell_type": "code",
   "execution_count": null,
   "id": "aae3daf2-25ce-4077-97f7-2919b2b06d17",
   "metadata": {},
   "outputs": [],
   "source": [
    "v=np.array([4,5,6])\n",
    "v"
   ]
  },
  {
   "cell_type": "code",
   "execution_count": null,
   "id": "fc165385-b257-4bbb-a11a-0a92d3a94d99",
   "metadata": {},
   "outputs": [],
   "source": [
    "v2=np.array([4,3,1])\n",
    "v2"
   ]
  },
  {
   "cell_type": "code",
   "execution_count": null,
   "id": "9d170896-23f6-413f-b089-71afe4747be2",
   "metadata": {},
   "outputs": [],
   "source": [
    "np.equal(v,v2).all()"
   ]
  },
  {
   "cell_type": "code",
   "execution_count": null,
   "id": "227cd4bf-7bb0-42d4-b4ac-6fdbfb10ff1c",
   "metadata": {},
   "outputs": [],
   "source": [
    "s=np.random.randint(0,10,size=5)\n",
    "s"
   ]
  },
  {
   "cell_type": "code",
   "execution_count": null,
   "id": "ad49cab1-b918-450b-9dce-fc3459f20cbf",
   "metadata": {},
   "outputs": [],
   "source": [
    "s2=np.random.randint(0,10,size=(3,4))\n",
    "s2"
   ]
  },
  {
   "cell_type": "code",
   "execution_count": null,
   "id": "c05c711f-29a8-401e-bfd7-ac95404b90f1",
   "metadata": {},
   "outputs": [],
   "source": [
    "h"
   ]
  },
  {
   "cell_type": "code",
   "execution_count": null,
   "id": "f783a052-90e8-4fd4-bb7e-e9cfc92e19d7",
   "metadata": {},
   "outputs": [],
   "source": [
    "np.cumproduct((h))"
   ]
  },
  {
   "cell_type": "code",
   "execution_count": null,
   "id": "fde4ad0a-b977-43d0-a1ae-78b7b9bd661e",
   "metadata": {},
   "outputs": [],
   "source": [
    "h2"
   ]
  },
  {
   "cell_type": "code",
   "execution_count": null,
   "id": "320e982a-68bf-4656-9617-d32fae6632cb",
   "metadata": {},
   "outputs": [],
   "source": [
    "h2.shape"
   ]
  },
  {
   "cell_type": "code",
   "execution_count": null,
   "id": "bfa11fab-2035-450f-8d39-b072bb212c4b",
   "metadata": {},
   "outputs": [],
   "source": [
    "h2.ndim"
   ]
  },
  {
   "cell_type": "code",
   "execution_count": null,
   "id": "9b68d24d-71b1-4d5a-abc4-266d14d6202f",
   "metadata": {},
   "outputs": [],
   "source": [
    "f=np.array([[[4,5,6],[7,8,9],[1,2,3]]])\n",
    "f"
   ]
  },
  {
   "cell_type": "code",
   "execution_count": null,
   "id": "95e36061-4285-4482-b30f-62b393d248b0",
   "metadata": {},
   "outputs": [],
   "source": [
    "f.ndim"
   ]
  },
  {
   "cell_type": "code",
   "execution_count": null,
   "id": "2d79d977-6dc6-4ed6-ade9-5e3de19ca554",
   "metadata": {},
   "outputs": [],
   "source": [
    "f.shape"
   ]
  },
  {
   "cell_type": "code",
   "execution_count": null,
   "id": "e22ed46d-a1db-4b40-8f9b-8f73307529ae",
   "metadata": {},
   "outputs": [],
   "source": [
    "h"
   ]
  },
  {
   "cell_type": "code",
   "execution_count": null,
   "id": "d6383787-f4b4-498e-b246-cf12d0ca40c5",
   "metadata": {},
   "outputs": [],
   "source": [
    "h2"
   ]
  },
  {
   "cell_type": "code",
   "execution_count": null,
   "id": "10e20955-a16a-479b-8dff-f2e0bcdb6a3d",
   "metadata": {},
   "outputs": [],
   "source": [
    "t=np.arange(0,15).reshape(5,3)\n",
    "t"
   ]
  },
  {
   "cell_type": "code",
   "execution_count": null,
   "id": "4607f6aa-90e0-43be-ba5b-d5e10596feb5",
   "metadata": {},
   "outputs": [],
   "source": [
    "h2"
   ]
  },
  {
   "cell_type": "code",
   "execution_count": null,
   "id": "f2b171d7-c9c8-462e-9121-24952e376793",
   "metadata": {},
   "outputs": [],
   "source": [
    "h"
   ]
  },
  {
   "cell_type": "code",
   "execution_count": null,
   "id": "f6fc0157-b9b2-4474-98f6-9c028992e816",
   "metadata": {},
   "outputs": [],
   "source": [
    "h[1][2]=55\n",
    "h"
   ]
  },
  {
   "cell_type": "code",
   "execution_count": null,
   "id": "33520a23-4b75-4d85-8e30-7fc1dfd2ea1a",
   "metadata": {},
   "outputs": [],
   "source": [
    "h"
   ]
  },
  {
   "cell_type": "code",
   "execution_count": null,
   "id": "eefab44a-6e15-47a4-92dd-a95378f9d146",
   "metadata": {},
   "outputs": [],
   "source": [
    "h2"
   ]
  },
  {
   "cell_type": "code",
   "execution_count": null,
   "id": "c792a90c-d0ce-4bfe-b39d-e672dc6e314e",
   "metadata": {},
   "outputs": [],
   "source": [
    "s2"
   ]
  },
  {
   "cell_type": "code",
   "execution_count": null,
   "id": "2f0e116f-f0f2-4c01-a659-84a005c09ddd",
   "metadata": {},
   "outputs": [],
   "source": [
    "t=np.arange(0,30).reshape(2,15)\n",
    "t"
   ]
  },
  {
   "cell_type": "code",
   "execution_count": null,
   "id": "0abad60b-5a85-49e9-b118-dd5c6c7ac296",
   "metadata": {},
   "outputs": [],
   "source": [
    "t.shape"
   ]
  },
  {
   "cell_type": "code",
   "execution_count": null,
   "id": "68f3824a-20d2-4526-9a7e-017424a7e23d",
   "metadata": {},
   "outputs": [],
   "source": [
    "g=np.hsplit(t,3)\n",
    "g"
   ]
  },
  {
   "cell_type": "code",
   "execution_count": null,
   "id": "c3b4a6d6-c8ca-4279-b45c-2870d8a15362",
   "metadata": {},
   "outputs": [],
   "source": [
    "g[0]"
   ]
  },
  {
   "cell_type": "code",
   "execution_count": null,
   "id": "9ba5fb49-c09b-4a90-8b3b-5f123e4be2e3",
   "metadata": {},
   "outputs": [],
   "source": [
    "g[1]"
   ]
  },
  {
   "cell_type": "code",
   "execution_count": null,
   "id": "d8a71841-8af4-49be-ad91-f1fa2b7cb5ea",
   "metadata": {},
   "outputs": [],
   "source": [
    "g[2]"
   ]
  },
  {
   "cell_type": "code",
   "execution_count": null,
   "id": "253c8038-2011-4047-82ad-8d342675cb62",
   "metadata": {},
   "outputs": [],
   "source": [
    "t=np.arange(0,30).reshape(15,2)\n",
    "t"
   ]
  },
  {
   "cell_type": "code",
   "execution_count": null,
   "id": "20d09e00-8d33-4d74-aa0b-cb6a2146a87f",
   "metadata": {},
   "outputs": [],
   "source": [
    "u=np.vsplit(t2,3)\n",
    "u"
   ]
  },
  {
   "cell_type": "code",
   "execution_count": null,
   "id": "6af0901d-3d85-4416-8bbe-ea2402236592",
   "metadata": {},
   "outputs": [],
   "source": [
    "###############14-5-2024###################\n",
    "# pandas=pandas is a inbuilt/predefined/fixed library to manipulate your data ,to analyze your data,calculate your data & any \n",
    "# operation of your data set.it is collecting  your data .\n",
    "# excel &csv diff-csv data :excel file tbhi chalta hai jb excel aapke system ho tb\n",
    "# hi chalega and csv file kisi me bhi kahi bhi khul jaega\n"
   ]
  },
  {
   "cell_type": "code",
   "execution_count": null,
   "id": "907d8fca-be7b-4a50-b358-966cd1cd1499",
   "metadata": {},
   "outputs": [],
   "source": [
    "import pandas as pd\n",
    "df=pd.read_excel(\"C:/Users/admin/OneDrive/Desktop/data.xlsx\")\n",
    "df"
   ]
  },
  {
   "cell_type": "code",
   "execution_count": null,
   "id": "261ee019-795e-4129-b555-cb7b84159994",
   "metadata": {},
   "outputs": [],
   "source": [
    "df2=pd.read_csv(\"C:/Users/admin/OneDrive/Desktop/DAA.csv\")\n",
    "df2"
   ]
  },
  {
   "cell_type": "code",
   "execution_count": null,
   "id": "b73c00cd-32f4-41d5-b2a2-54543127f879",
   "metadata": {},
   "outputs": [],
   "source": [
    "import pymysql as sql\n",
    "import pandas as pd\n",
    "db=sql.connect(host=\"localhost\",user='root',password='india123',db='ducat')\n",
    "df3=pd.read_sql_query(\"select*from batch46\",db)\n",
    "df3"
   ]
  },
  {
   "cell_type": "markdown",
   "id": "eb662f6e-c256-4dce-9bf5-35f3531f17ea",
   "metadata": {},
   "source": [
    "###### 31/5/2024##################"
   ]
  },
  {
   "cell_type": "code",
   "execution_count": null,
   "id": "a207ffa0-81f2-4db1-a3f8-83ecb213e7ec",
   "metadata": {},
   "outputs": [],
   "source": [
    "#json :json ka data hm server side se uthate hai and wahi se copy path krke apne data me paste kr dete hai.\n",
    "# json is a unstructured data.JSON KA DATA DICTIONARY FORM ME HOTA HAI."
   ]
  },
  {
   "cell_type": "code",
   "execution_count": null,
   "id": "b9277b83-0b52-4a69-b690-a585b5fea99f",
   "metadata": {},
   "outputs": [],
   "source": [
    "import pandas as pd\n",
    "url=(\"C:/Users/admin/OneDrive/Desktop/iris.json\")\n",
    "df=pd.read_json(url,orient='column')\n",
    "df"
   ]
  },
  {
   "cell_type": "code",
   "execution_count": null,
   "id": "3441848d-7756-4a01-b091-6ed7c550fb77",
   "metadata": {},
   "outputs": [],
   "source": [
    "url=\"https://raw.githubusercontent.com/domoritz/maps/master/data/iris.json\"\n",
    "df=pd.read_json(url,orient='column')\n",
    "df"
   ]
  },
  {
   "cell_type": "code",
   "execution_count": null,
   "id": "b2c0508e-1742-49b8-abe7-ce7cdfc6e142",
   "metadata": {},
   "outputs": [],
   "source": [
    "import pandas as pd"
   ]
  },
  {
   "cell_type": "code",
   "execution_count": null,
   "id": "503de915-c5bc-4986-aa7f-8a7e8ca13eb4",
   "metadata": {},
   "outputs": [],
   "source": [
    "df"
   ]
  },
  {
   "cell_type": "code",
   "execution_count": null,
   "id": "5d65f81f-54f5-4982-a8e3-add2b1a71ae3",
   "metadata": {},
   "outputs": [],
   "source": [
    "#Head is a inbuilt method.to fetch the top 5 records.head bydefault 5 data uthata hai top se."
   ]
  },
  {
   "cell_type": "code",
   "execution_count": null,
   "id": "0ba8833f-c784-49e4-8cf5-0c40d6e63af9",
   "metadata": {},
   "outputs": [],
   "source": [
    "df.tail()"
   ]
  },
  {
   "cell_type": "code",
   "execution_count": null,
   "id": "f3d44542-4211-402d-95f5-ac06544c5754",
   "metadata": {},
   "outputs": [],
   "source": [
    "df.head()"
   ]
  },
  {
   "cell_type": "code",
   "execution_count": null,
   "id": "8ad49d5b-18f5-4ca7-8a34-7f73f329d5e9",
   "metadata": {},
   "outputs": [],
   "source": [
    "df.head(2)"
   ]
  },
  {
   "cell_type": "code",
   "execution_count": null,
   "id": "7bde2540-0cde-40e9-a2d4-ccbd6a166cff",
   "metadata": {},
   "outputs": [],
   "source": [
    "df.tail(2)"
   ]
  },
  {
   "cell_type": "code",
   "execution_count": null,
   "id": "d308f6e4-f964-462a-85eb-5e63d9a8bb30",
   "metadata": {},
   "outputs": [],
   "source": [
    "import pandas as pd\n",
    "df2=pd.read_csv(\"C:/Users/admin/OneDrive/Desktop/DAA.csv\")\n",
    "df2"
   ]
  },
  {
   "cell_type": "code",
   "execution_count": null,
   "id": "24b87a49-20cc-4de4-b28b-a7ca53918224",
   "metadata": {},
   "outputs": [],
   "source": [
    "df2"
   ]
  },
  {
   "cell_type": "code",
   "execution_count": null,
   "id": "da857e6e-5d3c-4e29-aa8f-071e4c420939",
   "metadata": {},
   "outputs": [],
   "source": [
    "# shape ek inbuilt method hai .jo hmare data ka shape btata hai row and column ka."
   ]
  },
  {
   "cell_type": "code",
   "execution_count": null,
   "id": "06456904-af48-454e-b711-d0c5d9740ed3",
   "metadata": {},
   "outputs": [],
   "source": [
    "df2.shape"
   ]
  },
  {
   "cell_type": "code",
   "execution_count": null,
   "id": "a3949053-45ff-4336-bd79-f833e79706e7",
   "metadata": {},
   "outputs": [],
   "source": [
    "k=[2,3,4,5,6,7,8,9,12,3,44,67,46,23,14,34,25,89]\n",
    "len(k)"
   ]
  },
  {
   "cell_type": "code",
   "execution_count": null,
   "id": "867e48ed-2e81-4ac9-b76f-6da06520e976",
   "metadata": {},
   "outputs": [],
   "source": [
    "# agar he table me column add krna ho tb...."
   ]
  },
  {
   "cell_type": "code",
   "execution_count": null,
   "id": "cd5189da-278c-4204-919c-e3610f04388e",
   "metadata": {},
   "outputs": [],
   "source": [
    "df2['Tax']=k\n",
    "df2"
   ]
  },
  {
   "cell_type": "code",
   "execution_count": null,
   "id": "7f4ada1d-2525-4853-b7b2-65f7f3f70809",
   "metadata": {},
   "outputs": [],
   "source": [
    "df2"
   ]
  },
  {
   "cell_type": "code",
   "execution_count": null,
   "id": "8db884e1-229a-4e3a-880f-f385282d2ca5",
   "metadata": {},
   "outputs": [],
   "source": [
    "# ab hm salary he hisab se tax nikalenege."
   ]
  },
  {
   "cell_type": "code",
   "execution_count": null,
   "id": "b0b0d71e-6f19-4644-82f7-454710f83a7d",
   "metadata": {},
   "outputs": [],
   "source": [
    "df2['Taxsal']=df2['SALARY']*df2['Tax']/100\n",
    "df2"
   ]
  },
  {
   "cell_type": "code",
   "execution_count": null,
   "id": "0c63809e-51fe-4b26-8dfe-d2626ec6bce9",
   "metadata": {},
   "outputs": [],
   "source": [
    "# AB HM SALARY ME SE Taxsal MINUS KREGE AUR BASIC SAL NIKALENGE.."
   ]
  },
  {
   "cell_type": "code",
   "execution_count": null,
   "id": "cefbfb27-2530-41db-b99b-ef1d8bac72b2",
   "metadata": {},
   "outputs": [],
   "source": [
    "df2['Basicsal']=df2['SALARY']-df2['Taxsal']\n",
    "df2"
   ]
  },
  {
   "cell_type": "code",
   "execution_count": null,
   "id": "ebb8cc0f-25b0-40df-934e-f46f04ef2254",
   "metadata": {},
   "outputs": [],
   "source": [
    "# ab hm chahte hai jo row hai wo column ho jae and jo cplumn hai wo row ho jae\n",
    "# df.T-t means Transpose matrix[row=column,column=row]"
   ]
  },
  {
   "cell_type": "code",
   "execution_count": null,
   "id": "074f6079-890d-4098-b53e-74869c79f094",
   "metadata": {},
   "outputs": [],
   "source": [
    "df2.T"
   ]
  },
  {
   "cell_type": "code",
   "execution_count": null,
   "id": "d2d04918-3989-47f3-809f-bf4082cf1b59",
   "metadata": {},
   "outputs": [],
   "source": [
    "df2"
   ]
  },
  {
   "cell_type": "code",
   "execution_count": null,
   "id": "c60c2480-fb8c-4be8-92ee-219f42df433c",
   "metadata": {},
   "outputs": [],
   "source": [
    "# rename of column=agar hme kisi column ka naam change krna ho tb."
   ]
  },
  {
   "cell_type": "code",
   "execution_count": null,
   "id": "4674d649-6eb5-434d-946f-7cb8d29e5449",
   "metadata": {},
   "outputs": [],
   "source": [
    "df2"
   ]
  },
  {
   "cell_type": "code",
   "execution_count": null,
   "id": "0d127bcb-ff62-42a5-9866-2cb4c5b2440d",
   "metadata": {},
   "outputs": [],
   "source": [
    "df2"
   ]
  },
  {
   "cell_type": "code",
   "execution_count": null,
   "id": "0c7ab084-e76b-49a0-ac43-3862fc980a2d",
   "metadata": {},
   "outputs": [],
   "source": [
    "df2.rename(columns={'name':'Name','lastname':'Lastname'},inplace=True)\n",
    "df2"
   ]
  },
  {
   "cell_type": "code",
   "execution_count": null,
   "id": "f6b63ec5-fb13-42ea-b5a3-06dc9ddd725f",
   "metadata": {},
   "outputs": [],
   "source": [
    "df2"
   ]
  },
  {
   "cell_type": "code",
   "execution_count": null,
   "id": "2575ecf5-e9d3-4af8-8b2a-f175c24f8313",
   "metadata": {},
   "outputs": [],
   "source": [
    "# agar hme permanent coulmn changes krna ho tb means fixed name.iske liye use hota hai\n",
    "# inplace:inplace ek parameter hai jo permanent changes krta hai,mtlb ek bar changes ho gya to wo phir waise hi rhega"
   ]
  },
  {
   "cell_type": "code",
   "execution_count": null,
   "id": "aa5fdcf0-a40c-44b5-a74c-b2bb1dddc50d",
   "metadata": {},
   "outputs": [],
   "source": [
    "df2.drop(['Tax','AGE'],axis=1)"
   ]
  },
  {
   "cell_type": "code",
   "execution_count": null,
   "id": "a647293d-f159-43be-a2fb-6f78dc666ebb",
   "metadata": {},
   "outputs": [],
   "source": [
    "# hmesa yaad rakhna numpy me axis-0=column,axis-1=row / pandas me axis-0=row, axis-1=column hota hai"
   ]
  },
  {
   "cell_type": "code",
   "execution_count": null,
   "id": "1e25ccd8-8527-440c-9f28-bda7197e66d3",
   "metadata": {},
   "outputs": [],
   "source": [
    "df2"
   ]
  },
  {
   "cell_type": "code",
   "execution_count": null,
   "id": "642fe957-4e65-4e0b-a9e1-2736f12ce8fd",
   "metadata": {},
   "outputs": [],
   "source": [
    "# ab hm salary ke hisab se rank decide krege.\n",
    "# rank hmesa ascending order ke behalf pr bydefault rank nikalta hai."
   ]
  },
  {
   "cell_type": "code",
   "execution_count": null,
   "id": "9916432e-811b-4b02-b8e9-988586155df5",
   "metadata": {},
   "outputs": [],
   "source": [
    "df2.sort_values(\"NAME\")"
   ]
  },
  {
   "cell_type": "code",
   "execution_count": null,
   "id": "34d75013-0702-437b-90e2-c96971c13d49",
   "metadata": {},
   "outputs": [],
   "source": [
    "df2.sort_values(\"NAME\",ascending=False)"
   ]
  },
  {
   "cell_type": "code",
   "execution_count": null,
   "id": "111f9526-d97c-4181-8625-e2f0dcee5ee4",
   "metadata": {},
   "outputs": [],
   "source": [
    "# rank naam ka column bydefault ascending order ke behalf pr rank nikalta hai"
   ]
  },
  {
   "cell_type": "code",
   "execution_count": null,
   "id": "870b94bd-5735-4746-a883-f2a5751b9a14",
   "metadata": {},
   "outputs": [],
   "source": [
    "df2['rank']=df2['SALARY'].rank()\n",
    "df2"
   ]
  },
  {
   "cell_type": "code",
   "execution_count": null,
   "id": "8812195c-d8f6-4855-a42c-0aa0283f9f51",
   "metadata": {},
   "outputs": [],
   "source": [
    "df2['rank']=df2['SALARY'].rank(ascending=False)\n",
    "df2"
   ]
  },
  {
   "cell_type": "code",
   "execution_count": null,
   "id": "29c4c847-2ed1-470e-aa71-85111d9d4566",
   "metadata": {},
   "outputs": [],
   "source": [
    "# import numpy as np\n",
    "# import pandas as pd\n",
    "df2['rank']=df2['SALARY'].rank(ascending=False).astype(\"int\")\n",
    "df2"
   ]
  },
  {
   "cell_type": "code",
   "execution_count": null,
   "id": "6a18eb2e-a1c4-48cb-913e-d682046378c0",
   "metadata": {},
   "outputs": [],
   "source": [
    "df2.sort_values('SALARY',ascending=False)"
   ]
  },
  {
   "cell_type": "code",
   "execution_count": null,
   "id": "ae867541-dd7c-4423-84cb-3380867fb088",
   "metadata": {},
   "outputs": [],
   "source": [
    "df2.loc[df2['NAME']=='ram',['SALARY']]=67857\n",
    "df2"
   ]
  },
  {
   "cell_type": "code",
   "execution_count": null,
   "id": "9c6f4bd7-9315-4691-8abb-4128f0d91d7a",
   "metadata": {},
   "outputs": [],
   "source": [
    "##########################11/06/2024#####################"
   ]
  },
  {
   "cell_type": "code",
   "execution_count": null,
   "id": "de87f6f3-e2c7-4ecb-82fb-02e3b89cbd0d",
   "metadata": {},
   "outputs": [],
   "source": [
    "df2"
   ]
  },
  {
   "cell_type": "code",
   "execution_count": null,
   "id": "8293ace0-bad8-4f7e-98ef-686c12feea2e",
   "metadata": {},
   "outputs": [],
   "source": [
    "df2['DenseRank']=df2['SALARY'].rank(method='dense',ascending=False).astype('int')\n",
    "df2"
   ]
  },
  {
   "cell_type": "code",
   "execution_count": null,
   "id": "08b61ed4-834a-4bdc-b558-856f6ab3f4df",
   "metadata": {},
   "outputs": [],
   "source": [
    "df2.sort_values('SALARY',ascending=False)"
   ]
  },
  {
   "cell_type": "code",
   "execution_count": null,
   "id": "a6879207-0990-4759-93c0-b8b7401e95ad",
   "metadata": {},
   "outputs": [],
   "source": [
    "df2.sort_values('SALARY',ascending=False).head(1)"
   ]
  },
  {
   "cell_type": "code",
   "execution_count": null,
   "id": "9ed010e3-19ca-459c-8d85-7d651f0cd9a7",
   "metadata": {},
   "outputs": [],
   "source": [
    "df2.sort_values('SALARY',ascending=False).tail(1)"
   ]
  },
  {
   "cell_type": "code",
   "execution_count": null,
   "id": "bcac972a-cbb1-4f1d-843b-a0f3d7c6af89",
   "metadata": {},
   "outputs": [],
   "source": [
    "df2.nlargest(3,'SALARY')"
   ]
  },
  {
   "cell_type": "code",
   "execution_count": null,
   "id": "677dad9d-3f33-43ac-91b3-902cbf4cabba",
   "metadata": {},
   "outputs": [],
   "source": [
    "df2.nsmallest(3,'SALARY')"
   ]
  },
  {
   "cell_type": "code",
   "execution_count": null,
   "id": "3a4bcb50-1a7b-47c3-b2b6-fe71cc400b5b",
   "metadata": {},
   "outputs": [],
   "source": [
    "df2"
   ]
  },
  {
   "cell_type": "code",
   "execution_count": null,
   "id": "e9074556-a887-4ff9-9a0c-1295ea8701a4",
   "metadata": {},
   "outputs": [],
   "source": [
    "k=df2['NAME']\n",
    "k2=list(k)\n",
    "k2"
   ]
  },
  {
   "cell_type": "code",
   "execution_count": null,
   "id": "62f43bd9-238e-47b2-b1f1-1c21fe5d2564",
   "metadata": {},
   "outputs": [],
   "source": [
    "r=[]\n",
    "for i in k2:\n",
    "    n=i.title()\n",
    "    r.append(n)"
   ]
  },
  {
   "cell_type": "code",
   "execution_count": null,
   "id": "c67ce8e9-863e-44a0-92cc-6468cab0416e",
   "metadata": {},
   "outputs": [],
   "source": [
    "r"
   ]
  },
  {
   "cell_type": "code",
   "execution_count": null,
   "id": "2a9f0f2a-64a8-49be-9377-f8f27966e98e",
   "metadata": {},
   "outputs": [],
   "source": [
    "df2['NAME']=r\n",
    "r"
   ]
  },
  {
   "cell_type": "code",
   "execution_count": null,
   "id": "c0de54e9-c9d0-467a-9a58-b522bb9dc2d4",
   "metadata": {},
   "outputs": [],
   "source": [
    "df2"
   ]
  },
  {
   "cell_type": "code",
   "execution_count": null,
   "id": "db934950-5f48-4738-bc52-ec9dc9fa8c7d",
   "metadata": {},
   "outputs": [],
   "source": [
    "df2.drop(['AGE','CONTACT'],axis=1)"
   ]
  },
  {
   "cell_type": "code",
   "execution_count": null,
   "id": "6495f7dc-8d11-49f8-80b4-b7ab17efb210",
   "metadata": {},
   "outputs": [],
   "source": [
    "df2"
   ]
  },
  {
   "cell_type": "code",
   "execution_count": null,
   "id": "f411dcf3-cd49-4941-9a69-58f69c9e7a89",
   "metadata": {},
   "outputs": [],
   "source": [
    "df2.drop([2,5,10,6],axis=0)"
   ]
  },
  {
   "cell_type": "code",
   "execution_count": 517,
   "id": "065e29c2-08a2-4574-8000-1dbfc3acf3b6",
   "metadata": {},
   "outputs": [
    {
     "data": {
      "text/html": [
       "<div>\n",
       "<style scoped>\n",
       "    .dataframe tbody tr th:only-of-type {\n",
       "        vertical-align: middle;\n",
       "    }\n",
       "\n",
       "    .dataframe tbody tr th {\n",
       "        vertical-align: top;\n",
       "    }\n",
       "\n",
       "    .dataframe thead th {\n",
       "        text-align: right;\n",
       "    }\n",
       "</style>\n",
       "<table border=\"1\" class=\"dataframe\">\n",
       "  <thead>\n",
       "    <tr style=\"text-align: right;\">\n",
       "      <th></th>\n",
       "      <th>ID</th>\n",
       "      <th>NAME</th>\n",
       "      <th>LASTNAME</th>\n",
       "      <th>SALARY</th>\n",
       "      <th>CONTACT</th>\n",
       "      <th>AGE</th>\n",
       "      <th>Tax</th>\n",
       "      <th>Taxsal</th>\n",
       "      <th>Basicsal</th>\n",
       "      <th>rank</th>\n",
       "      <th>DenseRank</th>\n",
       "    </tr>\n",
       "  </thead>\n",
       "  <tbody>\n",
       "    <tr>\n",
       "      <th>0</th>\n",
       "      <td>1620</td>\n",
       "      <td>Nidhi</td>\n",
       "      <td>pandey</td>\n",
       "      <td>23453</td>\n",
       "      <td>56983473986</td>\n",
       "      <td>45</td>\n",
       "      <td>2</td>\n",
       "      <td>469.06</td>\n",
       "      <td>22983.94</td>\n",
       "      <td>12</td>\n",
       "      <td>12</td>\n",
       "    </tr>\n",
       "    <tr>\n",
       "      <th>1</th>\n",
       "      <td>1621</td>\n",
       "      <td>Neelu</td>\n",
       "      <td>sharma</td>\n",
       "      <td>12000</td>\n",
       "      <td>986776476</td>\n",
       "      <td>76</td>\n",
       "      <td>3</td>\n",
       "      <td>360.00</td>\n",
       "      <td>11640.00</td>\n",
       "      <td>13</td>\n",
       "      <td>13</td>\n",
       "    </tr>\n",
       "    <tr>\n",
       "      <th>3</th>\n",
       "      <td>1623</td>\n",
       "      <td>Ram</td>\n",
       "      <td>rahim</td>\n",
       "      <td>67857</td>\n",
       "      <td>34564</td>\n",
       "      <td>32</td>\n",
       "      <td>5</td>\n",
       "      <td>232.75</td>\n",
       "      <td>4422.25</td>\n",
       "      <td>6</td>\n",
       "      <td>6</td>\n",
       "    </tr>\n",
       "    <tr>\n",
       "      <th>4</th>\n",
       "      <td>1624</td>\n",
       "      <td>Ravi</td>\n",
       "      <td>rai</td>\n",
       "      <td>4565</td>\n",
       "      <td>445653</td>\n",
       "      <td>34</td>\n",
       "      <td>6</td>\n",
       "      <td>273.90</td>\n",
       "      <td>4291.10</td>\n",
       "      <td>15</td>\n",
       "      <td>15</td>\n",
       "    </tr>\n",
       "    <tr>\n",
       "      <th>7</th>\n",
       "      <td>1627</td>\n",
       "      <td>Amir</td>\n",
       "      <td>sharma</td>\n",
       "      <td>546543</td>\n",
       "      <td>678757</td>\n",
       "      <td>44</td>\n",
       "      <td>9</td>\n",
       "      <td>49188.87</td>\n",
       "      <td>497354.13</td>\n",
       "      <td>1</td>\n",
       "      <td>1</td>\n",
       "    </tr>\n",
       "    <tr>\n",
       "      <th>8</th>\n",
       "      <td>1628</td>\n",
       "      <td>Kajal</td>\n",
       "      <td>shama</td>\n",
       "      <td>5445</td>\n",
       "      <td>67857</td>\n",
       "      <td>45</td>\n",
       "      <td>12</td>\n",
       "      <td>653.40</td>\n",
       "      <td>4791.60</td>\n",
       "      <td>14</td>\n",
       "      <td>14</td>\n",
       "    </tr>\n",
       "    <tr>\n",
       "      <th>9</th>\n",
       "      <td>1629</td>\n",
       "      <td>Karishma</td>\n",
       "      <td>kumari</td>\n",
       "      <td>76654</td>\n",
       "      <td>86675645</td>\n",
       "      <td>76</td>\n",
       "      <td>3</td>\n",
       "      <td>2299.62</td>\n",
       "      <td>74354.38</td>\n",
       "      <td>5</td>\n",
       "      <td>5</td>\n",
       "    </tr>\n",
       "    <tr>\n",
       "      <th>11</th>\n",
       "      <td>1631</td>\n",
       "      <td>Saumya</td>\n",
       "      <td>tiwari</td>\n",
       "      <td>344554</td>\n",
       "      <td>89876565</td>\n",
       "      <td>34</td>\n",
       "      <td>67</td>\n",
       "      <td>230851.18</td>\n",
       "      <td>113702.82</td>\n",
       "      <td>4</td>\n",
       "      <td>4</td>\n",
       "    </tr>\n",
       "    <tr>\n",
       "      <th>12</th>\n",
       "      <td>1632</td>\n",
       "      <td>Pooja</td>\n",
       "      <td>singh</td>\n",
       "      <td>345</td>\n",
       "      <td>568655664</td>\n",
       "      <td>34</td>\n",
       "      <td>46</td>\n",
       "      <td>158.70</td>\n",
       "      <td>186.30</td>\n",
       "      <td>18</td>\n",
       "      <td>18</td>\n",
       "    </tr>\n",
       "    <tr>\n",
       "      <th>13</th>\n",
       "      <td>1633</td>\n",
       "      <td>Sheela</td>\n",
       "      <td>patel</td>\n",
       "      <td>64563</td>\n",
       "      <td>5766556</td>\n",
       "      <td>76</td>\n",
       "      <td>23</td>\n",
       "      <td>14849.49</td>\n",
       "      <td>49713.51</td>\n",
       "      <td>7</td>\n",
       "      <td>7</td>\n",
       "    </tr>\n",
       "    <tr>\n",
       "      <th>14</th>\n",
       "      <td>1634</td>\n",
       "      <td>Diksha</td>\n",
       "      <td>singh</td>\n",
       "      <td>455665</td>\n",
       "      <td>47676544343</td>\n",
       "      <td>65</td>\n",
       "      <td>14</td>\n",
       "      <td>63793.10</td>\n",
       "      <td>391871.90</td>\n",
       "      <td>3</td>\n",
       "      <td>3</td>\n",
       "    </tr>\n",
       "    <tr>\n",
       "      <th>15</th>\n",
       "      <td>1635</td>\n",
       "      <td>Neelu</td>\n",
       "      <td>patel</td>\n",
       "      <td>4554</td>\n",
       "      <td>3445655</td>\n",
       "      <td>54</td>\n",
       "      <td>34</td>\n",
       "      <td>1548.36</td>\n",
       "      <td>3005.64</td>\n",
       "      <td>17</td>\n",
       "      <td>17</td>\n",
       "    </tr>\n",
       "    <tr>\n",
       "      <th>16</th>\n",
       "      <td>1636</td>\n",
       "      <td>Akku</td>\n",
       "      <td>pandey</td>\n",
       "      <td>456654</td>\n",
       "      <td>34455645</td>\n",
       "      <td>32</td>\n",
       "      <td>25</td>\n",
       "      <td>114163.50</td>\n",
       "      <td>342490.50</td>\n",
       "      <td>2</td>\n",
       "      <td>2</td>\n",
       "    </tr>\n",
       "    <tr>\n",
       "      <th>17</th>\n",
       "      <td>1637</td>\n",
       "      <td>Purnima</td>\n",
       "      <td>purvaj</td>\n",
       "      <td>4556</td>\n",
       "      <td>45565645</td>\n",
       "      <td>34</td>\n",
       "      <td>89</td>\n",
       "      <td>4054.84</td>\n",
       "      <td>501.16</td>\n",
       "      <td>16</td>\n",
       "      <td>16</td>\n",
       "    </tr>\n",
       "  </tbody>\n",
       "</table>\n",
       "</div>"
      ],
      "text/plain": [
       "      ID      NAME LASTNAME  SALARY      CONTACT  AGE  Tax     Taxsal  \\\n",
       "0   1620     Nidhi   pandey   23453  56983473986   45    2     469.06   \n",
       "1   1621     Neelu   sharma   12000    986776476   76    3     360.00   \n",
       "3   1623       Ram    rahim   67857        34564   32    5     232.75   \n",
       "4   1624      Ravi      rai    4565       445653   34    6     273.90   \n",
       "7   1627      Amir   sharma  546543       678757   44    9   49188.87   \n",
       "8   1628     Kajal    shama    5445        67857   45   12     653.40   \n",
       "9   1629  Karishma   kumari   76654     86675645   76    3    2299.62   \n",
       "11  1631    Saumya   tiwari  344554     89876565   34   67  230851.18   \n",
       "12  1632     Pooja    singh     345    568655664   34   46     158.70   \n",
       "13  1633    Sheela    patel   64563      5766556   76   23   14849.49   \n",
       "14  1634    Diksha    singh  455665  47676544343   65   14   63793.10   \n",
       "15  1635     Neelu    patel    4554      3445655   54   34    1548.36   \n",
       "16  1636      Akku   pandey  456654     34455645   32   25  114163.50   \n",
       "17  1637   Purnima   purvaj    4556     45565645   34   89    4054.84   \n",
       "\n",
       "     Basicsal  rank  DenseRank  \n",
       "0    22983.94    12         12  \n",
       "1    11640.00    13         13  \n",
       "3     4422.25     6          6  \n",
       "4     4291.10    15         15  \n",
       "7   497354.13     1          1  \n",
       "8     4791.60    14         14  \n",
       "9    74354.38     5          5  \n",
       "11  113702.82     4          4  \n",
       "12     186.30    18         18  \n",
       "13   49713.51     7          7  \n",
       "14  391871.90     3          3  \n",
       "15    3005.64    17         17  \n",
       "16  342490.50     2          2  \n",
       "17     501.16    16         16  "
      ]
     },
     "execution_count": 517,
     "metadata": {},
     "output_type": "execute_result"
    }
   ],
   "source": [
    "df2.drop([2,5,10,6],axis=0)"
   ]
  },
  {
   "cell_type": "code",
   "execution_count": 518,
   "id": "cd1521b4-23b2-48f4-8484-9e3d113b5eb6",
   "metadata": {},
   "outputs": [
    {
     "data": {
      "text/plain": [
       "SALARY    546543.00\n",
       "Taxsal    230851.18\n",
       "dtype: float64"
      ]
     },
     "execution_count": 518,
     "metadata": {},
     "output_type": "execute_result"
    }
   ],
   "source": [
    "df2[['SALARY','Taxsal']].max()"
   ]
  },
  {
   "cell_type": "code",
   "execution_count": 519,
   "id": "c1f362c1-9b8a-4a82-98d7-db3655b210c2",
   "metadata": {},
   "outputs": [
    {
     "data": {
      "text/plain": [
       "SALARY    2223285.00\n",
       "Taxsal     505543.23\n",
       "dtype: float64"
      ]
     },
     "execution_count": 519,
     "metadata": {},
     "output_type": "execute_result"
    }
   ],
   "source": [
    "df2[['SALARY','Taxsal']].sum()"
   ]
  },
  {
   "cell_type": "code",
   "execution_count": 520,
   "id": "b59fa930-9fb6-4281-b9f8-d757f09ede1f",
   "metadata": {},
   "outputs": [
    {
     "data": {
      "text/html": [
       "<div>\n",
       "<style scoped>\n",
       "    .dataframe tbody tr th:only-of-type {\n",
       "        vertical-align: middle;\n",
       "    }\n",
       "\n",
       "    .dataframe tbody tr th {\n",
       "        vertical-align: top;\n",
       "    }\n",
       "\n",
       "    .dataframe thead th {\n",
       "        text-align: right;\n",
       "    }\n",
       "</style>\n",
       "<table border=\"1\" class=\"dataframe\">\n",
       "  <thead>\n",
       "    <tr style=\"text-align: right;\">\n",
       "      <th></th>\n",
       "      <th>Name</th>\n",
       "      <th>hindi</th>\n",
       "      <th>eng</th>\n",
       "      <th>math</th>\n",
       "      <th>art</th>\n",
       "      <th>sci</th>\n",
       "    </tr>\n",
       "  </thead>\n",
       "  <tbody>\n",
       "    <tr>\n",
       "      <th>0</th>\n",
       "      <td>ravi</td>\n",
       "      <td>34</td>\n",
       "      <td>67</td>\n",
       "      <td>89</td>\n",
       "      <td>77</td>\n",
       "      <td>34</td>\n",
       "    </tr>\n",
       "    <tr>\n",
       "      <th>1</th>\n",
       "      <td>sachin</td>\n",
       "      <td>35</td>\n",
       "      <td>70</td>\n",
       "      <td>94</td>\n",
       "      <td>80</td>\n",
       "      <td>40</td>\n",
       "    </tr>\n",
       "    <tr>\n",
       "      <th>2</th>\n",
       "      <td>seema</td>\n",
       "      <td>36</td>\n",
       "      <td>73</td>\n",
       "      <td>99</td>\n",
       "      <td>83</td>\n",
       "      <td>46</td>\n",
       "    </tr>\n",
       "    <tr>\n",
       "      <th>3</th>\n",
       "      <td>ram</td>\n",
       "      <td>37</td>\n",
       "      <td>76</td>\n",
       "      <td>46</td>\n",
       "      <td>86</td>\n",
       "      <td>52</td>\n",
       "    </tr>\n",
       "    <tr>\n",
       "      <th>4</th>\n",
       "      <td>nisha</td>\n",
       "      <td>38</td>\n",
       "      <td>79</td>\n",
       "      <td>48</td>\n",
       "      <td>89</td>\n",
       "      <td>58</td>\n",
       "    </tr>\n",
       "    <tr>\n",
       "      <th>5</th>\n",
       "      <td>nupur</td>\n",
       "      <td>39</td>\n",
       "      <td>82</td>\n",
       "      <td>50</td>\n",
       "      <td>92</td>\n",
       "      <td>64</td>\n",
       "    </tr>\n",
       "    <tr>\n",
       "      <th>6</th>\n",
       "      <td>radhika</td>\n",
       "      <td>40</td>\n",
       "      <td>85</td>\n",
       "      <td>52</td>\n",
       "      <td>95</td>\n",
       "      <td>70</td>\n",
       "    </tr>\n",
       "    <tr>\n",
       "      <th>7</th>\n",
       "      <td>rani</td>\n",
       "      <td>41</td>\n",
       "      <td>88</td>\n",
       "      <td>54</td>\n",
       "      <td>98</td>\n",
       "      <td>76</td>\n",
       "    </tr>\n",
       "    <tr>\n",
       "      <th>8</th>\n",
       "      <td>richa</td>\n",
       "      <td>42</td>\n",
       "      <td>91</td>\n",
       "      <td>56</td>\n",
       "      <td>101</td>\n",
       "      <td>82</td>\n",
       "    </tr>\n",
       "    <tr>\n",
       "      <th>9</th>\n",
       "      <td>sudhir</td>\n",
       "      <td>43</td>\n",
       "      <td>94</td>\n",
       "      <td>58</td>\n",
       "      <td>104</td>\n",
       "      <td>88</td>\n",
       "    </tr>\n",
       "    <tr>\n",
       "      <th>10</th>\n",
       "      <td>sumit</td>\n",
       "      <td>44</td>\n",
       "      <td>97</td>\n",
       "      <td>60</td>\n",
       "      <td>107</td>\n",
       "      <td>94</td>\n",
       "    </tr>\n",
       "    <tr>\n",
       "      <th>11</th>\n",
       "      <td>shikha</td>\n",
       "      <td>45</td>\n",
       "      <td>100</td>\n",
       "      <td>62</td>\n",
       "      <td>110</td>\n",
       "      <td>100</td>\n",
       "    </tr>\n",
       "  </tbody>\n",
       "</table>\n",
       "</div>"
      ],
      "text/plain": [
       "       Name  hindi  eng  math   art  sci\n",
       "0      ravi     34   67     89   77   34\n",
       "1    sachin     35   70     94   80   40\n",
       "2     seema     36   73     99   83   46\n",
       "3       ram     37   76     46   86   52\n",
       "4     nisha     38   79     48   89   58\n",
       "5     nupur     39   82     50   92   64\n",
       "6   radhika     40   85     52   95   70\n",
       "7      rani     41   88     54   98   76\n",
       "8     richa     42   91     56  101   82\n",
       "9    sudhir     43   94     58  104   88\n",
       "10    sumit     44   97     60  107   94\n",
       "11   shikha     45  100     62  110  100"
      ]
     },
     "execution_count": 520,
     "metadata": {},
     "output_type": "execute_result"
    }
   ],
   "source": [
    "df=pd.read_excel(\"C:/Users/admin/OneDrive/Desktop/subject.xlsx\")\n",
    "df"
   ]
  },
  {
   "cell_type": "code",
   "execution_count": 521,
   "id": "812209bc-b059-4f77-9240-1e1ddb1805bf",
   "metadata": {},
   "outputs": [],
   "source": [
    "# MAP:MAP,KISI BHI TABLE KE ANDAR KISI BHI COLUMN KE ANDAR AGGREGATION KRTA HAI.\n"
   ]
  },
  {
   "cell_type": "code",
   "execution_count": 522,
   "id": "1aa56834-aa5a-4086-8761-c5c103c9cb0c",
   "metadata": {},
   "outputs": [
    {
     "data": {
      "text/plain": [
       "[34, 35, 36, 37, 38, 39, 40, 41, 42, 43, 44, 45]"
      ]
     },
     "execution_count": 522,
     "metadata": {},
     "output_type": "execute_result"
    }
   ],
   "source": [
    "t=df['hindi']\n",
    "t2=list(t)\n",
    "t2"
   ]
  },
  {
   "cell_type": "code",
   "execution_count": 523,
   "id": "855f262b-7d2a-45e8-98ff-879b71a05150",
   "metadata": {},
   "outputs": [
    {
     "data": {
      "text/plain": [
       "[67, 70, 73, 76, 79, 82, 85, 88, 91, 94, 97, 100]"
      ]
     },
     "execution_count": 523,
     "metadata": {},
     "output_type": "execute_result"
    }
   ],
   "source": [
    "e=df['eng']\n",
    "e2=list(e)\n",
    "e2"
   ]
  },
  {
   "cell_type": "code",
   "execution_count": 524,
   "id": "f54ac1f6-9831-4fe7-9fe9-04d31a6825dc",
   "metadata": {},
   "outputs": [
    {
     "data": {
      "text/plain": [
       "[101, 105, 109, 113, 117, 121, 125, 129, 133, 137, 141, 145]"
      ]
     },
     "execution_count": 524,
     "metadata": {},
     "output_type": "execute_result"
    }
   ],
   "source": [
    "b=list(map(lambda x,y:x+y,t2,e2))\n",
    "b       "
   ]
  },
  {
   "cell_type": "code",
   "execution_count": 525,
   "id": "18ca4282-2454-4607-9fe3-83c4038bbda9",
   "metadata": {},
   "outputs": [],
   "source": [
    "# map naam ka function list ke andar column ke andar max min nikalne ke kaam aata hai\n",
    "# ex:2list ko jodne ka kaam krta hai."
   ]
  },
  {
   "cell_type": "code",
   "execution_count": 526,
   "id": "93140de5-5160-41e8-b99a-b409f3973e6f",
   "metadata": {},
   "outputs": [],
   "source": [
    "# apply:apply will be work on row wise sum\n"
   ]
  },
  {
   "cell_type": "code",
   "execution_count": 527,
   "id": "84d0d72f-6064-460b-97bf-3c2c5b45db18",
   "metadata": {},
   "outputs": [
    {
     "data": {
      "text/plain": [
       "0     212\n",
       "1     225\n",
       "2     238\n",
       "3     251\n",
       "4     264\n",
       "5     277\n",
       "6     290\n",
       "7     303\n",
       "8     316\n",
       "9     329\n",
       "10    342\n",
       "11    355\n",
       "dtype: int64"
      ]
     },
     "execution_count": 527,
     "metadata": {},
     "output_type": "execute_result"
    }
   ],
   "source": [
    "g=df[['hindi','eng','art','sci']].apply(sum,axis=1)\n",
    "g"
   ]
  },
  {
   "cell_type": "code",
   "execution_count": 528,
   "id": "8fd8cdaf-6946-4835-9551-362429725d2d",
   "metadata": {},
   "outputs": [
    {
     "data": {
      "text/plain": [
       "0     212\n",
       "1     225\n",
       "2     238\n",
       "3     251\n",
       "4     264\n",
       "5     277\n",
       "6     290\n",
       "7     303\n",
       "8     316\n",
       "9     329\n",
       "10    342\n",
       "11    355\n",
       "dtype: int64"
      ]
     },
     "execution_count": 528,
     "metadata": {},
     "output_type": "execute_result"
    }
   ],
   "source": [
    "df['Total']=g\n",
    "g"
   ]
  },
  {
   "cell_type": "code",
   "execution_count": 529,
   "id": "67898875-a44b-4c16-82fa-e6d122f6fbf2",
   "metadata": {},
   "outputs": [
    {
     "data": {
      "text/html": [
       "<div>\n",
       "<style scoped>\n",
       "    .dataframe tbody tr th:only-of-type {\n",
       "        vertical-align: middle;\n",
       "    }\n",
       "\n",
       "    .dataframe tbody tr th {\n",
       "        vertical-align: top;\n",
       "    }\n",
       "\n",
       "    .dataframe thead th {\n",
       "        text-align: right;\n",
       "    }\n",
       "</style>\n",
       "<table border=\"1\" class=\"dataframe\">\n",
       "  <thead>\n",
       "    <tr style=\"text-align: right;\">\n",
       "      <th></th>\n",
       "      <th>Name</th>\n",
       "      <th>hindi</th>\n",
       "      <th>eng</th>\n",
       "      <th>math</th>\n",
       "      <th>art</th>\n",
       "      <th>sci</th>\n",
       "      <th>Total</th>\n",
       "    </tr>\n",
       "  </thead>\n",
       "  <tbody>\n",
       "    <tr>\n",
       "      <th>0</th>\n",
       "      <td>ravi</td>\n",
       "      <td>34</td>\n",
       "      <td>67</td>\n",
       "      <td>89</td>\n",
       "      <td>77</td>\n",
       "      <td>34</td>\n",
       "      <td>212</td>\n",
       "    </tr>\n",
       "    <tr>\n",
       "      <th>1</th>\n",
       "      <td>sachin</td>\n",
       "      <td>35</td>\n",
       "      <td>70</td>\n",
       "      <td>94</td>\n",
       "      <td>80</td>\n",
       "      <td>40</td>\n",
       "      <td>225</td>\n",
       "    </tr>\n",
       "    <tr>\n",
       "      <th>2</th>\n",
       "      <td>seema</td>\n",
       "      <td>36</td>\n",
       "      <td>73</td>\n",
       "      <td>99</td>\n",
       "      <td>83</td>\n",
       "      <td>46</td>\n",
       "      <td>238</td>\n",
       "    </tr>\n",
       "    <tr>\n",
       "      <th>3</th>\n",
       "      <td>ram</td>\n",
       "      <td>37</td>\n",
       "      <td>76</td>\n",
       "      <td>46</td>\n",
       "      <td>86</td>\n",
       "      <td>52</td>\n",
       "      <td>251</td>\n",
       "    </tr>\n",
       "    <tr>\n",
       "      <th>4</th>\n",
       "      <td>nisha</td>\n",
       "      <td>38</td>\n",
       "      <td>79</td>\n",
       "      <td>48</td>\n",
       "      <td>89</td>\n",
       "      <td>58</td>\n",
       "      <td>264</td>\n",
       "    </tr>\n",
       "    <tr>\n",
       "      <th>5</th>\n",
       "      <td>nupur</td>\n",
       "      <td>39</td>\n",
       "      <td>82</td>\n",
       "      <td>50</td>\n",
       "      <td>92</td>\n",
       "      <td>64</td>\n",
       "      <td>277</td>\n",
       "    </tr>\n",
       "    <tr>\n",
       "      <th>6</th>\n",
       "      <td>radhika</td>\n",
       "      <td>40</td>\n",
       "      <td>85</td>\n",
       "      <td>52</td>\n",
       "      <td>95</td>\n",
       "      <td>70</td>\n",
       "      <td>290</td>\n",
       "    </tr>\n",
       "    <tr>\n",
       "      <th>7</th>\n",
       "      <td>rani</td>\n",
       "      <td>41</td>\n",
       "      <td>88</td>\n",
       "      <td>54</td>\n",
       "      <td>98</td>\n",
       "      <td>76</td>\n",
       "      <td>303</td>\n",
       "    </tr>\n",
       "    <tr>\n",
       "      <th>8</th>\n",
       "      <td>richa</td>\n",
       "      <td>42</td>\n",
       "      <td>91</td>\n",
       "      <td>56</td>\n",
       "      <td>101</td>\n",
       "      <td>82</td>\n",
       "      <td>316</td>\n",
       "    </tr>\n",
       "    <tr>\n",
       "      <th>9</th>\n",
       "      <td>sudhir</td>\n",
       "      <td>43</td>\n",
       "      <td>94</td>\n",
       "      <td>58</td>\n",
       "      <td>104</td>\n",
       "      <td>88</td>\n",
       "      <td>329</td>\n",
       "    </tr>\n",
       "    <tr>\n",
       "      <th>10</th>\n",
       "      <td>sumit</td>\n",
       "      <td>44</td>\n",
       "      <td>97</td>\n",
       "      <td>60</td>\n",
       "      <td>107</td>\n",
       "      <td>94</td>\n",
       "      <td>342</td>\n",
       "    </tr>\n",
       "    <tr>\n",
       "      <th>11</th>\n",
       "      <td>shikha</td>\n",
       "      <td>45</td>\n",
       "      <td>100</td>\n",
       "      <td>62</td>\n",
       "      <td>110</td>\n",
       "      <td>100</td>\n",
       "      <td>355</td>\n",
       "    </tr>\n",
       "  </tbody>\n",
       "</table>\n",
       "</div>"
      ],
      "text/plain": [
       "       Name  hindi  eng  math   art  sci  Total\n",
       "0      ravi     34   67     89   77   34    212\n",
       "1    sachin     35   70     94   80   40    225\n",
       "2     seema     36   73     99   83   46    238\n",
       "3       ram     37   76     46   86   52    251\n",
       "4     nisha     38   79     48   89   58    264\n",
       "5     nupur     39   82     50   92   64    277\n",
       "6   radhika     40   85     52   95   70    290\n",
       "7      rani     41   88     54   98   76    303\n",
       "8     richa     42   91     56  101   82    316\n",
       "9    sudhir     43   94     58  104   88    329\n",
       "10    sumit     44   97     60  107   94    342\n",
       "11   shikha     45  100     62  110  100    355"
      ]
     },
     "execution_count": 529,
     "metadata": {},
     "output_type": "execute_result"
    }
   ],
   "source": [
    "df"
   ]
  },
  {
   "cell_type": "code",
   "execution_count": 530,
   "id": "662f5138-b3e6-4766-ba1d-a39e8172e96c",
   "metadata": {},
   "outputs": [
    {
     "data": {
      "text/html": [
       "<div>\n",
       "<style scoped>\n",
       "    .dataframe tbody tr th:only-of-type {\n",
       "        vertical-align: middle;\n",
       "    }\n",
       "\n",
       "    .dataframe tbody tr th {\n",
       "        vertical-align: top;\n",
       "    }\n",
       "\n",
       "    .dataframe thead th {\n",
       "        text-align: right;\n",
       "    }\n",
       "</style>\n",
       "<table border=\"1\" class=\"dataframe\">\n",
       "  <thead>\n",
       "    <tr style=\"text-align: right;\">\n",
       "      <th></th>\n",
       "      <th>Name</th>\n",
       "      <th>hindi</th>\n",
       "      <th>eng</th>\n",
       "      <th>math</th>\n",
       "      <th>art</th>\n",
       "      <th>sci</th>\n",
       "      <th>Total</th>\n",
       "      <th>percent</th>\n",
       "    </tr>\n",
       "  </thead>\n",
       "  <tbody>\n",
       "    <tr>\n",
       "      <th>0</th>\n",
       "      <td>ravi</td>\n",
       "      <td>34</td>\n",
       "      <td>67</td>\n",
       "      <td>89</td>\n",
       "      <td>77</td>\n",
       "      <td>34</td>\n",
       "      <td>212</td>\n",
       "      <td>42.4</td>\n",
       "    </tr>\n",
       "    <tr>\n",
       "      <th>1</th>\n",
       "      <td>sachin</td>\n",
       "      <td>35</td>\n",
       "      <td>70</td>\n",
       "      <td>94</td>\n",
       "      <td>80</td>\n",
       "      <td>40</td>\n",
       "      <td>225</td>\n",
       "      <td>45.0</td>\n",
       "    </tr>\n",
       "    <tr>\n",
       "      <th>2</th>\n",
       "      <td>seema</td>\n",
       "      <td>36</td>\n",
       "      <td>73</td>\n",
       "      <td>99</td>\n",
       "      <td>83</td>\n",
       "      <td>46</td>\n",
       "      <td>238</td>\n",
       "      <td>47.6</td>\n",
       "    </tr>\n",
       "    <tr>\n",
       "      <th>3</th>\n",
       "      <td>ram</td>\n",
       "      <td>37</td>\n",
       "      <td>76</td>\n",
       "      <td>46</td>\n",
       "      <td>86</td>\n",
       "      <td>52</td>\n",
       "      <td>251</td>\n",
       "      <td>50.2</td>\n",
       "    </tr>\n",
       "    <tr>\n",
       "      <th>4</th>\n",
       "      <td>nisha</td>\n",
       "      <td>38</td>\n",
       "      <td>79</td>\n",
       "      <td>48</td>\n",
       "      <td>89</td>\n",
       "      <td>58</td>\n",
       "      <td>264</td>\n",
       "      <td>52.8</td>\n",
       "    </tr>\n",
       "    <tr>\n",
       "      <th>5</th>\n",
       "      <td>nupur</td>\n",
       "      <td>39</td>\n",
       "      <td>82</td>\n",
       "      <td>50</td>\n",
       "      <td>92</td>\n",
       "      <td>64</td>\n",
       "      <td>277</td>\n",
       "      <td>55.4</td>\n",
       "    </tr>\n",
       "    <tr>\n",
       "      <th>6</th>\n",
       "      <td>radhika</td>\n",
       "      <td>40</td>\n",
       "      <td>85</td>\n",
       "      <td>52</td>\n",
       "      <td>95</td>\n",
       "      <td>70</td>\n",
       "      <td>290</td>\n",
       "      <td>58.0</td>\n",
       "    </tr>\n",
       "    <tr>\n",
       "      <th>7</th>\n",
       "      <td>rani</td>\n",
       "      <td>41</td>\n",
       "      <td>88</td>\n",
       "      <td>54</td>\n",
       "      <td>98</td>\n",
       "      <td>76</td>\n",
       "      <td>303</td>\n",
       "      <td>60.6</td>\n",
       "    </tr>\n",
       "    <tr>\n",
       "      <th>8</th>\n",
       "      <td>richa</td>\n",
       "      <td>42</td>\n",
       "      <td>91</td>\n",
       "      <td>56</td>\n",
       "      <td>101</td>\n",
       "      <td>82</td>\n",
       "      <td>316</td>\n",
       "      <td>63.2</td>\n",
       "    </tr>\n",
       "    <tr>\n",
       "      <th>9</th>\n",
       "      <td>sudhir</td>\n",
       "      <td>43</td>\n",
       "      <td>94</td>\n",
       "      <td>58</td>\n",
       "      <td>104</td>\n",
       "      <td>88</td>\n",
       "      <td>329</td>\n",
       "      <td>65.8</td>\n",
       "    </tr>\n",
       "    <tr>\n",
       "      <th>10</th>\n",
       "      <td>sumit</td>\n",
       "      <td>44</td>\n",
       "      <td>97</td>\n",
       "      <td>60</td>\n",
       "      <td>107</td>\n",
       "      <td>94</td>\n",
       "      <td>342</td>\n",
       "      <td>68.4</td>\n",
       "    </tr>\n",
       "    <tr>\n",
       "      <th>11</th>\n",
       "      <td>shikha</td>\n",
       "      <td>45</td>\n",
       "      <td>100</td>\n",
       "      <td>62</td>\n",
       "      <td>110</td>\n",
       "      <td>100</td>\n",
       "      <td>355</td>\n",
       "      <td>71.0</td>\n",
       "    </tr>\n",
       "  </tbody>\n",
       "</table>\n",
       "</div>"
      ],
      "text/plain": [
       "       Name  hindi  eng  math   art  sci  Total  percent\n",
       "0      ravi     34   67     89   77   34    212     42.4\n",
       "1    sachin     35   70     94   80   40    225     45.0\n",
       "2     seema     36   73     99   83   46    238     47.6\n",
       "3       ram     37   76     46   86   52    251     50.2\n",
       "4     nisha     38   79     48   89   58    264     52.8\n",
       "5     nupur     39   82     50   92   64    277     55.4\n",
       "6   radhika     40   85     52   95   70    290     58.0\n",
       "7      rani     41   88     54   98   76    303     60.6\n",
       "8     richa     42   91     56  101   82    316     63.2\n",
       "9    sudhir     43   94     58  104   88    329     65.8\n",
       "10    sumit     44   97     60  107   94    342     68.4\n",
       "11   shikha     45  100     62  110  100    355     71.0"
      ]
     },
     "execution_count": 530,
     "metadata": {},
     "output_type": "execute_result"
    }
   ],
   "source": [
    "df['percent']=df['Total']/5\n",
    "df"
   ]
  },
  {
   "cell_type": "code",
   "execution_count": 531,
   "id": "a586117f-5fe3-4768-b14e-da1f0cd0a9bc",
   "metadata": {},
   "outputs": [],
   "source": [
    "def per(x):\n",
    "    if x>80 and x<100:\n",
    "        return 'A'\n",
    "    elif(x>60 and x<80):\n",
    "        return 'B'\n",
    "    elif(x>50 and x<60):\n",
    "        return 'C'\n",
    "    else:\n",
    "        return 'Fail'"
   ]
  },
  {
   "cell_type": "code",
   "execution_count": 532,
   "id": "d2674039-0dd1-4089-80d5-25a83684c6c5",
   "metadata": {},
   "outputs": [
    {
     "data": {
      "text/html": [
       "<div>\n",
       "<style scoped>\n",
       "    .dataframe tbody tr th:only-of-type {\n",
       "        vertical-align: middle;\n",
       "    }\n",
       "\n",
       "    .dataframe tbody tr th {\n",
       "        vertical-align: top;\n",
       "    }\n",
       "\n",
       "    .dataframe thead th {\n",
       "        text-align: right;\n",
       "    }\n",
       "</style>\n",
       "<table border=\"1\" class=\"dataframe\">\n",
       "  <thead>\n",
       "    <tr style=\"text-align: right;\">\n",
       "      <th></th>\n",
       "      <th>Name</th>\n",
       "      <th>hindi</th>\n",
       "      <th>eng</th>\n",
       "      <th>math</th>\n",
       "      <th>art</th>\n",
       "      <th>sci</th>\n",
       "      <th>Total</th>\n",
       "      <th>percent</th>\n",
       "      <th>Grade</th>\n",
       "    </tr>\n",
       "  </thead>\n",
       "  <tbody>\n",
       "    <tr>\n",
       "      <th>0</th>\n",
       "      <td>ravi</td>\n",
       "      <td>34</td>\n",
       "      <td>67</td>\n",
       "      <td>89</td>\n",
       "      <td>77</td>\n",
       "      <td>34</td>\n",
       "      <td>212</td>\n",
       "      <td>42.4</td>\n",
       "      <td>Fail</td>\n",
       "    </tr>\n",
       "    <tr>\n",
       "      <th>1</th>\n",
       "      <td>sachin</td>\n",
       "      <td>35</td>\n",
       "      <td>70</td>\n",
       "      <td>94</td>\n",
       "      <td>80</td>\n",
       "      <td>40</td>\n",
       "      <td>225</td>\n",
       "      <td>45.0</td>\n",
       "      <td>Fail</td>\n",
       "    </tr>\n",
       "    <tr>\n",
       "      <th>2</th>\n",
       "      <td>seema</td>\n",
       "      <td>36</td>\n",
       "      <td>73</td>\n",
       "      <td>99</td>\n",
       "      <td>83</td>\n",
       "      <td>46</td>\n",
       "      <td>238</td>\n",
       "      <td>47.6</td>\n",
       "      <td>Fail</td>\n",
       "    </tr>\n",
       "    <tr>\n",
       "      <th>3</th>\n",
       "      <td>ram</td>\n",
       "      <td>37</td>\n",
       "      <td>76</td>\n",
       "      <td>46</td>\n",
       "      <td>86</td>\n",
       "      <td>52</td>\n",
       "      <td>251</td>\n",
       "      <td>50.2</td>\n",
       "      <td>C</td>\n",
       "    </tr>\n",
       "    <tr>\n",
       "      <th>4</th>\n",
       "      <td>nisha</td>\n",
       "      <td>38</td>\n",
       "      <td>79</td>\n",
       "      <td>48</td>\n",
       "      <td>89</td>\n",
       "      <td>58</td>\n",
       "      <td>264</td>\n",
       "      <td>52.8</td>\n",
       "      <td>C</td>\n",
       "    </tr>\n",
       "    <tr>\n",
       "      <th>5</th>\n",
       "      <td>nupur</td>\n",
       "      <td>39</td>\n",
       "      <td>82</td>\n",
       "      <td>50</td>\n",
       "      <td>92</td>\n",
       "      <td>64</td>\n",
       "      <td>277</td>\n",
       "      <td>55.4</td>\n",
       "      <td>C</td>\n",
       "    </tr>\n",
       "    <tr>\n",
       "      <th>6</th>\n",
       "      <td>radhika</td>\n",
       "      <td>40</td>\n",
       "      <td>85</td>\n",
       "      <td>52</td>\n",
       "      <td>95</td>\n",
       "      <td>70</td>\n",
       "      <td>290</td>\n",
       "      <td>58.0</td>\n",
       "      <td>C</td>\n",
       "    </tr>\n",
       "    <tr>\n",
       "      <th>7</th>\n",
       "      <td>rani</td>\n",
       "      <td>41</td>\n",
       "      <td>88</td>\n",
       "      <td>54</td>\n",
       "      <td>98</td>\n",
       "      <td>76</td>\n",
       "      <td>303</td>\n",
       "      <td>60.6</td>\n",
       "      <td>B</td>\n",
       "    </tr>\n",
       "    <tr>\n",
       "      <th>8</th>\n",
       "      <td>richa</td>\n",
       "      <td>42</td>\n",
       "      <td>91</td>\n",
       "      <td>56</td>\n",
       "      <td>101</td>\n",
       "      <td>82</td>\n",
       "      <td>316</td>\n",
       "      <td>63.2</td>\n",
       "      <td>B</td>\n",
       "    </tr>\n",
       "    <tr>\n",
       "      <th>9</th>\n",
       "      <td>sudhir</td>\n",
       "      <td>43</td>\n",
       "      <td>94</td>\n",
       "      <td>58</td>\n",
       "      <td>104</td>\n",
       "      <td>88</td>\n",
       "      <td>329</td>\n",
       "      <td>65.8</td>\n",
       "      <td>B</td>\n",
       "    </tr>\n",
       "    <tr>\n",
       "      <th>10</th>\n",
       "      <td>sumit</td>\n",
       "      <td>44</td>\n",
       "      <td>97</td>\n",
       "      <td>60</td>\n",
       "      <td>107</td>\n",
       "      <td>94</td>\n",
       "      <td>342</td>\n",
       "      <td>68.4</td>\n",
       "      <td>B</td>\n",
       "    </tr>\n",
       "    <tr>\n",
       "      <th>11</th>\n",
       "      <td>shikha</td>\n",
       "      <td>45</td>\n",
       "      <td>100</td>\n",
       "      <td>62</td>\n",
       "      <td>110</td>\n",
       "      <td>100</td>\n",
       "      <td>355</td>\n",
       "      <td>71.0</td>\n",
       "      <td>B</td>\n",
       "    </tr>\n",
       "  </tbody>\n",
       "</table>\n",
       "</div>"
      ],
      "text/plain": [
       "       Name  hindi  eng  math   art  sci  Total  percent Grade\n",
       "0      ravi     34   67     89   77   34    212     42.4  Fail\n",
       "1    sachin     35   70     94   80   40    225     45.0  Fail\n",
       "2     seema     36   73     99   83   46    238     47.6  Fail\n",
       "3       ram     37   76     46   86   52    251     50.2     C\n",
       "4     nisha     38   79     48   89   58    264     52.8     C\n",
       "5     nupur     39   82     50   92   64    277     55.4     C\n",
       "6   radhika     40   85     52   95   70    290     58.0     C\n",
       "7      rani     41   88     54   98   76    303     60.6     B\n",
       "8     richa     42   91     56  101   82    316     63.2     B\n",
       "9    sudhir     43   94     58  104   88    329     65.8     B\n",
       "10    sumit     44   97     60  107   94    342     68.4     B\n",
       "11   shikha     45  100     62  110  100    355     71.0     B"
      ]
     },
     "execution_count": 532,
     "metadata": {},
     "output_type": "execute_result"
    }
   ],
   "source": [
    "df['Grade']=df['percent'].apply(per)\n",
    "df"
   ]
  },
  {
   "cell_type": "code",
   "execution_count": 533,
   "id": "996d0b5f-d8e1-43d0-8bde-728cce5b906e",
   "metadata": {},
   "outputs": [
    {
     "data": {
      "text/html": [
       "<div>\n",
       "<style scoped>\n",
       "    .dataframe tbody tr th:only-of-type {\n",
       "        vertical-align: middle;\n",
       "    }\n",
       "\n",
       "    .dataframe tbody tr th {\n",
       "        vertical-align: top;\n",
       "    }\n",
       "\n",
       "    .dataframe thead th {\n",
       "        text-align: right;\n",
       "    }\n",
       "</style>\n",
       "<table border=\"1\" class=\"dataframe\">\n",
       "  <thead>\n",
       "    <tr style=\"text-align: right;\">\n",
       "      <th></th>\n",
       "      <th>Name</th>\n",
       "      <th>hindi</th>\n",
       "      <th>eng</th>\n",
       "      <th>math</th>\n",
       "      <th>art</th>\n",
       "      <th>sci</th>\n",
       "      <th>Total</th>\n",
       "      <th>percent</th>\n",
       "      <th>Grade</th>\n",
       "    </tr>\n",
       "  </thead>\n",
       "  <tbody>\n",
       "    <tr>\n",
       "      <th>0</th>\n",
       "      <td>ravi</td>\n",
       "      <td>34</td>\n",
       "      <td>67</td>\n",
       "      <td>89</td>\n",
       "      <td>77</td>\n",
       "      <td>34</td>\n",
       "      <td>212</td>\n",
       "      <td>42.4</td>\n",
       "      <td>Fail</td>\n",
       "    </tr>\n",
       "    <tr>\n",
       "      <th>1</th>\n",
       "      <td>sachin</td>\n",
       "      <td>35</td>\n",
       "      <td>70</td>\n",
       "      <td>94</td>\n",
       "      <td>80</td>\n",
       "      <td>40</td>\n",
       "      <td>225</td>\n",
       "      <td>45.0</td>\n",
       "      <td>Fail</td>\n",
       "    </tr>\n",
       "    <tr>\n",
       "      <th>2</th>\n",
       "      <td>seema</td>\n",
       "      <td>36</td>\n",
       "      <td>73</td>\n",
       "      <td>99</td>\n",
       "      <td>83</td>\n",
       "      <td>46</td>\n",
       "      <td>238</td>\n",
       "      <td>47.6</td>\n",
       "      <td>Fail</td>\n",
       "    </tr>\n",
       "    <tr>\n",
       "      <th>3</th>\n",
       "      <td>ram</td>\n",
       "      <td>37</td>\n",
       "      <td>76</td>\n",
       "      <td>46</td>\n",
       "      <td>86</td>\n",
       "      <td>52</td>\n",
       "      <td>251</td>\n",
       "      <td>50.2</td>\n",
       "      <td>C</td>\n",
       "    </tr>\n",
       "    <tr>\n",
       "      <th>4</th>\n",
       "      <td>nisha</td>\n",
       "      <td>38</td>\n",
       "      <td>79</td>\n",
       "      <td>48</td>\n",
       "      <td>89</td>\n",
       "      <td>58</td>\n",
       "      <td>264</td>\n",
       "      <td>52.8</td>\n",
       "      <td>C</td>\n",
       "    </tr>\n",
       "    <tr>\n",
       "      <th>5</th>\n",
       "      <td>nupur</td>\n",
       "      <td>39</td>\n",
       "      <td>82</td>\n",
       "      <td>50</td>\n",
       "      <td>92</td>\n",
       "      <td>64</td>\n",
       "      <td>277</td>\n",
       "      <td>55.4</td>\n",
       "      <td>C</td>\n",
       "    </tr>\n",
       "    <tr>\n",
       "      <th>6</th>\n",
       "      <td>radhika</td>\n",
       "      <td>40</td>\n",
       "      <td>85</td>\n",
       "      <td>52</td>\n",
       "      <td>95</td>\n",
       "      <td>70</td>\n",
       "      <td>290</td>\n",
       "      <td>58.0</td>\n",
       "      <td>C</td>\n",
       "    </tr>\n",
       "    <tr>\n",
       "      <th>7</th>\n",
       "      <td>rani</td>\n",
       "      <td>41</td>\n",
       "      <td>88</td>\n",
       "      <td>54</td>\n",
       "      <td>98</td>\n",
       "      <td>76</td>\n",
       "      <td>303</td>\n",
       "      <td>60.6</td>\n",
       "      <td>B</td>\n",
       "    </tr>\n",
       "    <tr>\n",
       "      <th>8</th>\n",
       "      <td>richa</td>\n",
       "      <td>42</td>\n",
       "      <td>91</td>\n",
       "      <td>56</td>\n",
       "      <td>101</td>\n",
       "      <td>82</td>\n",
       "      <td>316</td>\n",
       "      <td>63.2</td>\n",
       "      <td>B</td>\n",
       "    </tr>\n",
       "    <tr>\n",
       "      <th>9</th>\n",
       "      <td>sudhir</td>\n",
       "      <td>43</td>\n",
       "      <td>94</td>\n",
       "      <td>58</td>\n",
       "      <td>104</td>\n",
       "      <td>88</td>\n",
       "      <td>329</td>\n",
       "      <td>65.8</td>\n",
       "      <td>B</td>\n",
       "    </tr>\n",
       "    <tr>\n",
       "      <th>10</th>\n",
       "      <td>sumit</td>\n",
       "      <td>44</td>\n",
       "      <td>97</td>\n",
       "      <td>60</td>\n",
       "      <td>107</td>\n",
       "      <td>94</td>\n",
       "      <td>342</td>\n",
       "      <td>68.4</td>\n",
       "      <td>B</td>\n",
       "    </tr>\n",
       "    <tr>\n",
       "      <th>11</th>\n",
       "      <td>shikha</td>\n",
       "      <td>45</td>\n",
       "      <td>100</td>\n",
       "      <td>62</td>\n",
       "      <td>110</td>\n",
       "      <td>100</td>\n",
       "      <td>355</td>\n",
       "      <td>71.0</td>\n",
       "      <td>B</td>\n",
       "    </tr>\n",
       "  </tbody>\n",
       "</table>\n",
       "</div>"
      ],
      "text/plain": [
       "       Name  hindi  eng  math   art  sci  Total  percent Grade\n",
       "0      ravi     34   67     89   77   34    212     42.4  Fail\n",
       "1    sachin     35   70     94   80   40    225     45.0  Fail\n",
       "2     seema     36   73     99   83   46    238     47.6  Fail\n",
       "3       ram     37   76     46   86   52    251     50.2     C\n",
       "4     nisha     38   79     48   89   58    264     52.8     C\n",
       "5     nupur     39   82     50   92   64    277     55.4     C\n",
       "6   radhika     40   85     52   95   70    290     58.0     C\n",
       "7      rani     41   88     54   98   76    303     60.6     B\n",
       "8     richa     42   91     56  101   82    316     63.2     B\n",
       "9    sudhir     43   94     58  104   88    329     65.8     B\n",
       "10    sumit     44   97     60  107   94    342     68.4     B\n",
       "11   shikha     45  100     62  110  100    355     71.0     B"
      ]
     },
     "execution_count": 533,
     "metadata": {},
     "output_type": "execute_result"
    }
   ],
   "source": [
    "df"
   ]
  },
  {
   "cell_type": "code",
   "execution_count": 534,
   "id": "445fb941-7ad8-4bd5-bba3-b3837351e90a",
   "metadata": {},
   "outputs": [
    {
     "data": {
      "text/html": [
       "<div>\n",
       "<style scoped>\n",
       "    .dataframe tbody tr th:only-of-type {\n",
       "        vertical-align: middle;\n",
       "    }\n",
       "\n",
       "    .dataframe tbody tr th {\n",
       "        vertical-align: top;\n",
       "    }\n",
       "\n",
       "    .dataframe thead th {\n",
       "        text-align: right;\n",
       "    }\n",
       "</style>\n",
       "<table border=\"1\" class=\"dataframe\">\n",
       "  <thead>\n",
       "    <tr style=\"text-align: right;\">\n",
       "      <th></th>\n",
       "      <th>hindi</th>\n",
       "      <th>eng</th>\n",
       "      <th>math</th>\n",
       "      <th>art</th>\n",
       "      <th>sci</th>\n",
       "      <th>Total</th>\n",
       "      <th>percent</th>\n",
       "    </tr>\n",
       "  </thead>\n",
       "  <tbody>\n",
       "    <tr>\n",
       "      <th>0</th>\n",
       "      <td>34</td>\n",
       "      <td>67</td>\n",
       "      <td>89</td>\n",
       "      <td>77</td>\n",
       "      <td>34</td>\n",
       "      <td>212</td>\n",
       "      <td>42.4</td>\n",
       "    </tr>\n",
       "    <tr>\n",
       "      <th>1</th>\n",
       "      <td>35</td>\n",
       "      <td>70</td>\n",
       "      <td>94</td>\n",
       "      <td>80</td>\n",
       "      <td>40</td>\n",
       "      <td>225</td>\n",
       "      <td>45.0</td>\n",
       "    </tr>\n",
       "    <tr>\n",
       "      <th>2</th>\n",
       "      <td>36</td>\n",
       "      <td>73</td>\n",
       "      <td>99</td>\n",
       "      <td>83</td>\n",
       "      <td>46</td>\n",
       "      <td>238</td>\n",
       "      <td>47.6</td>\n",
       "    </tr>\n",
       "    <tr>\n",
       "      <th>3</th>\n",
       "      <td>37</td>\n",
       "      <td>76</td>\n",
       "      <td>46</td>\n",
       "      <td>86</td>\n",
       "      <td>52</td>\n",
       "      <td>251</td>\n",
       "      <td>50.2</td>\n",
       "    </tr>\n",
       "    <tr>\n",
       "      <th>4</th>\n",
       "      <td>38</td>\n",
       "      <td>79</td>\n",
       "      <td>48</td>\n",
       "      <td>89</td>\n",
       "      <td>58</td>\n",
       "      <td>264</td>\n",
       "      <td>52.8</td>\n",
       "    </tr>\n",
       "    <tr>\n",
       "      <th>5</th>\n",
       "      <td>39</td>\n",
       "      <td>82</td>\n",
       "      <td>50</td>\n",
       "      <td>92</td>\n",
       "      <td>64</td>\n",
       "      <td>277</td>\n",
       "      <td>55.4</td>\n",
       "    </tr>\n",
       "    <tr>\n",
       "      <th>6</th>\n",
       "      <td>40</td>\n",
       "      <td>85</td>\n",
       "      <td>52</td>\n",
       "      <td>95</td>\n",
       "      <td>70</td>\n",
       "      <td>290</td>\n",
       "      <td>58.0</td>\n",
       "    </tr>\n",
       "    <tr>\n",
       "      <th>7</th>\n",
       "      <td>41</td>\n",
       "      <td>88</td>\n",
       "      <td>54</td>\n",
       "      <td>98</td>\n",
       "      <td>76</td>\n",
       "      <td>303</td>\n",
       "      <td>60.6</td>\n",
       "    </tr>\n",
       "    <tr>\n",
       "      <th>8</th>\n",
       "      <td>42</td>\n",
       "      <td>91</td>\n",
       "      <td>56</td>\n",
       "      <td>101</td>\n",
       "      <td>82</td>\n",
       "      <td>316</td>\n",
       "      <td>63.2</td>\n",
       "    </tr>\n",
       "    <tr>\n",
       "      <th>9</th>\n",
       "      <td>43</td>\n",
       "      <td>94</td>\n",
       "      <td>58</td>\n",
       "      <td>104</td>\n",
       "      <td>88</td>\n",
       "      <td>329</td>\n",
       "      <td>65.8</td>\n",
       "    </tr>\n",
       "    <tr>\n",
       "      <th>10</th>\n",
       "      <td>44</td>\n",
       "      <td>97</td>\n",
       "      <td>60</td>\n",
       "      <td>107</td>\n",
       "      <td>94</td>\n",
       "      <td>342</td>\n",
       "      <td>68.4</td>\n",
       "    </tr>\n",
       "    <tr>\n",
       "      <th>11</th>\n",
       "      <td>45</td>\n",
       "      <td>100</td>\n",
       "      <td>62</td>\n",
       "      <td>110</td>\n",
       "      <td>100</td>\n",
       "      <td>355</td>\n",
       "      <td>71.0</td>\n",
       "    </tr>\n",
       "  </tbody>\n",
       "</table>\n",
       "</div>"
      ],
      "text/plain": [
       "    hindi  eng  math   art  sci  Total  percent\n",
       "0      34   67     89   77   34    212     42.4\n",
       "1      35   70     94   80   40    225     45.0\n",
       "2      36   73     99   83   46    238     47.6\n",
       "3      37   76     46   86   52    251     50.2\n",
       "4      38   79     48   89   58    264     52.8\n",
       "5      39   82     50   92   64    277     55.4\n",
       "6      40   85     52   95   70    290     58.0\n",
       "7      41   88     54   98   76    303     60.6\n",
       "8      42   91     56  101   82    316     63.2\n",
       "9      43   94     58  104   88    329     65.8\n",
       "10     44   97     60  107   94    342     68.4\n",
       "11     45  100     62  110  100    355     71.0"
      ]
     },
     "execution_count": 534,
     "metadata": {},
     "output_type": "execute_result"
    }
   ],
   "source": [
    "t=df.select_dtypes(['int','float'])\n",
    "t"
   ]
  },
  {
   "cell_type": "code",
   "execution_count": 535,
   "id": "ba7a9fe5-401c-4789-a6f6-bf636a7c5566",
   "metadata": {},
   "outputs": [],
   "source": [
    "# map:map hmesa column pr apply hota hai. \n",
    "# apply:apply row-column  dono pr apply hota hai.\n",
    "# applyall:applyall pure data pr work  krta hai"
   ]
  },
  {
   "cell_type": "code",
   "execution_count": 536,
   "id": "1859ed0c-56c8-450e-b4f1-b7c4f6d99f0d",
   "metadata": {},
   "outputs": [
    {
     "name": "stderr",
     "output_type": "stream",
     "text": [
      "C:\\Users\\admin\\AppData\\Local\\Temp\\ipykernel_8784\\2463533730.py:1: FutureWarning: DataFrame.applymap has been deprecated. Use DataFrame.map instead.\n",
      "  r=t.applymap(lambda x:x+10)\n"
     ]
    },
    {
     "data": {
      "text/html": [
       "<div>\n",
       "<style scoped>\n",
       "    .dataframe tbody tr th:only-of-type {\n",
       "        vertical-align: middle;\n",
       "    }\n",
       "\n",
       "    .dataframe tbody tr th {\n",
       "        vertical-align: top;\n",
       "    }\n",
       "\n",
       "    .dataframe thead th {\n",
       "        text-align: right;\n",
       "    }\n",
       "</style>\n",
       "<table border=\"1\" class=\"dataframe\">\n",
       "  <thead>\n",
       "    <tr style=\"text-align: right;\">\n",
       "      <th></th>\n",
       "      <th>hindi</th>\n",
       "      <th>eng</th>\n",
       "      <th>math</th>\n",
       "      <th>art</th>\n",
       "      <th>sci</th>\n",
       "      <th>Total</th>\n",
       "      <th>percent</th>\n",
       "    </tr>\n",
       "  </thead>\n",
       "  <tbody>\n",
       "    <tr>\n",
       "      <th>0</th>\n",
       "      <td>44</td>\n",
       "      <td>77</td>\n",
       "      <td>99</td>\n",
       "      <td>87</td>\n",
       "      <td>44</td>\n",
       "      <td>222</td>\n",
       "      <td>52.4</td>\n",
       "    </tr>\n",
       "    <tr>\n",
       "      <th>1</th>\n",
       "      <td>45</td>\n",
       "      <td>80</td>\n",
       "      <td>104</td>\n",
       "      <td>90</td>\n",
       "      <td>50</td>\n",
       "      <td>235</td>\n",
       "      <td>55.0</td>\n",
       "    </tr>\n",
       "    <tr>\n",
       "      <th>2</th>\n",
       "      <td>46</td>\n",
       "      <td>83</td>\n",
       "      <td>109</td>\n",
       "      <td>93</td>\n",
       "      <td>56</td>\n",
       "      <td>248</td>\n",
       "      <td>57.6</td>\n",
       "    </tr>\n",
       "    <tr>\n",
       "      <th>3</th>\n",
       "      <td>47</td>\n",
       "      <td>86</td>\n",
       "      <td>56</td>\n",
       "      <td>96</td>\n",
       "      <td>62</td>\n",
       "      <td>261</td>\n",
       "      <td>60.2</td>\n",
       "    </tr>\n",
       "    <tr>\n",
       "      <th>4</th>\n",
       "      <td>48</td>\n",
       "      <td>89</td>\n",
       "      <td>58</td>\n",
       "      <td>99</td>\n",
       "      <td>68</td>\n",
       "      <td>274</td>\n",
       "      <td>62.8</td>\n",
       "    </tr>\n",
       "    <tr>\n",
       "      <th>5</th>\n",
       "      <td>49</td>\n",
       "      <td>92</td>\n",
       "      <td>60</td>\n",
       "      <td>102</td>\n",
       "      <td>74</td>\n",
       "      <td>287</td>\n",
       "      <td>65.4</td>\n",
       "    </tr>\n",
       "    <tr>\n",
       "      <th>6</th>\n",
       "      <td>50</td>\n",
       "      <td>95</td>\n",
       "      <td>62</td>\n",
       "      <td>105</td>\n",
       "      <td>80</td>\n",
       "      <td>300</td>\n",
       "      <td>68.0</td>\n",
       "    </tr>\n",
       "    <tr>\n",
       "      <th>7</th>\n",
       "      <td>51</td>\n",
       "      <td>98</td>\n",
       "      <td>64</td>\n",
       "      <td>108</td>\n",
       "      <td>86</td>\n",
       "      <td>313</td>\n",
       "      <td>70.6</td>\n",
       "    </tr>\n",
       "    <tr>\n",
       "      <th>8</th>\n",
       "      <td>52</td>\n",
       "      <td>101</td>\n",
       "      <td>66</td>\n",
       "      <td>111</td>\n",
       "      <td>92</td>\n",
       "      <td>326</td>\n",
       "      <td>73.2</td>\n",
       "    </tr>\n",
       "    <tr>\n",
       "      <th>9</th>\n",
       "      <td>53</td>\n",
       "      <td>104</td>\n",
       "      <td>68</td>\n",
       "      <td>114</td>\n",
       "      <td>98</td>\n",
       "      <td>339</td>\n",
       "      <td>75.8</td>\n",
       "    </tr>\n",
       "    <tr>\n",
       "      <th>10</th>\n",
       "      <td>54</td>\n",
       "      <td>107</td>\n",
       "      <td>70</td>\n",
       "      <td>117</td>\n",
       "      <td>104</td>\n",
       "      <td>352</td>\n",
       "      <td>78.4</td>\n",
       "    </tr>\n",
       "    <tr>\n",
       "      <th>11</th>\n",
       "      <td>55</td>\n",
       "      <td>110</td>\n",
       "      <td>72</td>\n",
       "      <td>120</td>\n",
       "      <td>110</td>\n",
       "      <td>365</td>\n",
       "      <td>81.0</td>\n",
       "    </tr>\n",
       "  </tbody>\n",
       "</table>\n",
       "</div>"
      ],
      "text/plain": [
       "    hindi  eng  math   art  sci  Total  percent\n",
       "0      44   77     99   87   44    222     52.4\n",
       "1      45   80    104   90   50    235     55.0\n",
       "2      46   83    109   93   56    248     57.6\n",
       "3      47   86     56   96   62    261     60.2\n",
       "4      48   89     58   99   68    274     62.8\n",
       "5      49   92     60  102   74    287     65.4\n",
       "6      50   95     62  105   80    300     68.0\n",
       "7      51   98     64  108   86    313     70.6\n",
       "8      52  101     66  111   92    326     73.2\n",
       "9      53  104     68  114   98    339     75.8\n",
       "10     54  107     70  117  104    352     78.4\n",
       "11     55  110     72  120  110    365     81.0"
      ]
     },
     "execution_count": 536,
     "metadata": {},
     "output_type": "execute_result"
    }
   ],
   "source": [
    "r=t.applymap(lambda x:x+10)\n",
    "r"
   ]
  },
  {
   "cell_type": "code",
   "execution_count": 537,
   "id": "a0962a7e-a24c-4ae6-998d-8eba1a0f781d",
   "metadata": {},
   "outputs": [
    {
     "data": {
      "text/html": [
       "<div>\n",
       "<style scoped>\n",
       "    .dataframe tbody tr th:only-of-type {\n",
       "        vertical-align: middle;\n",
       "    }\n",
       "\n",
       "    .dataframe tbody tr th {\n",
       "        vertical-align: top;\n",
       "    }\n",
       "\n",
       "    .dataframe thead th {\n",
       "        text-align: right;\n",
       "    }\n",
       "</style>\n",
       "<table border=\"1\" class=\"dataframe\">\n",
       "  <thead>\n",
       "    <tr style=\"text-align: right;\">\n",
       "      <th></th>\n",
       "      <th>Name</th>\n",
       "      <th>hindi</th>\n",
       "      <th>eng</th>\n",
       "      <th>math</th>\n",
       "      <th>art</th>\n",
       "      <th>sci</th>\n",
       "      <th>Total</th>\n",
       "      <th>percent</th>\n",
       "      <th>Grade</th>\n",
       "    </tr>\n",
       "  </thead>\n",
       "  <tbody>\n",
       "    <tr>\n",
       "      <th>0</th>\n",
       "      <td>ravi</td>\n",
       "      <td>34</td>\n",
       "      <td>67</td>\n",
       "      <td>89</td>\n",
       "      <td>77</td>\n",
       "      <td>34</td>\n",
       "      <td>212</td>\n",
       "      <td>42.4</td>\n",
       "      <td>Fail</td>\n",
       "    </tr>\n",
       "    <tr>\n",
       "      <th>1</th>\n",
       "      <td>sachin</td>\n",
       "      <td>35</td>\n",
       "      <td>70</td>\n",
       "      <td>94</td>\n",
       "      <td>80</td>\n",
       "      <td>40</td>\n",
       "      <td>225</td>\n",
       "      <td>45.0</td>\n",
       "      <td>Fail</td>\n",
       "    </tr>\n",
       "    <tr>\n",
       "      <th>2</th>\n",
       "      <td>seema</td>\n",
       "      <td>36</td>\n",
       "      <td>73</td>\n",
       "      <td>99</td>\n",
       "      <td>83</td>\n",
       "      <td>46</td>\n",
       "      <td>238</td>\n",
       "      <td>47.6</td>\n",
       "      <td>Fail</td>\n",
       "    </tr>\n",
       "    <tr>\n",
       "      <th>3</th>\n",
       "      <td>ram</td>\n",
       "      <td>37</td>\n",
       "      <td>76</td>\n",
       "      <td>46</td>\n",
       "      <td>86</td>\n",
       "      <td>52</td>\n",
       "      <td>251</td>\n",
       "      <td>50.2</td>\n",
       "      <td>C</td>\n",
       "    </tr>\n",
       "    <tr>\n",
       "      <th>4</th>\n",
       "      <td>nisha</td>\n",
       "      <td>38</td>\n",
       "      <td>79</td>\n",
       "      <td>48</td>\n",
       "      <td>89</td>\n",
       "      <td>58</td>\n",
       "      <td>264</td>\n",
       "      <td>52.8</td>\n",
       "      <td>C</td>\n",
       "    </tr>\n",
       "    <tr>\n",
       "      <th>5</th>\n",
       "      <td>nupur</td>\n",
       "      <td>39</td>\n",
       "      <td>82</td>\n",
       "      <td>50</td>\n",
       "      <td>92</td>\n",
       "      <td>64</td>\n",
       "      <td>277</td>\n",
       "      <td>55.4</td>\n",
       "      <td>C</td>\n",
       "    </tr>\n",
       "    <tr>\n",
       "      <th>6</th>\n",
       "      <td>radhika</td>\n",
       "      <td>40</td>\n",
       "      <td>85</td>\n",
       "      <td>52</td>\n",
       "      <td>95</td>\n",
       "      <td>70</td>\n",
       "      <td>290</td>\n",
       "      <td>58.0</td>\n",
       "      <td>C</td>\n",
       "    </tr>\n",
       "    <tr>\n",
       "      <th>7</th>\n",
       "      <td>rani</td>\n",
       "      <td>41</td>\n",
       "      <td>88</td>\n",
       "      <td>54</td>\n",
       "      <td>98</td>\n",
       "      <td>76</td>\n",
       "      <td>303</td>\n",
       "      <td>60.6</td>\n",
       "      <td>B</td>\n",
       "    </tr>\n",
       "    <tr>\n",
       "      <th>8</th>\n",
       "      <td>richa</td>\n",
       "      <td>42</td>\n",
       "      <td>91</td>\n",
       "      <td>56</td>\n",
       "      <td>101</td>\n",
       "      <td>82</td>\n",
       "      <td>316</td>\n",
       "      <td>63.2</td>\n",
       "      <td>B</td>\n",
       "    </tr>\n",
       "    <tr>\n",
       "      <th>9</th>\n",
       "      <td>sudhir</td>\n",
       "      <td>43</td>\n",
       "      <td>94</td>\n",
       "      <td>58</td>\n",
       "      <td>104</td>\n",
       "      <td>88</td>\n",
       "      <td>329</td>\n",
       "      <td>65.8</td>\n",
       "      <td>B</td>\n",
       "    </tr>\n",
       "    <tr>\n",
       "      <th>10</th>\n",
       "      <td>sumit</td>\n",
       "      <td>44</td>\n",
       "      <td>97</td>\n",
       "      <td>60</td>\n",
       "      <td>107</td>\n",
       "      <td>94</td>\n",
       "      <td>342</td>\n",
       "      <td>68.4</td>\n",
       "      <td>B</td>\n",
       "    </tr>\n",
       "    <tr>\n",
       "      <th>11</th>\n",
       "      <td>shikha</td>\n",
       "      <td>45</td>\n",
       "      <td>100</td>\n",
       "      <td>62</td>\n",
       "      <td>110</td>\n",
       "      <td>100</td>\n",
       "      <td>355</td>\n",
       "      <td>71.0</td>\n",
       "      <td>B</td>\n",
       "    </tr>\n",
       "  </tbody>\n",
       "</table>\n",
       "</div>"
      ],
      "text/plain": [
       "       Name  hindi  eng  math   art  sci  Total  percent Grade\n",
       "0      ravi     34   67     89   77   34    212     42.4  Fail\n",
       "1    sachin     35   70     94   80   40    225     45.0  Fail\n",
       "2     seema     36   73     99   83   46    238     47.6  Fail\n",
       "3       ram     37   76     46   86   52    251     50.2     C\n",
       "4     nisha     38   79     48   89   58    264     52.8     C\n",
       "5     nupur     39   82     50   92   64    277     55.4     C\n",
       "6   radhika     40   85     52   95   70    290     58.0     C\n",
       "7      rani     41   88     54   98   76    303     60.6     B\n",
       "8     richa     42   91     56  101   82    316     63.2     B\n",
       "9    sudhir     43   94     58  104   88    329     65.8     B\n",
       "10    sumit     44   97     60  107   94    342     68.4     B\n",
       "11   shikha     45  100     62  110  100    355     71.0     B"
      ]
     },
     "execution_count": 537,
     "metadata": {},
     "output_type": "execute_result"
    }
   ],
   "source": [
    "df"
   ]
  },
  {
   "cell_type": "code",
   "execution_count": 538,
   "id": "297e97ed-ff6c-4d8f-8d3c-313673117aa0",
   "metadata": {},
   "outputs": [],
   "source": [
    "# iloc:iloc means integer location\n",
    "# Loc:loc means label location\n",
    "# YE DAAFRAME ME SLICING KA KAAM KRTE HAI"
   ]
  },
  {
   "cell_type": "code",
   "execution_count": 539,
   "id": "dee09ed6-a60f-4b77-b1be-f00ff3421e3f",
   "metadata": {},
   "outputs": [
    {
     "data": {
      "text/html": [
       "<div>\n",
       "<style scoped>\n",
       "    .dataframe tbody tr th:only-of-type {\n",
       "        vertical-align: middle;\n",
       "    }\n",
       "\n",
       "    .dataframe tbody tr th {\n",
       "        vertical-align: top;\n",
       "    }\n",
       "\n",
       "    .dataframe thead th {\n",
       "        text-align: right;\n",
       "    }\n",
       "</style>\n",
       "<table border=\"1\" class=\"dataframe\">\n",
       "  <thead>\n",
       "    <tr style=\"text-align: right;\">\n",
       "      <th></th>\n",
       "      <th>Name</th>\n",
       "      <th>hindi</th>\n",
       "      <th>eng</th>\n",
       "      <th>math</th>\n",
       "      <th>art</th>\n",
       "      <th>sci</th>\n",
       "      <th>Total</th>\n",
       "      <th>percent</th>\n",
       "      <th>Grade</th>\n",
       "    </tr>\n",
       "  </thead>\n",
       "  <tbody>\n",
       "    <tr>\n",
       "      <th>0</th>\n",
       "      <td>ravi</td>\n",
       "      <td>34</td>\n",
       "      <td>67</td>\n",
       "      <td>89</td>\n",
       "      <td>77</td>\n",
       "      <td>34</td>\n",
       "      <td>212</td>\n",
       "      <td>42.4</td>\n",
       "      <td>Fail</td>\n",
       "    </tr>\n",
       "    <tr>\n",
       "      <th>1</th>\n",
       "      <td>sachin</td>\n",
       "      <td>35</td>\n",
       "      <td>70</td>\n",
       "      <td>94</td>\n",
       "      <td>80</td>\n",
       "      <td>40</td>\n",
       "      <td>225</td>\n",
       "      <td>45.0</td>\n",
       "      <td>Fail</td>\n",
       "    </tr>\n",
       "    <tr>\n",
       "      <th>2</th>\n",
       "      <td>seema</td>\n",
       "      <td>36</td>\n",
       "      <td>73</td>\n",
       "      <td>99</td>\n",
       "      <td>83</td>\n",
       "      <td>46</td>\n",
       "      <td>238</td>\n",
       "      <td>47.6</td>\n",
       "      <td>Fail</td>\n",
       "    </tr>\n",
       "    <tr>\n",
       "      <th>3</th>\n",
       "      <td>ram</td>\n",
       "      <td>37</td>\n",
       "      <td>76</td>\n",
       "      <td>46</td>\n",
       "      <td>86</td>\n",
       "      <td>52</td>\n",
       "      <td>251</td>\n",
       "      <td>50.2</td>\n",
       "      <td>C</td>\n",
       "    </tr>\n",
       "  </tbody>\n",
       "</table>\n",
       "</div>"
      ],
      "text/plain": [
       "     Name  hindi  eng  math   art  sci  Total  percent Grade\n",
       "0    ravi     34   67     89   77   34    212     42.4  Fail\n",
       "1  sachin     35   70     94   80   40    225     45.0  Fail\n",
       "2   seema     36   73     99   83   46    238     47.6  Fail\n",
       "3     ram     37   76     46   86   52    251     50.2     C"
      ]
     },
     "execution_count": 539,
     "metadata": {},
     "output_type": "execute_result"
    }
   ],
   "source": [
    "df.iloc[0:4]"
   ]
  },
  {
   "cell_type": "code",
   "execution_count": 540,
   "id": "2cd34fe2-71cc-4b85-9edd-57bd5724e6a2",
   "metadata": {},
   "outputs": [
    {
     "data": {
      "text/html": [
       "<div>\n",
       "<style scoped>\n",
       "    .dataframe tbody tr th:only-of-type {\n",
       "        vertical-align: middle;\n",
       "    }\n",
       "\n",
       "    .dataframe tbody tr th {\n",
       "        vertical-align: top;\n",
       "    }\n",
       "\n",
       "    .dataframe thead th {\n",
       "        text-align: right;\n",
       "    }\n",
       "</style>\n",
       "<table border=\"1\" class=\"dataframe\">\n",
       "  <thead>\n",
       "    <tr style=\"text-align: right;\">\n",
       "      <th></th>\n",
       "      <th>eng</th>\n",
       "      <th>math</th>\n",
       "      <th>art</th>\n",
       "    </tr>\n",
       "  </thead>\n",
       "  <tbody>\n",
       "    <tr>\n",
       "      <th>0</th>\n",
       "      <td>67</td>\n",
       "      <td>89</td>\n",
       "      <td>77</td>\n",
       "    </tr>\n",
       "    <tr>\n",
       "      <th>1</th>\n",
       "      <td>70</td>\n",
       "      <td>94</td>\n",
       "      <td>80</td>\n",
       "    </tr>\n",
       "    <tr>\n",
       "      <th>2</th>\n",
       "      <td>73</td>\n",
       "      <td>99</td>\n",
       "      <td>83</td>\n",
       "    </tr>\n",
       "    <tr>\n",
       "      <th>3</th>\n",
       "      <td>76</td>\n",
       "      <td>46</td>\n",
       "      <td>86</td>\n",
       "    </tr>\n",
       "  </tbody>\n",
       "</table>\n",
       "</div>"
      ],
      "text/plain": [
       "   eng  math   art\n",
       "0   67     89   77\n",
       "1   70     94   80\n",
       "2   73     99   83\n",
       "3   76     46   86"
      ]
     },
     "execution_count": 540,
     "metadata": {},
     "output_type": "execute_result"
    }
   ],
   "source": [
    "df.iloc[0:4,2:5]"
   ]
  },
  {
   "cell_type": "code",
   "execution_count": 541,
   "id": "11886241-96af-49c5-a8a1-d60ab1d23105",
   "metadata": {},
   "outputs": [
    {
     "data": {
      "text/html": [
       "<div>\n",
       "<style scoped>\n",
       "    .dataframe tbody tr th:only-of-type {\n",
       "        vertical-align: middle;\n",
       "    }\n",
       "\n",
       "    .dataframe tbody tr th {\n",
       "        vertical-align: top;\n",
       "    }\n",
       "\n",
       "    .dataframe thead th {\n",
       "        text-align: right;\n",
       "    }\n",
       "</style>\n",
       "<table border=\"1\" class=\"dataframe\">\n",
       "  <thead>\n",
       "    <tr style=\"text-align: right;\">\n",
       "      <th></th>\n",
       "      <th>eng</th>\n",
       "      <th>math</th>\n",
       "      <th>art</th>\n",
       "      <th>sci</th>\n",
       "      <th>Total</th>\n",
       "      <th>percent</th>\n",
       "    </tr>\n",
       "  </thead>\n",
       "  <tbody>\n",
       "    <tr>\n",
       "      <th>3</th>\n",
       "      <td>76</td>\n",
       "      <td>46</td>\n",
       "      <td>86</td>\n",
       "      <td>52</td>\n",
       "      <td>251</td>\n",
       "      <td>50.2</td>\n",
       "    </tr>\n",
       "    <tr>\n",
       "      <th>4</th>\n",
       "      <td>79</td>\n",
       "      <td>48</td>\n",
       "      <td>89</td>\n",
       "      <td>58</td>\n",
       "      <td>264</td>\n",
       "      <td>52.8</td>\n",
       "    </tr>\n",
       "    <tr>\n",
       "      <th>5</th>\n",
       "      <td>82</td>\n",
       "      <td>50</td>\n",
       "      <td>92</td>\n",
       "      <td>64</td>\n",
       "      <td>277</td>\n",
       "      <td>55.4</td>\n",
       "    </tr>\n",
       "  </tbody>\n",
       "</table>\n",
       "</div>"
      ],
      "text/plain": [
       "   eng  math   art  sci  Total  percent\n",
       "3   76     46   86   52    251     50.2\n",
       "4   79     48   89   58    264     52.8\n",
       "5   82     50   92   64    277     55.4"
      ]
     },
     "execution_count": 541,
     "metadata": {},
     "output_type": "execute_result"
    }
   ],
   "source": [
    "df.iloc[3:6,2:8]"
   ]
  },
  {
   "cell_type": "code",
   "execution_count": 542,
   "id": "e8adce71-e18e-4887-9c48-bc826bb3c893",
   "metadata": {},
   "outputs": [],
   "source": [
    "# LOC:LABEL LOCATION KA MTLB HOTA HAI KI AAPKA DATA JO SLICE HOGA WO INTEGER PE NHI LABEL PR HOGA MTLB TEXT TYPE KE DATA PR HOGA"
   ]
  },
  {
   "cell_type": "code",
   "execution_count": 543,
   "id": "ae338e46-92cb-4963-a22f-e4144ccc4f4f",
   "metadata": {},
   "outputs": [
    {
     "data": {
      "text/html": [
       "<div>\n",
       "<style scoped>\n",
       "    .dataframe tbody tr th:only-of-type {\n",
       "        vertical-align: middle;\n",
       "    }\n",
       "\n",
       "    .dataframe tbody tr th {\n",
       "        vertical-align: top;\n",
       "    }\n",
       "\n",
       "    .dataframe thead th {\n",
       "        text-align: right;\n",
       "    }\n",
       "</style>\n",
       "<table border=\"1\" class=\"dataframe\">\n",
       "  <thead>\n",
       "    <tr style=\"text-align: right;\">\n",
       "      <th></th>\n",
       "      <th>ID</th>\n",
       "      <th>NAME</th>\n",
       "      <th>LASTNAME</th>\n",
       "      <th>SALARY</th>\n",
       "      <th>CONTACT</th>\n",
       "      <th>AGE</th>\n",
       "      <th>Tax</th>\n",
       "      <th>Taxsal</th>\n",
       "      <th>Basicsal</th>\n",
       "      <th>rank</th>\n",
       "      <th>DenseRank</th>\n",
       "    </tr>\n",
       "  </thead>\n",
       "  <tbody>\n",
       "    <tr>\n",
       "      <th>0</th>\n",
       "      <td>1620</td>\n",
       "      <td>Nidhi</td>\n",
       "      <td>pandey</td>\n",
       "      <td>23453</td>\n",
       "      <td>56983473986</td>\n",
       "      <td>45</td>\n",
       "      <td>2</td>\n",
       "      <td>469.06</td>\n",
       "      <td>22983.94</td>\n",
       "      <td>12</td>\n",
       "      <td>12</td>\n",
       "    </tr>\n",
       "    <tr>\n",
       "      <th>1</th>\n",
       "      <td>1621</td>\n",
       "      <td>Neelu</td>\n",
       "      <td>sharma</td>\n",
       "      <td>12000</td>\n",
       "      <td>986776476</td>\n",
       "      <td>76</td>\n",
       "      <td>3</td>\n",
       "      <td>360.00</td>\n",
       "      <td>11640.00</td>\n",
       "      <td>13</td>\n",
       "      <td>13</td>\n",
       "    </tr>\n",
       "    <tr>\n",
       "      <th>2</th>\n",
       "      <td>1622</td>\n",
       "      <td>Sheela</td>\n",
       "      <td>dubey</td>\n",
       "      <td>45655</td>\n",
       "      <td>4567545445</td>\n",
       "      <td>46</td>\n",
       "      <td>4</td>\n",
       "      <td>1826.20</td>\n",
       "      <td>43828.80</td>\n",
       "      <td>8</td>\n",
       "      <td>8</td>\n",
       "    </tr>\n",
       "    <tr>\n",
       "      <th>3</th>\n",
       "      <td>1623</td>\n",
       "      <td>Ram</td>\n",
       "      <td>rahim</td>\n",
       "      <td>67857</td>\n",
       "      <td>34564</td>\n",
       "      <td>32</td>\n",
       "      <td>5</td>\n",
       "      <td>232.75</td>\n",
       "      <td>4422.25</td>\n",
       "      <td>6</td>\n",
       "      <td>6</td>\n",
       "    </tr>\n",
       "    <tr>\n",
       "      <th>4</th>\n",
       "      <td>1624</td>\n",
       "      <td>Ravi</td>\n",
       "      <td>rai</td>\n",
       "      <td>4565</td>\n",
       "      <td>445653</td>\n",
       "      <td>34</td>\n",
       "      <td>6</td>\n",
       "      <td>273.90</td>\n",
       "      <td>4291.10</td>\n",
       "      <td>15</td>\n",
       "      <td>15</td>\n",
       "    </tr>\n",
       "    <tr>\n",
       "      <th>5</th>\n",
       "      <td>1625</td>\n",
       "      <td>Nancy</td>\n",
       "      <td>sonkar</td>\n",
       "      <td>43334</td>\n",
       "      <td>345656554</td>\n",
       "      <td>34</td>\n",
       "      <td>7</td>\n",
       "      <td>3033.38</td>\n",
       "      <td>40300.62</td>\n",
       "      <td>9</td>\n",
       "      <td>9</td>\n",
       "    </tr>\n",
       "    <tr>\n",
       "      <th>6</th>\n",
       "      <td>1626</td>\n",
       "      <td>Farah</td>\n",
       "      <td>rai</td>\n",
       "      <td>32344</td>\n",
       "      <td>45566778</td>\n",
       "      <td>65</td>\n",
       "      <td>8</td>\n",
       "      <td>2587.52</td>\n",
       "      <td>29756.48</td>\n",
       "      <td>11</td>\n",
       "      <td>11</td>\n",
       "    </tr>\n",
       "    <tr>\n",
       "      <th>7</th>\n",
       "      <td>1627</td>\n",
       "      <td>Amir</td>\n",
       "      <td>sharma</td>\n",
       "      <td>546543</td>\n",
       "      <td>678757</td>\n",
       "      <td>44</td>\n",
       "      <td>9</td>\n",
       "      <td>49188.87</td>\n",
       "      <td>497354.13</td>\n",
       "      <td>1</td>\n",
       "      <td>1</td>\n",
       "    </tr>\n",
       "    <tr>\n",
       "      <th>8</th>\n",
       "      <td>1628</td>\n",
       "      <td>Kajal</td>\n",
       "      <td>shama</td>\n",
       "      <td>5445</td>\n",
       "      <td>67857</td>\n",
       "      <td>45</td>\n",
       "      <td>12</td>\n",
       "      <td>653.40</td>\n",
       "      <td>4791.60</td>\n",
       "      <td>14</td>\n",
       "      <td>14</td>\n",
       "    </tr>\n",
       "    <tr>\n",
       "      <th>9</th>\n",
       "      <td>1629</td>\n",
       "      <td>Karishma</td>\n",
       "      <td>kumari</td>\n",
       "      <td>76654</td>\n",
       "      <td>86675645</td>\n",
       "      <td>76</td>\n",
       "      <td>3</td>\n",
       "      <td>2299.62</td>\n",
       "      <td>74354.38</td>\n",
       "      <td>5</td>\n",
       "      <td>5</td>\n",
       "    </tr>\n",
       "    <tr>\n",
       "      <th>10</th>\n",
       "      <td>1630</td>\n",
       "      <td>Garima</td>\n",
       "      <td>singh</td>\n",
       "      <td>34544</td>\n",
       "      <td>5686757475</td>\n",
       "      <td>22</td>\n",
       "      <td>44</td>\n",
       "      <td>15199.36</td>\n",
       "      <td>19344.64</td>\n",
       "      <td>10</td>\n",
       "      <td>10</td>\n",
       "    </tr>\n",
       "    <tr>\n",
       "      <th>11</th>\n",
       "      <td>1631</td>\n",
       "      <td>Saumya</td>\n",
       "      <td>tiwari</td>\n",
       "      <td>344554</td>\n",
       "      <td>89876565</td>\n",
       "      <td>34</td>\n",
       "      <td>67</td>\n",
       "      <td>230851.18</td>\n",
       "      <td>113702.82</td>\n",
       "      <td>4</td>\n",
       "      <td>4</td>\n",
       "    </tr>\n",
       "    <tr>\n",
       "      <th>12</th>\n",
       "      <td>1632</td>\n",
       "      <td>Pooja</td>\n",
       "      <td>singh</td>\n",
       "      <td>345</td>\n",
       "      <td>568655664</td>\n",
       "      <td>34</td>\n",
       "      <td>46</td>\n",
       "      <td>158.70</td>\n",
       "      <td>186.30</td>\n",
       "      <td>18</td>\n",
       "      <td>18</td>\n",
       "    </tr>\n",
       "    <tr>\n",
       "      <th>13</th>\n",
       "      <td>1633</td>\n",
       "      <td>Sheela</td>\n",
       "      <td>patel</td>\n",
       "      <td>64563</td>\n",
       "      <td>5766556</td>\n",
       "      <td>76</td>\n",
       "      <td>23</td>\n",
       "      <td>14849.49</td>\n",
       "      <td>49713.51</td>\n",
       "      <td>7</td>\n",
       "      <td>7</td>\n",
       "    </tr>\n",
       "    <tr>\n",
       "      <th>14</th>\n",
       "      <td>1634</td>\n",
       "      <td>Diksha</td>\n",
       "      <td>singh</td>\n",
       "      <td>455665</td>\n",
       "      <td>47676544343</td>\n",
       "      <td>65</td>\n",
       "      <td>14</td>\n",
       "      <td>63793.10</td>\n",
       "      <td>391871.90</td>\n",
       "      <td>3</td>\n",
       "      <td>3</td>\n",
       "    </tr>\n",
       "    <tr>\n",
       "      <th>15</th>\n",
       "      <td>1635</td>\n",
       "      <td>Neelu</td>\n",
       "      <td>patel</td>\n",
       "      <td>4554</td>\n",
       "      <td>3445655</td>\n",
       "      <td>54</td>\n",
       "      <td>34</td>\n",
       "      <td>1548.36</td>\n",
       "      <td>3005.64</td>\n",
       "      <td>17</td>\n",
       "      <td>17</td>\n",
       "    </tr>\n",
       "    <tr>\n",
       "      <th>16</th>\n",
       "      <td>1636</td>\n",
       "      <td>Akku</td>\n",
       "      <td>pandey</td>\n",
       "      <td>456654</td>\n",
       "      <td>34455645</td>\n",
       "      <td>32</td>\n",
       "      <td>25</td>\n",
       "      <td>114163.50</td>\n",
       "      <td>342490.50</td>\n",
       "      <td>2</td>\n",
       "      <td>2</td>\n",
       "    </tr>\n",
       "    <tr>\n",
       "      <th>17</th>\n",
       "      <td>1637</td>\n",
       "      <td>Purnima</td>\n",
       "      <td>purvaj</td>\n",
       "      <td>4556</td>\n",
       "      <td>45565645</td>\n",
       "      <td>34</td>\n",
       "      <td>89</td>\n",
       "      <td>4054.84</td>\n",
       "      <td>501.16</td>\n",
       "      <td>16</td>\n",
       "      <td>16</td>\n",
       "    </tr>\n",
       "  </tbody>\n",
       "</table>\n",
       "</div>"
      ],
      "text/plain": [
       "      ID      NAME LASTNAME  SALARY      CONTACT  AGE  Tax     Taxsal  \\\n",
       "0   1620     Nidhi   pandey   23453  56983473986   45    2     469.06   \n",
       "1   1621     Neelu   sharma   12000    986776476   76    3     360.00   \n",
       "2   1622    Sheela    dubey   45655   4567545445   46    4    1826.20   \n",
       "3   1623       Ram    rahim   67857        34564   32    5     232.75   \n",
       "4   1624      Ravi      rai    4565       445653   34    6     273.90   \n",
       "5   1625     Nancy   sonkar   43334    345656554   34    7    3033.38   \n",
       "6   1626     Farah      rai   32344     45566778   65    8    2587.52   \n",
       "7   1627      Amir   sharma  546543       678757   44    9   49188.87   \n",
       "8   1628     Kajal    shama    5445        67857   45   12     653.40   \n",
       "9   1629  Karishma   kumari   76654     86675645   76    3    2299.62   \n",
       "10  1630    Garima    singh   34544   5686757475   22   44   15199.36   \n",
       "11  1631    Saumya   tiwari  344554     89876565   34   67  230851.18   \n",
       "12  1632     Pooja    singh     345    568655664   34   46     158.70   \n",
       "13  1633    Sheela    patel   64563      5766556   76   23   14849.49   \n",
       "14  1634    Diksha    singh  455665  47676544343   65   14   63793.10   \n",
       "15  1635     Neelu    patel    4554      3445655   54   34    1548.36   \n",
       "16  1636      Akku   pandey  456654     34455645   32   25  114163.50   \n",
       "17  1637   Purnima   purvaj    4556     45565645   34   89    4054.84   \n",
       "\n",
       "     Basicsal  rank  DenseRank  \n",
       "0    22983.94    12         12  \n",
       "1    11640.00    13         13  \n",
       "2    43828.80     8          8  \n",
       "3     4422.25     6          6  \n",
       "4     4291.10    15         15  \n",
       "5    40300.62     9          9  \n",
       "6    29756.48    11         11  \n",
       "7   497354.13     1          1  \n",
       "8     4791.60    14         14  \n",
       "9    74354.38     5          5  \n",
       "10   19344.64    10         10  \n",
       "11  113702.82     4          4  \n",
       "12     186.30    18         18  \n",
       "13   49713.51     7          7  \n",
       "14  391871.90     3          3  \n",
       "15    3005.64    17         17  \n",
       "16  342490.50     2          2  \n",
       "17     501.16    16         16  "
      ]
     },
     "execution_count": 543,
     "metadata": {},
     "output_type": "execute_result"
    }
   ],
   "source": [
    "df2"
   ]
  },
  {
   "cell_type": "code",
   "execution_count": 544,
   "id": "26fa463c-b2d2-46c6-a4dd-8554b57fc8f7",
   "metadata": {},
   "outputs": [
    {
     "data": {
      "text/html": [
       "<div>\n",
       "<style scoped>\n",
       "    .dataframe tbody tr th:only-of-type {\n",
       "        vertical-align: middle;\n",
       "    }\n",
       "\n",
       "    .dataframe tbody tr th {\n",
       "        vertical-align: top;\n",
       "    }\n",
       "\n",
       "    .dataframe thead th {\n",
       "        text-align: right;\n",
       "    }\n",
       "</style>\n",
       "<table border=\"1\" class=\"dataframe\">\n",
       "  <thead>\n",
       "    <tr style=\"text-align: right;\">\n",
       "      <th></th>\n",
       "      <th>ID</th>\n",
       "      <th>LASTNAME</th>\n",
       "      <th>SALARY</th>\n",
       "      <th>CONTACT</th>\n",
       "      <th>AGE</th>\n",
       "      <th>Tax</th>\n",
       "      <th>Taxsal</th>\n",
       "      <th>Basicsal</th>\n",
       "      <th>rank</th>\n",
       "      <th>DenseRank</th>\n",
       "    </tr>\n",
       "    <tr>\n",
       "      <th>NAME</th>\n",
       "      <th></th>\n",
       "      <th></th>\n",
       "      <th></th>\n",
       "      <th></th>\n",
       "      <th></th>\n",
       "      <th></th>\n",
       "      <th></th>\n",
       "      <th></th>\n",
       "      <th></th>\n",
       "      <th></th>\n",
       "    </tr>\n",
       "  </thead>\n",
       "  <tbody>\n",
       "    <tr>\n",
       "      <th>Nidhi</th>\n",
       "      <td>1620</td>\n",
       "      <td>pandey</td>\n",
       "      <td>23453</td>\n",
       "      <td>56983473986</td>\n",
       "      <td>45</td>\n",
       "      <td>2</td>\n",
       "      <td>469.06</td>\n",
       "      <td>22983.94</td>\n",
       "      <td>12</td>\n",
       "      <td>12</td>\n",
       "    </tr>\n",
       "    <tr>\n",
       "      <th>Neelu</th>\n",
       "      <td>1621</td>\n",
       "      <td>sharma</td>\n",
       "      <td>12000</td>\n",
       "      <td>986776476</td>\n",
       "      <td>76</td>\n",
       "      <td>3</td>\n",
       "      <td>360.00</td>\n",
       "      <td>11640.00</td>\n",
       "      <td>13</td>\n",
       "      <td>13</td>\n",
       "    </tr>\n",
       "    <tr>\n",
       "      <th>Sheela</th>\n",
       "      <td>1622</td>\n",
       "      <td>dubey</td>\n",
       "      <td>45655</td>\n",
       "      <td>4567545445</td>\n",
       "      <td>46</td>\n",
       "      <td>4</td>\n",
       "      <td>1826.20</td>\n",
       "      <td>43828.80</td>\n",
       "      <td>8</td>\n",
       "      <td>8</td>\n",
       "    </tr>\n",
       "    <tr>\n",
       "      <th>Ram</th>\n",
       "      <td>1623</td>\n",
       "      <td>rahim</td>\n",
       "      <td>67857</td>\n",
       "      <td>34564</td>\n",
       "      <td>32</td>\n",
       "      <td>5</td>\n",
       "      <td>232.75</td>\n",
       "      <td>4422.25</td>\n",
       "      <td>6</td>\n",
       "      <td>6</td>\n",
       "    </tr>\n",
       "    <tr>\n",
       "      <th>Ravi</th>\n",
       "      <td>1624</td>\n",
       "      <td>rai</td>\n",
       "      <td>4565</td>\n",
       "      <td>445653</td>\n",
       "      <td>34</td>\n",
       "      <td>6</td>\n",
       "      <td>273.90</td>\n",
       "      <td>4291.10</td>\n",
       "      <td>15</td>\n",
       "      <td>15</td>\n",
       "    </tr>\n",
       "    <tr>\n",
       "      <th>Nancy</th>\n",
       "      <td>1625</td>\n",
       "      <td>sonkar</td>\n",
       "      <td>43334</td>\n",
       "      <td>345656554</td>\n",
       "      <td>34</td>\n",
       "      <td>7</td>\n",
       "      <td>3033.38</td>\n",
       "      <td>40300.62</td>\n",
       "      <td>9</td>\n",
       "      <td>9</td>\n",
       "    </tr>\n",
       "    <tr>\n",
       "      <th>Farah</th>\n",
       "      <td>1626</td>\n",
       "      <td>rai</td>\n",
       "      <td>32344</td>\n",
       "      <td>45566778</td>\n",
       "      <td>65</td>\n",
       "      <td>8</td>\n",
       "      <td>2587.52</td>\n",
       "      <td>29756.48</td>\n",
       "      <td>11</td>\n",
       "      <td>11</td>\n",
       "    </tr>\n",
       "    <tr>\n",
       "      <th>Amir</th>\n",
       "      <td>1627</td>\n",
       "      <td>sharma</td>\n",
       "      <td>546543</td>\n",
       "      <td>678757</td>\n",
       "      <td>44</td>\n",
       "      <td>9</td>\n",
       "      <td>49188.87</td>\n",
       "      <td>497354.13</td>\n",
       "      <td>1</td>\n",
       "      <td>1</td>\n",
       "    </tr>\n",
       "    <tr>\n",
       "      <th>Kajal</th>\n",
       "      <td>1628</td>\n",
       "      <td>shama</td>\n",
       "      <td>5445</td>\n",
       "      <td>67857</td>\n",
       "      <td>45</td>\n",
       "      <td>12</td>\n",
       "      <td>653.40</td>\n",
       "      <td>4791.60</td>\n",
       "      <td>14</td>\n",
       "      <td>14</td>\n",
       "    </tr>\n",
       "    <tr>\n",
       "      <th>Karishma</th>\n",
       "      <td>1629</td>\n",
       "      <td>kumari</td>\n",
       "      <td>76654</td>\n",
       "      <td>86675645</td>\n",
       "      <td>76</td>\n",
       "      <td>3</td>\n",
       "      <td>2299.62</td>\n",
       "      <td>74354.38</td>\n",
       "      <td>5</td>\n",
       "      <td>5</td>\n",
       "    </tr>\n",
       "    <tr>\n",
       "      <th>Garima</th>\n",
       "      <td>1630</td>\n",
       "      <td>singh</td>\n",
       "      <td>34544</td>\n",
       "      <td>5686757475</td>\n",
       "      <td>22</td>\n",
       "      <td>44</td>\n",
       "      <td>15199.36</td>\n",
       "      <td>19344.64</td>\n",
       "      <td>10</td>\n",
       "      <td>10</td>\n",
       "    </tr>\n",
       "    <tr>\n",
       "      <th>Saumya</th>\n",
       "      <td>1631</td>\n",
       "      <td>tiwari</td>\n",
       "      <td>344554</td>\n",
       "      <td>89876565</td>\n",
       "      <td>34</td>\n",
       "      <td>67</td>\n",
       "      <td>230851.18</td>\n",
       "      <td>113702.82</td>\n",
       "      <td>4</td>\n",
       "      <td>4</td>\n",
       "    </tr>\n",
       "    <tr>\n",
       "      <th>Pooja</th>\n",
       "      <td>1632</td>\n",
       "      <td>singh</td>\n",
       "      <td>345</td>\n",
       "      <td>568655664</td>\n",
       "      <td>34</td>\n",
       "      <td>46</td>\n",
       "      <td>158.70</td>\n",
       "      <td>186.30</td>\n",
       "      <td>18</td>\n",
       "      <td>18</td>\n",
       "    </tr>\n",
       "    <tr>\n",
       "      <th>Sheela</th>\n",
       "      <td>1633</td>\n",
       "      <td>patel</td>\n",
       "      <td>64563</td>\n",
       "      <td>5766556</td>\n",
       "      <td>76</td>\n",
       "      <td>23</td>\n",
       "      <td>14849.49</td>\n",
       "      <td>49713.51</td>\n",
       "      <td>7</td>\n",
       "      <td>7</td>\n",
       "    </tr>\n",
       "    <tr>\n",
       "      <th>Diksha</th>\n",
       "      <td>1634</td>\n",
       "      <td>singh</td>\n",
       "      <td>455665</td>\n",
       "      <td>47676544343</td>\n",
       "      <td>65</td>\n",
       "      <td>14</td>\n",
       "      <td>63793.10</td>\n",
       "      <td>391871.90</td>\n",
       "      <td>3</td>\n",
       "      <td>3</td>\n",
       "    </tr>\n",
       "    <tr>\n",
       "      <th>Neelu</th>\n",
       "      <td>1635</td>\n",
       "      <td>patel</td>\n",
       "      <td>4554</td>\n",
       "      <td>3445655</td>\n",
       "      <td>54</td>\n",
       "      <td>34</td>\n",
       "      <td>1548.36</td>\n",
       "      <td>3005.64</td>\n",
       "      <td>17</td>\n",
       "      <td>17</td>\n",
       "    </tr>\n",
       "    <tr>\n",
       "      <th>Akku</th>\n",
       "      <td>1636</td>\n",
       "      <td>pandey</td>\n",
       "      <td>456654</td>\n",
       "      <td>34455645</td>\n",
       "      <td>32</td>\n",
       "      <td>25</td>\n",
       "      <td>114163.50</td>\n",
       "      <td>342490.50</td>\n",
       "      <td>2</td>\n",
       "      <td>2</td>\n",
       "    </tr>\n",
       "    <tr>\n",
       "      <th>Purnima</th>\n",
       "      <td>1637</td>\n",
       "      <td>purvaj</td>\n",
       "      <td>4556</td>\n",
       "      <td>45565645</td>\n",
       "      <td>34</td>\n",
       "      <td>89</td>\n",
       "      <td>4054.84</td>\n",
       "      <td>501.16</td>\n",
       "      <td>16</td>\n",
       "      <td>16</td>\n",
       "    </tr>\n",
       "  </tbody>\n",
       "</table>\n",
       "</div>"
      ],
      "text/plain": [
       "            ID LASTNAME  SALARY      CONTACT  AGE  Tax     Taxsal   Basicsal  \\\n",
       "NAME                                                                           \n",
       "Nidhi     1620   pandey   23453  56983473986   45    2     469.06   22983.94   \n",
       "Neelu     1621   sharma   12000    986776476   76    3     360.00   11640.00   \n",
       "Sheela    1622    dubey   45655   4567545445   46    4    1826.20   43828.80   \n",
       "Ram       1623    rahim   67857        34564   32    5     232.75    4422.25   \n",
       "Ravi      1624      rai    4565       445653   34    6     273.90    4291.10   \n",
       "Nancy     1625   sonkar   43334    345656554   34    7    3033.38   40300.62   \n",
       "Farah     1626      rai   32344     45566778   65    8    2587.52   29756.48   \n",
       "Amir      1627   sharma  546543       678757   44    9   49188.87  497354.13   \n",
       "Kajal     1628    shama    5445        67857   45   12     653.40    4791.60   \n",
       "Karishma  1629   kumari   76654     86675645   76    3    2299.62   74354.38   \n",
       "Garima    1630    singh   34544   5686757475   22   44   15199.36   19344.64   \n",
       "Saumya    1631   tiwari  344554     89876565   34   67  230851.18  113702.82   \n",
       "Pooja     1632    singh     345    568655664   34   46     158.70     186.30   \n",
       "Sheela    1633    patel   64563      5766556   76   23   14849.49   49713.51   \n",
       "Diksha    1634    singh  455665  47676544343   65   14   63793.10  391871.90   \n",
       "Neelu     1635    patel    4554      3445655   54   34    1548.36    3005.64   \n",
       "Akku      1636   pandey  456654     34455645   32   25  114163.50  342490.50   \n",
       "Purnima   1637   purvaj    4556     45565645   34   89    4054.84     501.16   \n",
       "\n",
       "          rank  DenseRank  \n",
       "NAME                       \n",
       "Nidhi       12         12  \n",
       "Neelu       13         13  \n",
       "Sheela       8          8  \n",
       "Ram          6          6  \n",
       "Ravi        15         15  \n",
       "Nancy        9          9  \n",
       "Farah       11         11  \n",
       "Amir         1          1  \n",
       "Kajal       14         14  \n",
       "Karishma     5          5  \n",
       "Garima      10         10  \n",
       "Saumya       4          4  \n",
       "Pooja       18         18  \n",
       "Sheela       7          7  \n",
       "Diksha       3          3  \n",
       "Neelu       17         17  \n",
       "Akku         2          2  \n",
       "Purnima     16         16  "
      ]
     },
     "execution_count": 544,
     "metadata": {},
     "output_type": "execute_result"
    }
   ],
   "source": [
    "r=df2.set_index('NAME')\n",
    "r"
   ]
  },
  {
   "cell_type": "code",
   "execution_count": 545,
   "id": "501de22e-c7d0-44a4-9cb1-bbb8bba02ccf",
   "metadata": {},
   "outputs": [
    {
     "ename": "KeyError",
     "evalue": "'nidhi'",
     "output_type": "error",
     "traceback": [
      "\u001b[1;31m---------------------------------------------------------------------------\u001b[0m",
      "\u001b[1;31mKeyError\u001b[0m                                  Traceback (most recent call last)",
      "File \u001b[1;32m~\\AppData\\Local\\anaconda3\\Lib\\site-packages\\pandas\\core\\indexes\\base.py:3791\u001b[0m, in \u001b[0;36mIndex.get_loc\u001b[1;34m(self, key)\u001b[0m\n\u001b[0;32m   3790\u001b[0m \u001b[38;5;28;01mtry\u001b[39;00m:\n\u001b[1;32m-> 3791\u001b[0m     \u001b[38;5;28;01mreturn\u001b[39;00m \u001b[38;5;28mself\u001b[39m\u001b[38;5;241m.\u001b[39m_engine\u001b[38;5;241m.\u001b[39mget_loc(casted_key)\n\u001b[0;32m   3792\u001b[0m \u001b[38;5;28;01mexcept\u001b[39;00m \u001b[38;5;167;01mKeyError\u001b[39;00m \u001b[38;5;28;01mas\u001b[39;00m err:\n",
      "File \u001b[1;32mindex.pyx:152\u001b[0m, in \u001b[0;36mpandas._libs.index.IndexEngine.get_loc\u001b[1;34m()\u001b[0m\n",
      "File \u001b[1;32mindex.pyx:176\u001b[0m, in \u001b[0;36mpandas._libs.index.IndexEngine.get_loc\u001b[1;34m()\u001b[0m\n",
      "File \u001b[1;32mindex.pyx:219\u001b[0m, in \u001b[0;36mpandas._libs.index.IndexEngine._get_loc_duplicates\u001b[1;34m()\u001b[0m\n",
      "File \u001b[1;32mindex.pyx:227\u001b[0m, in \u001b[0;36mpandas._libs.index.IndexEngine._maybe_get_bool_indexer\u001b[1;34m()\u001b[0m\n",
      "File \u001b[1;32mindex.pyx:119\u001b[0m, in \u001b[0;36mpandas._libs.index._unpack_bool_indexer\u001b[1;34m()\u001b[0m\n",
      "\u001b[1;31mKeyError\u001b[0m: 'nidhi'",
      "\nThe above exception was the direct cause of the following exception:\n",
      "\u001b[1;31mKeyError\u001b[0m                                  Traceback (most recent call last)",
      "Cell \u001b[1;32mIn[545], line 1\u001b[0m\n\u001b[1;32m----> 1\u001b[0m r\u001b[38;5;241m.\u001b[39mloc[\u001b[38;5;124m'\u001b[39m\u001b[38;5;124mnidhi\u001b[39m\u001b[38;5;124m'\u001b[39m:\u001b[38;5;124m'\u001b[39m\u001b[38;5;124mravi\u001b[39m\u001b[38;5;124m'\u001b[39m,\u001b[38;5;124m'\u001b[39m\u001b[38;5;124mSALARY\u001b[39m\u001b[38;5;124m'\u001b[39m:\u001b[38;5;124m'\u001b[39m\u001b[38;5;124mrank\u001b[39m\u001b[38;5;124m'\u001b[39m]\n",
      "File \u001b[1;32m~\\AppData\\Local\\anaconda3\\Lib\\site-packages\\pandas\\core\\indexing.py:1147\u001b[0m, in \u001b[0;36m_LocationIndexer.__getitem__\u001b[1;34m(self, key)\u001b[0m\n\u001b[0;32m   1145\u001b[0m     \u001b[38;5;28;01mif\u001b[39;00m \u001b[38;5;28mself\u001b[39m\u001b[38;5;241m.\u001b[39m_is_scalar_access(key):\n\u001b[0;32m   1146\u001b[0m         \u001b[38;5;28;01mreturn\u001b[39;00m \u001b[38;5;28mself\u001b[39m\u001b[38;5;241m.\u001b[39mobj\u001b[38;5;241m.\u001b[39m_get_value(\u001b[38;5;241m*\u001b[39mkey, takeable\u001b[38;5;241m=\u001b[39m\u001b[38;5;28mself\u001b[39m\u001b[38;5;241m.\u001b[39m_takeable)\n\u001b[1;32m-> 1147\u001b[0m     \u001b[38;5;28;01mreturn\u001b[39;00m \u001b[38;5;28mself\u001b[39m\u001b[38;5;241m.\u001b[39m_getitem_tuple(key)\n\u001b[0;32m   1148\u001b[0m \u001b[38;5;28;01melse\u001b[39;00m:\n\u001b[0;32m   1149\u001b[0m     \u001b[38;5;66;03m# we by definition only have the 0th axis\u001b[39;00m\n\u001b[0;32m   1150\u001b[0m     axis \u001b[38;5;241m=\u001b[39m \u001b[38;5;28mself\u001b[39m\u001b[38;5;241m.\u001b[39maxis \u001b[38;5;129;01mor\u001b[39;00m \u001b[38;5;241m0\u001b[39m\n",
      "File \u001b[1;32m~\\AppData\\Local\\anaconda3\\Lib\\site-packages\\pandas\\core\\indexing.py:1339\u001b[0m, in \u001b[0;36m_LocIndexer._getitem_tuple\u001b[1;34m(self, tup)\u001b[0m\n\u001b[0;32m   1336\u001b[0m \u001b[38;5;28;01mif\u001b[39;00m \u001b[38;5;28mself\u001b[39m\u001b[38;5;241m.\u001b[39m_multi_take_opportunity(tup):\n\u001b[0;32m   1337\u001b[0m     \u001b[38;5;28;01mreturn\u001b[39;00m \u001b[38;5;28mself\u001b[39m\u001b[38;5;241m.\u001b[39m_multi_take(tup)\n\u001b[1;32m-> 1339\u001b[0m \u001b[38;5;28;01mreturn\u001b[39;00m \u001b[38;5;28mself\u001b[39m\u001b[38;5;241m.\u001b[39m_getitem_tuple_same_dim(tup)\n",
      "File \u001b[1;32m~\\AppData\\Local\\anaconda3\\Lib\\site-packages\\pandas\\core\\indexing.py:994\u001b[0m, in \u001b[0;36m_LocationIndexer._getitem_tuple_same_dim\u001b[1;34m(self, tup)\u001b[0m\n\u001b[0;32m    991\u001b[0m \u001b[38;5;28;01mif\u001b[39;00m com\u001b[38;5;241m.\u001b[39mis_null_slice(key):\n\u001b[0;32m    992\u001b[0m     \u001b[38;5;28;01mcontinue\u001b[39;00m\n\u001b[1;32m--> 994\u001b[0m retval \u001b[38;5;241m=\u001b[39m \u001b[38;5;28mgetattr\u001b[39m(retval, \u001b[38;5;28mself\u001b[39m\u001b[38;5;241m.\u001b[39mname)\u001b[38;5;241m.\u001b[39m_getitem_axis(key, axis\u001b[38;5;241m=\u001b[39mi)\n\u001b[0;32m    995\u001b[0m \u001b[38;5;66;03m# We should never have retval.ndim < self.ndim, as that should\u001b[39;00m\n\u001b[0;32m    996\u001b[0m \u001b[38;5;66;03m#  be handled by the _getitem_lowerdim call above.\u001b[39;00m\n\u001b[0;32m    997\u001b[0m \u001b[38;5;28;01massert\u001b[39;00m retval\u001b[38;5;241m.\u001b[39mndim \u001b[38;5;241m==\u001b[39m \u001b[38;5;28mself\u001b[39m\u001b[38;5;241m.\u001b[39mndim\n",
      "File \u001b[1;32m~\\AppData\\Local\\anaconda3\\Lib\\site-packages\\pandas\\core\\indexing.py:1373\u001b[0m, in \u001b[0;36m_LocIndexer._getitem_axis\u001b[1;34m(self, key, axis)\u001b[0m\n\u001b[0;32m   1371\u001b[0m \u001b[38;5;28;01mif\u001b[39;00m \u001b[38;5;28misinstance\u001b[39m(key, \u001b[38;5;28mslice\u001b[39m):\n\u001b[0;32m   1372\u001b[0m     \u001b[38;5;28mself\u001b[39m\u001b[38;5;241m.\u001b[39m_validate_key(key, axis)\n\u001b[1;32m-> 1373\u001b[0m     \u001b[38;5;28;01mreturn\u001b[39;00m \u001b[38;5;28mself\u001b[39m\u001b[38;5;241m.\u001b[39m_get_slice_axis(key, axis\u001b[38;5;241m=\u001b[39maxis)\n\u001b[0;32m   1374\u001b[0m \u001b[38;5;28;01melif\u001b[39;00m com\u001b[38;5;241m.\u001b[39mis_bool_indexer(key):\n\u001b[0;32m   1375\u001b[0m     \u001b[38;5;28;01mreturn\u001b[39;00m \u001b[38;5;28mself\u001b[39m\u001b[38;5;241m.\u001b[39m_getbool_axis(key, axis\u001b[38;5;241m=\u001b[39maxis)\n",
      "File \u001b[1;32m~\\AppData\\Local\\anaconda3\\Lib\\site-packages\\pandas\\core\\indexing.py:1405\u001b[0m, in \u001b[0;36m_LocIndexer._get_slice_axis\u001b[1;34m(self, slice_obj, axis)\u001b[0m\n\u001b[0;32m   1402\u001b[0m     \u001b[38;5;28;01mreturn\u001b[39;00m obj\u001b[38;5;241m.\u001b[39mcopy(deep\u001b[38;5;241m=\u001b[39m\u001b[38;5;28;01mFalse\u001b[39;00m)\n\u001b[0;32m   1404\u001b[0m labels \u001b[38;5;241m=\u001b[39m obj\u001b[38;5;241m.\u001b[39m_get_axis(axis)\n\u001b[1;32m-> 1405\u001b[0m indexer \u001b[38;5;241m=\u001b[39m labels\u001b[38;5;241m.\u001b[39mslice_indexer(slice_obj\u001b[38;5;241m.\u001b[39mstart, slice_obj\u001b[38;5;241m.\u001b[39mstop, slice_obj\u001b[38;5;241m.\u001b[39mstep)\n\u001b[0;32m   1407\u001b[0m \u001b[38;5;28;01mif\u001b[39;00m \u001b[38;5;28misinstance\u001b[39m(indexer, \u001b[38;5;28mslice\u001b[39m):\n\u001b[0;32m   1408\u001b[0m     \u001b[38;5;28;01mreturn\u001b[39;00m \u001b[38;5;28mself\u001b[39m\u001b[38;5;241m.\u001b[39mobj\u001b[38;5;241m.\u001b[39m_slice(indexer, axis\u001b[38;5;241m=\u001b[39maxis)\n",
      "File \u001b[1;32m~\\AppData\\Local\\anaconda3\\Lib\\site-packages\\pandas\\core\\indexes\\base.py:6602\u001b[0m, in \u001b[0;36mIndex.slice_indexer\u001b[1;34m(self, start, end, step)\u001b[0m\n\u001b[0;32m   6558\u001b[0m \u001b[38;5;28;01mdef\u001b[39;00m \u001b[38;5;21mslice_indexer\u001b[39m(\n\u001b[0;32m   6559\u001b[0m     \u001b[38;5;28mself\u001b[39m,\n\u001b[0;32m   6560\u001b[0m     start: Hashable \u001b[38;5;241m|\u001b[39m \u001b[38;5;28;01mNone\u001b[39;00m \u001b[38;5;241m=\u001b[39m \u001b[38;5;28;01mNone\u001b[39;00m,\n\u001b[0;32m   6561\u001b[0m     end: Hashable \u001b[38;5;241m|\u001b[39m \u001b[38;5;28;01mNone\u001b[39;00m \u001b[38;5;241m=\u001b[39m \u001b[38;5;28;01mNone\u001b[39;00m,\n\u001b[0;32m   6562\u001b[0m     step: \u001b[38;5;28mint\u001b[39m \u001b[38;5;241m|\u001b[39m \u001b[38;5;28;01mNone\u001b[39;00m \u001b[38;5;241m=\u001b[39m \u001b[38;5;28;01mNone\u001b[39;00m,\n\u001b[0;32m   6563\u001b[0m ) \u001b[38;5;241m-\u001b[39m\u001b[38;5;241m>\u001b[39m \u001b[38;5;28mslice\u001b[39m:\n\u001b[0;32m   6564\u001b[0m \u001b[38;5;250m    \u001b[39m\u001b[38;5;124;03m\"\"\"\u001b[39;00m\n\u001b[0;32m   6565\u001b[0m \u001b[38;5;124;03m    Compute the slice indexer for input labels and step.\u001b[39;00m\n\u001b[0;32m   6566\u001b[0m \n\u001b[1;32m   (...)\u001b[0m\n\u001b[0;32m   6600\u001b[0m \u001b[38;5;124;03m    slice(1, 3, None)\u001b[39;00m\n\u001b[0;32m   6601\u001b[0m \u001b[38;5;124;03m    \"\"\"\u001b[39;00m\n\u001b[1;32m-> 6602\u001b[0m     start_slice, end_slice \u001b[38;5;241m=\u001b[39m \u001b[38;5;28mself\u001b[39m\u001b[38;5;241m.\u001b[39mslice_locs(start, end, step\u001b[38;5;241m=\u001b[39mstep)\n\u001b[0;32m   6604\u001b[0m     \u001b[38;5;66;03m# return a slice\u001b[39;00m\n\u001b[0;32m   6605\u001b[0m     \u001b[38;5;28;01mif\u001b[39;00m \u001b[38;5;129;01mnot\u001b[39;00m is_scalar(start_slice):\n",
      "File \u001b[1;32m~\\AppData\\Local\\anaconda3\\Lib\\site-packages\\pandas\\core\\indexes\\base.py:6819\u001b[0m, in \u001b[0;36mIndex.slice_locs\u001b[1;34m(self, start, end, step)\u001b[0m\n\u001b[0;32m   6817\u001b[0m start_slice \u001b[38;5;241m=\u001b[39m \u001b[38;5;28;01mNone\u001b[39;00m\n\u001b[0;32m   6818\u001b[0m \u001b[38;5;28;01mif\u001b[39;00m start \u001b[38;5;129;01mis\u001b[39;00m \u001b[38;5;129;01mnot\u001b[39;00m \u001b[38;5;28;01mNone\u001b[39;00m:\n\u001b[1;32m-> 6819\u001b[0m     start_slice \u001b[38;5;241m=\u001b[39m \u001b[38;5;28mself\u001b[39m\u001b[38;5;241m.\u001b[39mget_slice_bound(start, \u001b[38;5;124m\"\u001b[39m\u001b[38;5;124mleft\u001b[39m\u001b[38;5;124m\"\u001b[39m)\n\u001b[0;32m   6820\u001b[0m \u001b[38;5;28;01mif\u001b[39;00m start_slice \u001b[38;5;129;01mis\u001b[39;00m \u001b[38;5;28;01mNone\u001b[39;00m:\n\u001b[0;32m   6821\u001b[0m     start_slice \u001b[38;5;241m=\u001b[39m \u001b[38;5;241m0\u001b[39m\n",
      "File \u001b[1;32m~\\AppData\\Local\\anaconda3\\Lib\\site-packages\\pandas\\core\\indexes\\base.py:6744\u001b[0m, in \u001b[0;36mIndex.get_slice_bound\u001b[1;34m(self, label, side)\u001b[0m\n\u001b[0;32m   6741\u001b[0m         \u001b[38;5;28;01mreturn\u001b[39;00m \u001b[38;5;28mself\u001b[39m\u001b[38;5;241m.\u001b[39m_searchsorted_monotonic(label, side)\n\u001b[0;32m   6742\u001b[0m     \u001b[38;5;28;01mexcept\u001b[39;00m \u001b[38;5;167;01mValueError\u001b[39;00m:\n\u001b[0;32m   6743\u001b[0m         \u001b[38;5;66;03m# raise the original KeyError\u001b[39;00m\n\u001b[1;32m-> 6744\u001b[0m         \u001b[38;5;28;01mraise\u001b[39;00m err\n\u001b[0;32m   6746\u001b[0m \u001b[38;5;28;01mif\u001b[39;00m \u001b[38;5;28misinstance\u001b[39m(slc, np\u001b[38;5;241m.\u001b[39mndarray):\n\u001b[0;32m   6747\u001b[0m     \u001b[38;5;66;03m# get_loc may return a boolean array, which\u001b[39;00m\n\u001b[0;32m   6748\u001b[0m     \u001b[38;5;66;03m# is OK as long as they are representable by a slice.\u001b[39;00m\n\u001b[0;32m   6749\u001b[0m     \u001b[38;5;28;01massert\u001b[39;00m is_bool_dtype(slc\u001b[38;5;241m.\u001b[39mdtype)\n",
      "File \u001b[1;32m~\\AppData\\Local\\anaconda3\\Lib\\site-packages\\pandas\\core\\indexes\\base.py:6738\u001b[0m, in \u001b[0;36mIndex.get_slice_bound\u001b[1;34m(self, label, side)\u001b[0m\n\u001b[0;32m   6736\u001b[0m \u001b[38;5;66;03m# we need to look up the label\u001b[39;00m\n\u001b[0;32m   6737\u001b[0m \u001b[38;5;28;01mtry\u001b[39;00m:\n\u001b[1;32m-> 6738\u001b[0m     slc \u001b[38;5;241m=\u001b[39m \u001b[38;5;28mself\u001b[39m\u001b[38;5;241m.\u001b[39mget_loc(label)\n\u001b[0;32m   6739\u001b[0m \u001b[38;5;28;01mexcept\u001b[39;00m \u001b[38;5;167;01mKeyError\u001b[39;00m \u001b[38;5;28;01mas\u001b[39;00m err:\n\u001b[0;32m   6740\u001b[0m     \u001b[38;5;28;01mtry\u001b[39;00m:\n",
      "File \u001b[1;32m~\\AppData\\Local\\anaconda3\\Lib\\site-packages\\pandas\\core\\indexes\\base.py:3798\u001b[0m, in \u001b[0;36mIndex.get_loc\u001b[1;34m(self, key)\u001b[0m\n\u001b[0;32m   3793\u001b[0m     \u001b[38;5;28;01mif\u001b[39;00m \u001b[38;5;28misinstance\u001b[39m(casted_key, \u001b[38;5;28mslice\u001b[39m) \u001b[38;5;129;01mor\u001b[39;00m (\n\u001b[0;32m   3794\u001b[0m         \u001b[38;5;28misinstance\u001b[39m(casted_key, abc\u001b[38;5;241m.\u001b[39mIterable)\n\u001b[0;32m   3795\u001b[0m         \u001b[38;5;129;01mand\u001b[39;00m \u001b[38;5;28many\u001b[39m(\u001b[38;5;28misinstance\u001b[39m(x, \u001b[38;5;28mslice\u001b[39m) \u001b[38;5;28;01mfor\u001b[39;00m x \u001b[38;5;129;01min\u001b[39;00m casted_key)\n\u001b[0;32m   3796\u001b[0m     ):\n\u001b[0;32m   3797\u001b[0m         \u001b[38;5;28;01mraise\u001b[39;00m InvalidIndexError(key)\n\u001b[1;32m-> 3798\u001b[0m     \u001b[38;5;28;01mraise\u001b[39;00m \u001b[38;5;167;01mKeyError\u001b[39;00m(key) \u001b[38;5;28;01mfrom\u001b[39;00m \u001b[38;5;21;01merr\u001b[39;00m\n\u001b[0;32m   3799\u001b[0m \u001b[38;5;28;01mexcept\u001b[39;00m \u001b[38;5;167;01mTypeError\u001b[39;00m:\n\u001b[0;32m   3800\u001b[0m     \u001b[38;5;66;03m# If we have a listlike key, _check_indexing_error will raise\u001b[39;00m\n\u001b[0;32m   3801\u001b[0m     \u001b[38;5;66;03m#  InvalidIndexError. Otherwise we fall through and re-raise\u001b[39;00m\n\u001b[0;32m   3802\u001b[0m     \u001b[38;5;66;03m#  the TypeError.\u001b[39;00m\n\u001b[0;32m   3803\u001b[0m     \u001b[38;5;28mself\u001b[39m\u001b[38;5;241m.\u001b[39m_check_indexing_error(key)\n",
      "\u001b[1;31mKeyError\u001b[0m: 'nidhi'"
     ]
    }
   ],
   "source": [
    "r.loc['nidhi':'ravi','SALARY':'rank']"
   ]
  },
  {
   "cell_type": "code",
   "execution_count": null,
   "id": "3b8cfecb-7465-498b-964a-8ae753a50c55",
   "metadata": {},
   "outputs": [],
   "source": [
    "# HMNE YAHA INDEX KO TEXT BNA DIYA"
   ]
  },
  {
   "cell_type": "code",
   "execution_count": null,
   "id": "ffeaab1d-243b-4b73-bfe3-3c6e3c9a2596",
   "metadata": {},
   "outputs": [],
   "source": [
    "# sample:sample yaha randomly hota hai.isko hm jitni bar hi run krege wo update hota rhega"
   ]
  },
  {
   "cell_type": "code",
   "execution_count": null,
   "id": "048573e2-2f70-4379-aecd-0b013d3304d3",
   "metadata": {},
   "outputs": [],
   "source": [
    "df.sample(2)"
   ]
  },
  {
   "cell_type": "code",
   "execution_count": null,
   "id": "130e514a-fefc-4682-a243-babbfa343d77",
   "metadata": {},
   "outputs": [],
   "source": [
    "df2"
   ]
  },
  {
   "cell_type": "code",
   "execution_count": null,
   "id": "5d77e8e0-7657-4358-80eb-b144e5dfb081",
   "metadata": {},
   "outputs": [],
   "source": [
    "df2.drop_duplicates()"
   ]
  },
  {
   "cell_type": "code",
   "execution_count": null,
   "id": "613b9d8a-28d8-4d06-93a8-ac0211dae6b7",
   "metadata": {},
   "outputs": [],
   "source": [
    "df2[df2.duplicated(['LASTNAME'])]"
   ]
  },
  {
   "cell_type": "code",
   "execution_count": null,
   "id": "8401f19d-6807-4347-b851-07cb9d380844",
   "metadata": {},
   "outputs": [],
   "source": [
    "df2[df2.duplicated(['LASTNAME'],keep='last')]"
   ]
  },
  {
   "cell_type": "code",
   "execution_count": null,
   "id": "9c56c7ac-80aa-4f93-9d39-fedb48c1510f",
   "metadata": {},
   "outputs": [],
   "source": [
    "df2"
   ]
  },
  {
   "cell_type": "code",
   "execution_count": null,
   "id": "571552d3-05a8-4e02-858b-a22e061ecdce",
   "metadata": {},
   "outputs": [],
   "source": [
    "df2.sort_values(['SALARY','NAME'],ascending=[False,True])"
   ]
  },
  {
   "cell_type": "code",
   "execution_count": null,
   "id": "5bb17191-5419-4800-ba9f-eda572cb4242",
   "metadata": {},
   "outputs": [],
   "source": [
    "# ab hm jiski salary 60000 se jyda ho wo log aa jae"
   ]
  },
  {
   "cell_type": "code",
   "execution_count": null,
   "id": "496db5d0-8729-456f-bd7a-a09011f97eff",
   "metadata": {},
   "outputs": [],
   "source": [
    "df2[(df2['SALARY']>5000)&(df2['SALARY']<50000)]"
   ]
  },
  {
   "cell_type": "code",
   "execution_count": null,
   "id": "bcd46dba-ceae-4e10-be04-014b17599371",
   "metadata": {},
   "outputs": [],
   "source": [
    "df2[(df2['SALARY']>5000)|(df2['SALARY']<50000)]"
   ]
  },
  {
   "cell_type": "code",
   "execution_count": null,
   "id": "7d18f450-e575-404d-b748-529546138642",
   "metadata": {},
   "outputs": [],
   "source": [
    "df2[(df2['NAME']=='Ravi')&(df2['LASTNAME']=='rai')]"
   ]
  },
  {
   "cell_type": "code",
   "execution_count": null,
   "id": "74a3538e-3c8b-4990-905e-285e87a5b289",
   "metadata": {},
   "outputs": [],
   "source": [
    "df2[(df2['NAME']=='Ravi')|(df2['LASTNAME']=='pandey')]"
   ]
  },
  {
   "cell_type": "code",
   "execution_count": null,
   "id": "16078fc3-f20e-4b2c-8e45-ff770971131e",
   "metadata": {},
   "outputs": [],
   "source": [
    "df2"
   ]
  },
  {
   "cell_type": "code",
   "execution_count": null,
   "id": "72b94a81-8943-4425-8d4e-f5de97028ca2",
   "metadata": {},
   "outputs": [],
   "source": [
    "df2[df2['NAME'].isin(['nidhi','garima','ravi'])]"
   ]
  },
  {
   "cell_type": "code",
   "execution_count": null,
   "id": "c593dbf6-5d5c-4d69-a41f-ea10b36524f7",
   "metadata": {},
   "outputs": [],
   "source": [
    "df2"
   ]
  },
  {
   "cell_type": "code",
   "execution_count": null,
   "id": "c2050e29-92ff-4a5a-bbf1-1fb5f35e6520",
   "metadata": {},
   "outputs": [],
   "source": [
    "# ############14/6/2024###########################"
   ]
  },
  {
   "cell_type": "code",
   "execution_count": null,
   "id": "43f2588b-3fb9-44ce-b706-b264c96c3ec1",
   "metadata": {},
   "outputs": [],
   "source": [
    "df2"
   ]
  },
  {
   "cell_type": "code",
   "execution_count": null,
   "id": "e4e8a03e-6a59-4dc2-af5e-171207f33198",
   "metadata": {},
   "outputs": [],
   "source": [
    "df2[~df2['NAME'].isin(['nidhi','garima','ravi'])]\n",
    "df2"
   ]
  },
  {
   "cell_type": "code",
   "execution_count": null,
   "id": "57ca05a4-a1e2-42e4-9c5d-f49564455969",
   "metadata": {},
   "outputs": [],
   "source": [
    "df2.rename(columns={'SALARY':'Amount','Basicsal':'Totalsal'})\n",
    "df2"
   ]
  },
  {
   "cell_type": "code",
   "execution_count": null,
   "id": "5b9e97cb-5cf8-4276-a73e-9f2c5a14b680",
   "metadata": {},
   "outputs": [],
   "source": [
    "df2"
   ]
  },
  {
   "cell_type": "code",
   "execution_count": null,
   "id": "55ca1bd5-2844-4191-bf9b-aab9f89ece49",
   "metadata": {},
   "outputs": [],
   "source": [
    "# SERIES METHOD:SERIES REPRESENT YOUR DATA INTO  1-D ARRARY.SERIES WILL BE WORK ON INDEX."
   ]
  },
  {
   "cell_type": "code",
   "execution_count": null,
   "id": "b26abc7b-37cd-4102-86c7-0d0661830f7f",
   "metadata": {},
   "outputs": [],
   "source": [
    "import numpy as np"
   ]
  },
  {
   "cell_type": "code",
   "execution_count": null,
   "id": "7348bed4-403d-485d-acd9-7ba81d3ba1cc",
   "metadata": {},
   "outputs": [],
   "source": [
    "s=np.array([5,6,7,8,1])\n",
    "s"
   ]
  },
  {
   "cell_type": "code",
   "execution_count": null,
   "id": "209f9a10-55e6-4726-8219-524e189cffa9",
   "metadata": {},
   "outputs": [],
   "source": [
    "s2=np.array([2,3,4,5,7])\n",
    "s2"
   ]
  },
  {
   "cell_type": "code",
   "execution_count": null,
   "id": "804608b4-6a30-4ed4-b2b6-5f0014bc3045",
   "metadata": {},
   "outputs": [],
   "source": [
    "s+s2"
   ]
  },
  {
   "cell_type": "code",
   "execution_count": null,
   "id": "70d68663-34fd-4a09-8665-5fa884d10a4f",
   "metadata": {},
   "outputs": [],
   "source": [
    "import pandas as pd"
   ]
  },
  {
   "cell_type": "code",
   "execution_count": null,
   "id": "131a6cc4-78f0-4706-9853-67d663911ba5",
   "metadata": {},
   "outputs": [],
   "source": [
    "t=pd.Series([4,5,6,2,1],index=['A','B','C','D','E'])\n",
    "t"
   ]
  },
  {
   "cell_type": "code",
   "execution_count": null,
   "id": "bf475c89-b3a4-478d-ae9e-a3614462e9ef",
   "metadata": {},
   "outputs": [],
   "source": [
    "t.ndim"
   ]
  },
  {
   "cell_type": "code",
   "execution_count": null,
   "id": "59813b9d-4cd2-416e-8768-60c0932409eb",
   "metadata": {},
   "outputs": [],
   "source": [
    "t2=pd.Series([6,7,8,9,4],index=['x','y','A','N','E'])\n",
    "t2"
   ]
  },
  {
   "cell_type": "code",
   "execution_count": null,
   "id": "1b3acd2c-1c04-413b-a0e4-0af6601256e4",
   "metadata": {},
   "outputs": [],
   "source": [
    "t+t2"
   ]
  },
  {
   "cell_type": "code",
   "execution_count": null,
   "id": "6bb2d0f8-f27c-4090-bb7d-2008c15edb0f",
   "metadata": {},
   "outputs": [],
   "source": [
    "df2"
   ]
  },
  {
   "cell_type": "code",
   "execution_count": null,
   "id": "2cff6c83-c279-4125-9367-15c12379fbd1",
   "metadata": {},
   "outputs": [],
   "source": [
    "g=df2['NAME']\n",
    "g"
   ]
  },
  {
   "cell_type": "code",
   "execution_count": null,
   "id": "94b8ed36-649a-4ad3-8dbf-a72458b38141",
   "metadata": {},
   "outputs": [],
   "source": [
    "g=df2['NAME']\n",
    "g2=list(g)\n",
    "g2"
   ]
  },
  {
   "cell_type": "code",
   "execution_count": null,
   "id": "b6f0ddfd-4584-4df4-a767-5a55f2e67eba",
   "metadata": {},
   "outputs": [],
   "source": [
    "len(g2)"
   ]
  },
  {
   "cell_type": "code",
   "execution_count": null,
   "id": "00232722-b539-4d37-a458-64e22f97958a",
   "metadata": {},
   "outputs": [],
   "source": [
    "r=['A','B','C','D','E','F','G','H','I','J','K','L','M','N','O','P','Q','R']\n",
    "len(r)"
   ]
  },
  {
   "cell_type": "code",
   "execution_count": null,
   "id": "0f85883c-d410-44c6-a8fc-e0388ee17cd8",
   "metadata": {},
   "outputs": [],
   "source": [
    "m=pd.Series(g2,index=r)\n",
    "m"
   ]
  },
  {
   "cell_type": "code",
   "execution_count": null,
   "id": "7f6ccc04-b958-4944-af02-deb1fb780af8",
   "metadata": {},
   "outputs": [],
   "source": [
    "df2"
   ]
  },
  {
   "cell_type": "code",
   "execution_count": null,
   "id": "1662e9d9-3cb5-41ac-9dd7-082ebb96823e",
   "metadata": {},
   "outputs": [],
   "source": [
    "df2['Index']=r"
   ]
  },
  {
   "cell_type": "code",
   "execution_count": null,
   "id": "1370f09f-4dfc-40a8-8d48-d8f7fca80248",
   "metadata": {},
   "outputs": [],
   "source": [
    "df2"
   ]
  },
  {
   "cell_type": "code",
   "execution_count": null,
   "id": "26578cc9-3bdf-440c-bb11-49c585d99b00",
   "metadata": {},
   "outputs": [],
   "source": [
    "df2.set_index('Index')"
   ]
  },
  {
   "cell_type": "code",
   "execution_count": null,
   "id": "0ae1554d-3217-4217-959f-c4a987113ee3",
   "metadata": {},
   "outputs": [],
   "source": [
    "df2"
   ]
  },
  {
   "cell_type": "code",
   "execution_count": null,
   "id": "33203275-3ce3-4f4f-bba6-1e8d0b547501",
   "metadata": {},
   "outputs": [],
   "source": [
    "# GROUP BY:GROUP BY MEANS JB HM KISI DATA KA GROUP BY KRTE HAI TO WO CATEGORIZED WISE HO JATA HAI"
   ]
  },
  {
   "cell_type": "code",
   "execution_count": null,
   "id": "072f60dd-b7dd-489c-87ff-5a0e8cabd472",
   "metadata": {},
   "outputs": [],
   "source": [
    "import pandas as pd"
   ]
  },
  {
   "cell_type": "code",
   "execution_count": null,
   "id": "d0314a74-fd16-4cd0-86ec-c9b39b8a8d66",
   "metadata": {},
   "outputs": [],
   "source": [
    "ipl_data = {'Team':['Riders','Riders','Devils','Devils','kings','kings','kings','kings','Riders','Royals','Royals','Riders'],\n",
    "            'Rank':[1,2,2,3,3,4,1,1,2,4,1,2],\n",
    "            'Year':[2014,2015,2014,2015,2014,2015,2016,2017,2016,2014,2015,2017],\n",
    "            'Points':[876,789,863,673,741,812,756,788,694,701,804,690]}\n",
    "df=pd.DataFrame(ipl_data)\n",
    "df"
   ]
  },
  {
   "cell_type": "code",
   "execution_count": null,
   "id": "e5572781-f58d-4731-b579-045d9e54de64",
   "metadata": {},
   "outputs": [],
   "source": [
    "t=df.groupby(['Year'])\n",
    "t"
   ]
  },
  {
   "cell_type": "code",
   "execution_count": null,
   "id": "a1054810-f179-48a1-861e-81e198b7fe11",
   "metadata": {},
   "outputs": [],
   "source": [
    "for i,j in t:\n",
    "    print(i)\n",
    "    print(j)"
   ]
  },
  {
   "cell_type": "code",
   "execution_count": null,
   "id": "9bc310ee-5f64-41b5-a290-abe3cec4e308",
   "metadata": {},
   "outputs": [],
   "source": [
    "t2=df.groupby(['Team'])\n",
    "t2"
   ]
  },
  {
   "cell_type": "code",
   "execution_count": null,
   "id": "b651a18d-efdd-4afa-8b59-1f7250ab837a",
   "metadata": {},
   "outputs": [],
   "source": [
    "for i,j in t2:\n",
    "    print(i)\n",
    "    print(j)"
   ]
  },
  {
   "cell_type": "code",
   "execution_count": null,
   "id": "933bb4a8-0514-41d9-8a35-516528e2a9ff",
   "metadata": {},
   "outputs": [],
   "source": [
    "t['Team'].value_counts()"
   ]
  },
  {
   "cell_type": "code",
   "execution_count": null,
   "id": "e6a39d92-41c1-4cec-a27c-ace71c53241b",
   "metadata": {},
   "outputs": [],
   "source": [
    "ipl_data = {'Team':['Riders','Riders','Devils','Devils','kings','kings','kings','kings','Riders','Royals','Royals','Riders'],\n",
    "            'Rank':[1,2,2,3,3,4,1,1,2,4,1,2],\n",
    "            'Year':[2014,2014,2014,2015,2014,2015,2016,2017,2016,2014,2015,2017],\n",
    "            'Points':[876,789,863,673,741,812,756,788,694,701,804,690]}\n",
    "df=pd.DataFrame(ipl_data)\n",
    "df"
   ]
  },
  {
   "cell_type": "code",
   "execution_count": null,
   "id": "f7cd56cd-274e-48b0-b3f0-7dfb81b552f8",
   "metadata": {},
   "outputs": [],
   "source": [
    "t2=df.groupby(['Year'])\n",
    "t2"
   ]
  },
  {
   "cell_type": "code",
   "execution_count": null,
   "id": "ee3cd5a4-72cf-4461-8c2b-e33eb928e156",
   "metadata": {},
   "outputs": [],
   "source": [
    "t2['Team'].value_counts()"
   ]
  },
  {
   "cell_type": "code",
   "execution_count": null,
   "id": "4bdbaa52-f290-4110-81e8-64ebee065d35",
   "metadata": {},
   "outputs": [],
   "source": [
    "t=df.groupby(['Team'])\n",
    "t"
   ]
  },
  {
   "cell_type": "code",
   "execution_count": null,
   "id": "86e86645-443f-422b-8940-d4b956e86b8a",
   "metadata": {},
   "outputs": [],
   "source": [
    "for i, j in t:\n",
    "    print(i)\n",
    "    print(j)"
   ]
  },
  {
   "cell_type": "code",
   "execution_count": null,
   "id": "c0c7cba6-91e9-4ec2-9230-379701092e18",
   "metadata": {},
   "outputs": [],
   "source": [
    "t['Points'].sum()"
   ]
  },
  {
   "cell_type": "code",
   "execution_count": null,
   "id": "dd64e981-4c21-4bfa-8f29-0a74c0849e73",
   "metadata": {},
   "outputs": [],
   "source": [
    "p=t['Points'].sum()\n",
    "p"
   ]
  },
  {
   "cell_type": "code",
   "execution_count": null,
   "id": "2826bb94-c026-4e46-913c-eeae3361063d",
   "metadata": {},
   "outputs": [],
   "source": [
    "type(p)"
   ]
  },
  {
   "cell_type": "code",
   "execution_count": null,
   "id": "7f716436-afbd-4451-9b3c-a9a75778599f",
   "metadata": {},
   "outputs": [],
   "source": [
    "df=pd.DataFrame(p)\n",
    "df"
   ]
  },
  {
   "cell_type": "code",
   "execution_count": null,
   "id": "f0d8497c-38c1-49b8-a08b-42e2ad33fc05",
   "metadata": {},
   "outputs": [],
   "source": [
    "df.sort_values('Points',ascending=False)\n"
   ]
  },
  {
   "cell_type": "code",
   "execution_count": null,
   "id": "1fdf335e-79e9-4ec7-bb35-926d64ccb3d8",
   "metadata": {},
   "outputs": [],
   "source": [
    "df.sort_values('Points',ascending=False).head(1)"
   ]
  },
  {
   "cell_type": "code",
   "execution_count": null,
   "id": "a2e1485d-3c38-4ffe-b8e5-1647fc404015",
   "metadata": {},
   "outputs": [],
   "source": [
    "df[df.Points==df['Points'].max()]\n",
    "df"
   ]
  },
  {
   "cell_type": "code",
   "execution_count": null,
   "id": "a3606bb3-25a5-4c42-a0a7-ac3a57307301",
   "metadata": {},
   "outputs": [],
   "source": [
    "s=df.groupby(['Year','Team'])\n",
    "s"
   ]
  },
  {
   "cell_type": "code",
   "execution_count": null,
   "id": "86e5e2e1-4192-40f4-bd4e-97af2036cc21",
   "metadata": {},
   "outputs": [],
   "source": [
    "for i ,j in s:\n",
    "    print(i)\n",
    "    print(j)\n",
    "    "
   ]
  },
  {
   "cell_type": "code",
   "execution_count": null,
   "id": "c5c05d0f-43dd-4819-8e38-18408472d559",
   "metadata": {},
   "outputs": [],
   "source": [
    "s=df.groupby(['Year'])\n",
    "s"
   ]
  },
  {
   "cell_type": "code",
   "execution_count": null,
   "id": "f8234146-a717-425c-8fe5-ac5162c89b69",
   "metadata": {},
   "outputs": [],
   "source": [
    "r=s[['Team','Points']].sum()\n",
    "r"
   ]
  },
  {
   "cell_type": "code",
   "execution_count": null,
   "id": "7d8af8a3-8e77-4300-bbba-3938bdafbcaf",
   "metadata": {},
   "outputs": [],
   "source": [
    "df.groupby(['Year','Team',])[['Points']].sum()"
   ]
  },
  {
   "cell_type": "code",
   "execution_count": null,
   "id": "0943b917-07f4-4bf6-b3c1-d9b5a1f2837c",
   "metadata": {},
   "outputs": [],
   "source": [
    "df"
   ]
  },
  {
   "cell_type": "code",
   "execution_count": null,
   "id": "a3b32ec4-fc46-4da5-9698-993a3ad778a2",
   "metadata": {},
   "outputs": [],
   "source": [
    "df[df.Points==df['Points'].max()]"
   ]
  },
  {
   "cell_type": "code",
   "execution_count": null,
   "id": "f5811f2b-560b-48ce-8428-5ded029932d9",
   "metadata": {},
   "outputs": [],
   "source": [
    "# PIVOT TABLE:SUMMARIZATION OF OVERALL DATA WITH AGGREGATION FUNCTION IS CALLED PIVOT TABLE."
   ]
  },
  {
   "cell_type": "code",
   "execution_count": null,
   "id": "b89826c0-2e6d-4aeb-9942-afcbc193683f",
   "metadata": {},
   "outputs": [],
   "source": [
    "df.pivot_table(index='Team')               "
   ]
  },
  {
   "cell_type": "code",
   "execution_count": null,
   "id": "2733be5c-0a64-4fa1-89bd-4cb604f89d45",
   "metadata": {},
   "outputs": [],
   "source": [
    "df[['Points','Team']].pivot_table(index='Team')  "
   ]
  },
  {
   "cell_type": "code",
   "execution_count": null,
   "id": "1b19e360-dd89-417c-aa9a-d761be824050",
   "metadata": {},
   "outputs": [],
   "source": [
    "df[['Points','Year']].pivot_table(index='Year',aggfunc=\"sum\")  "
   ]
  },
  {
   "cell_type": "code",
   "execution_count": null,
   "id": "ef12522b-c892-406a-9f38-1e100c5604f5",
   "metadata": {},
   "outputs": [],
   "source": [
    "df"
   ]
  },
  {
   "cell_type": "code",
   "execution_count": null,
   "id": "e7d911d2-e173-414d-8336-382c99a66393",
   "metadata": {},
   "outputs": [],
   "source": [
    "df2"
   ]
  },
  {
   "cell_type": "code",
   "execution_count": null,
   "id": "2a7760f7-b27b-44d8-b8b1-ff8997cf172e",
   "metadata": {},
   "outputs": [],
   "source": []
  },
  {
   "cell_type": "code",
   "execution_count": null,
   "id": "8f8254fd-b05d-47d3-827f-6175eaa48537",
   "metadata": {},
   "outputs": [],
   "source": []
  },
  {
   "cell_type": "code",
   "execution_count": null,
   "id": "490e4079-c15f-4673-8034-66ac8f7b3697",
   "metadata": {},
   "outputs": [],
   "source": [
    "df"
   ]
  },
  {
   "cell_type": "code",
   "execution_count": null,
   "id": "18fea07c-eacf-4998-baca-07301795589a",
   "metadata": {},
   "outputs": [],
   "source": [
    "df.pivot_table(index='Team',columns='Year',aggfunc='max',fill_value=0)"
   ]
  },
  {
   "cell_type": "code",
   "execution_count": null,
   "id": "46c37d88-abe5-445a-ad63-5104675c9a4e",
   "metadata": {},
   "outputs": [],
   "source": [
    "df.pivot_table(index='Team',columns='Year',aggfunc='count',fill_value=0)\n",
    "df.pivot_table(index='Team',columns='Year',aggfunc='max',fill_value=0)\n",
    "df.pivot_table(index='Team',columns='Year',aggfunc='sum',fill_value=0,margins=True)"
   ]
  },
  {
   "cell_type": "code",
   "execution_count": null,
   "id": "ebc0f891-a613-42d1-b018-17c359d2b606",
   "metadata": {},
   "outputs": [],
   "source": [
    "concatenate\n",
    "join\n",
    "\n",
    "t=df.iloc[6:,0:]\n",
    "t2=df.iloc[0:6,0]\n",
    "\n",
    "p=df.concat([g,g2],axis=1)\n",
    "p\n",
    "\n",
    "# joins in pandas:pandas\n",
    "left join right join inner join full join"
   ]
  },
  {
   "cell_type": "code",
   "execution_count": null,
   "id": "0eed131a-d8be-4ef2-b653-04d60bb7bf38",
   "metadata": {},
   "outputs": [],
   "source": []
  },
  {
   "cell_type": "code",
   "execution_count": null,
   "id": "1fa1bfa7-1d75-4fea-9661-52901514fbdb",
   "metadata": {},
   "outputs": [],
   "source": []
  },
  {
   "cell_type": "code",
   "execution_count": null,
   "id": "f01fa5d7-8641-4f84-9349-0ad89aba45f3",
   "metadata": {},
   "outputs": [],
   "source": []
  }
 ],
 "metadata": {
  "kernelspec": {
   "display_name": "Python 3 (ipykernel)",
   "language": "python",
   "name": "python3"
  },
  "language_info": {
   "codemirror_mode": {
    "name": "ipython",
    "version": 3
   },
   "file_extension": ".py",
   "mimetype": "text/x-python",
   "name": "python",
   "nbconvert_exporter": "python",
   "pygments_lexer": "ipython3",
   "version": "3.12.4"
  }
 },
 "nbformat": 4,
 "nbformat_minor": 5
}
